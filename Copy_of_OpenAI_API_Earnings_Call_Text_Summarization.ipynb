{
  "cells": [
    {
      "cell_type": "markdown",
      "metadata": {
        "id": "2DaH21VVQAn6"
      },
      "source": [
        "# Getting Started with OpenAI: Earnings Call Summaries\n",
        "\n",
        "To use the OpenAI API from Python, we need to install the OpenAI Python package with pip."
      ]
    },
    {
      "cell_type": "code",
      "execution_count": null,
      "metadata": {
        "colab": {
          "base_uri": "https://localhost:8080/"
        },
        "id": "_0GzJ6PKQGY7",
        "outputId": "cdc3c5cc-eae6-40d5-8465-6100d9d328f4"
      },
      "outputs": [
        {
          "name": "stdout",
          "output_type": "stream",
          "text": [
            "\u001b[?25l     \u001b[90m━━━━━━━━━━━━━━━━━━━━━━━━━━━━━━━━━━━━━━━━\u001b[0m \u001b[32m0.0/73.6 kB\u001b[0m \u001b[31m?\u001b[0m eta \u001b[36m-:--:--\u001b[0m\r\u001b[2K     \u001b[90m━━━━━━━━━━━━━━━━━━━━━━━━━━━━━━━━━━━━━━━━\u001b[0m \u001b[32m73.6/73.6 kB\u001b[0m \u001b[31m2.7 MB/s\u001b[0m eta \u001b[36m0:00:00\u001b[0m\n",
            "\u001b[?25h"
          ]
        }
      ],
      "source": [
        "!pip install openai -q"
      ]
    },
    {
      "cell_type": "markdown",
      "metadata": {
        "id": "_N_go_d6QO4J"
      },
      "source": [
        "Once the openai package is installed, we need to import it."
      ]
    },
    {
      "cell_type": "code",
      "execution_count": null,
      "metadata": {
        "id": "0Mf6Hd-sP3L1"
      },
      "outputs": [],
      "source": [
        "import openai"
      ]
    },
    {
      "cell_type": "markdown",
      "metadata": {
        "id": "4T5hK1gwRLFX"
      },
      "source": [
        "## OpenAI API Keys\n",
        "\n",
        "To use the API, you need an API key. If you haven't already, sign up for OpenAI. Visit the [API page on openai.com](https://openai.com/api/) and sign up. Under your account, visit the API Keys page and click \"Create Secret Key\". OpenAI provides $18.00 of credits to start, which is enough to get started:\n",
        "\n",
        "\n",
        "\n",
        "\n",
        "\n",
        "\n",
        "\n"
      ]
    },
    {
      "cell_type": "markdown",
      "metadata": {
        "id": "8PIarAh5Ub1j"
      },
      "source": [
        "Now that we have an API key, we need to provide it to the OpenAI Python package. Since I want to input my API key without showing it here, I am going to import getpass and prompt myself for the API Key:"
      ]
    },
    {
      "cell_type": "code",
      "execution_count": null,
      "metadata": {
        "colab": {
          "base_uri": "https://localhost:8080/",
          "height": 324
        },
        "id": "hlthouEgRJMw",
        "outputId": "91093fb3-62c7-437a-b7ec-2fa31027f5e1"
      },
      "outputs": [
        {
          "ename": "KeyboardInterrupt",
          "evalue": "ignored",
          "output_type": "error",
          "traceback": [
            "\u001b[0;31m---------------------------------------------------------------------------\u001b[0m",
            "\u001b[0;31mKeyboardInterrupt\u001b[0m                         Traceback (most recent call last)",
            "\u001b[0;32m<ipython-input-3-5b75de111a81>\u001b[0m in \u001b[0;36m<cell line: 2>\u001b[0;34m()\u001b[0m\n\u001b[1;32m      1\u001b[0m \u001b[0;32mfrom\u001b[0m \u001b[0mgetpass\u001b[0m \u001b[0;32mimport\u001b[0m \u001b[0mgetpass\u001b[0m\u001b[0;34m\u001b[0m\u001b[0;34m\u001b[0m\u001b[0m\n\u001b[0;32m----> 2\u001b[0;31m \u001b[0mopenai\u001b[0m\u001b[0;34m.\u001b[0m\u001b[0mapi_key\u001b[0m \u001b[0;34m=\u001b[0m \u001b[0mgetpass\u001b[0m\u001b[0;34m(\u001b[0m\u001b[0;34m)\u001b[0m\u001b[0;34m\u001b[0m\u001b[0;34m\u001b[0m\u001b[0m\n\u001b[0m",
            "\u001b[0;32m/usr/local/lib/python3.10/dist-packages/ipykernel/kernelbase.py\u001b[0m in \u001b[0;36mgetpass\u001b[0;34m(self, prompt, stream)\u001b[0m\n\u001b[1;32m    832\u001b[0m             warnings.warn(\"The `stream` parameter of `getpass.getpass` will have no effect when using ipykernel\",\n\u001b[1;32m    833\u001b[0m                     UserWarning, stacklevel=2)\n\u001b[0;32m--> 834\u001b[0;31m         return self._input_request(prompt,\n\u001b[0m\u001b[1;32m    835\u001b[0m             \u001b[0mself\u001b[0m\u001b[0;34m.\u001b[0m\u001b[0m_parent_ident\u001b[0m\u001b[0;34m,\u001b[0m\u001b[0;34m\u001b[0m\u001b[0;34m\u001b[0m\u001b[0m\n\u001b[1;32m    836\u001b[0m             \u001b[0mself\u001b[0m\u001b[0;34m.\u001b[0m\u001b[0m_parent_header\u001b[0m\u001b[0;34m,\u001b[0m\u001b[0;34m\u001b[0m\u001b[0;34m\u001b[0m\u001b[0m\n",
            "\u001b[0;32m/usr/local/lib/python3.10/dist-packages/ipykernel/kernelbase.py\u001b[0m in \u001b[0;36m_input_request\u001b[0;34m(self, prompt, ident, parent, password)\u001b[0m\n\u001b[1;32m    893\u001b[0m             \u001b[0;32mexcept\u001b[0m \u001b[0mKeyboardInterrupt\u001b[0m\u001b[0;34m:\u001b[0m\u001b[0;34m\u001b[0m\u001b[0;34m\u001b[0m\u001b[0m\n\u001b[1;32m    894\u001b[0m                 \u001b[0;31m# re-raise KeyboardInterrupt, to truncate traceback\u001b[0m\u001b[0;34m\u001b[0m\u001b[0;34m\u001b[0m\u001b[0m\n\u001b[0;32m--> 895\u001b[0;31m                 \u001b[0;32mraise\u001b[0m \u001b[0mKeyboardInterrupt\u001b[0m\u001b[0;34m(\u001b[0m\u001b[0;34m\"Interrupted by user\"\u001b[0m\u001b[0;34m)\u001b[0m \u001b[0;32mfrom\u001b[0m \u001b[0;32mNone\u001b[0m\u001b[0;34m\u001b[0m\u001b[0;34m\u001b[0m\u001b[0m\n\u001b[0m\u001b[1;32m    896\u001b[0m             \u001b[0;32mexcept\u001b[0m \u001b[0mException\u001b[0m \u001b[0;32mas\u001b[0m \u001b[0me\u001b[0m\u001b[0;34m:\u001b[0m\u001b[0;34m\u001b[0m\u001b[0;34m\u001b[0m\u001b[0m\n\u001b[1;32m    897\u001b[0m                 \u001b[0mself\u001b[0m\u001b[0;34m.\u001b[0m\u001b[0mlog\u001b[0m\u001b[0;34m.\u001b[0m\u001b[0mwarning\u001b[0m\u001b[0;34m(\u001b[0m\u001b[0;34m\"Invalid Message:\"\u001b[0m\u001b[0;34m,\u001b[0m \u001b[0mexc_info\u001b[0m\u001b[0;34m=\u001b[0m\u001b[0;32mTrue\u001b[0m\u001b[0;34m)\u001b[0m\u001b[0;34m\u001b[0m\u001b[0;34m\u001b[0m\u001b[0m\n",
            "\u001b[0;31mKeyboardInterrupt\u001b[0m: Interrupted by user"
          ]
        }
      ],
      "source": [
        "from getpass import getpass\n",
        "openai.api_key = getpass()"
      ]
    },
    {
      "cell_type": "markdown",
      "metadata": {
        "id": "kvQHFq8-aV-t"
      },
      "source": [
        "### Blob Connection"
      ]
    },
    {
      "cell_type": "code",
      "execution_count": null,
      "metadata": {
        "colab": {
          "base_uri": "https://localhost:8080/"
        },
        "id": "1o2heDXEacdY",
        "outputId": "47191463-de11-4b33-8955-dbd581012576"
      },
      "outputs": [
        {
          "name": "stdout",
          "output_type": "stream",
          "text": [
            "Collecting azure-storage-blob\n",
            "  Downloading azure_storage_blob-12.17.0-py3-none-any.whl (388 kB)\n",
            "\u001b[?25l     \u001b[90m━━━━━━━━━━━━━━━━━━━━━━━━━━━━━━━━━━━━━━━━\u001b[0m \u001b[32m0.0/388.0 kB\u001b[0m \u001b[31m?\u001b[0m eta \u001b[36m-:--:--\u001b[0m\r\u001b[2K     \u001b[90m━━━━━━━━━━━━━━━━━━━━━━━━━━━━━━━━━━━━━━\u001b[0m \u001b[32m388.0/388.0 kB\u001b[0m \u001b[31m28.8 MB/s\u001b[0m eta \u001b[36m0:00:00\u001b[0m\n",
            "\u001b[?25hCollecting azure-core<2.0.0,>=1.28.0 (from azure-storage-blob)\n",
            "  Downloading azure_core-1.28.0-py3-none-any.whl (185 kB)\n",
            "\u001b[2K     \u001b[90m━━━━━━━━━━━━━━━━━━━━━━━━━━━━━━━━━━━━━━\u001b[0m \u001b[32m185.4/185.4 kB\u001b[0m \u001b[31m19.1 MB/s\u001b[0m eta \u001b[36m0:00:00\u001b[0m\n",
            "\u001b[?25hCollecting cryptography>=2.1.4 (from azure-storage-blob)\n",
            "  Downloading cryptography-41.0.2-cp37-abi3-manylinux_2_28_x86_64.whl (4.3 MB)\n",
            "\u001b[2K     \u001b[90m━━━━━━━━━━━━━━━━━━━━━━━━━━━━━━━━━━━━━━━━\u001b[0m \u001b[32m4.3/4.3 MB\u001b[0m \u001b[31m117.6 MB/s\u001b[0m eta \u001b[36m0:00:00\u001b[0m\n",
            "\u001b[?25hRequirement already satisfied: typing-extensions>=4.3.0 in /usr/local/lib/python3.10/dist-packages (from azure-storage-blob) (4.7.1)\n",
            "Collecting isodate>=0.6.1 (from azure-storage-blob)\n",
            "  Downloading isodate-0.6.1-py2.py3-none-any.whl (41 kB)\n",
            "\u001b[2K     \u001b[90m━━━━━━━━━━━━━━━━━━━━━━━━━━━━━━━━━━━━━━━━\u001b[0m \u001b[32m41.7/41.7 kB\u001b[0m \u001b[31m4.6 MB/s\u001b[0m eta \u001b[36m0:00:00\u001b[0m\n",
            "\u001b[?25hRequirement already satisfied: requests>=2.18.4 in /usr/local/lib/python3.10/dist-packages (from azure-core<2.0.0,>=1.28.0->azure-storage-blob) (2.27.1)\n",
            "Requirement already satisfied: six>=1.11.0 in /usr/local/lib/python3.10/dist-packages (from azure-core<2.0.0,>=1.28.0->azure-storage-blob) (1.16.0)\n",
            "Requirement already satisfied: cffi>=1.12 in /usr/local/lib/python3.10/dist-packages (from cryptography>=2.1.4->azure-storage-blob) (1.15.1)\n",
            "Requirement already satisfied: pycparser in /usr/local/lib/python3.10/dist-packages (from cffi>=1.12->cryptography>=2.1.4->azure-storage-blob) (2.21)\n",
            "Requirement already satisfied: urllib3<1.27,>=1.21.1 in /usr/local/lib/python3.10/dist-packages (from requests>=2.18.4->azure-core<2.0.0,>=1.28.0->azure-storage-blob) (1.26.16)\n",
            "Requirement already satisfied: certifi>=2017.4.17 in /usr/local/lib/python3.10/dist-packages (from requests>=2.18.4->azure-core<2.0.0,>=1.28.0->azure-storage-blob) (2023.5.7)\n",
            "Requirement already satisfied: charset-normalizer~=2.0.0 in /usr/local/lib/python3.10/dist-packages (from requests>=2.18.4->azure-core<2.0.0,>=1.28.0->azure-storage-blob) (2.0.12)\n",
            "Requirement already satisfied: idna<4,>=2.5 in /usr/local/lib/python3.10/dist-packages (from requests>=2.18.4->azure-core<2.0.0,>=1.28.0->azure-storage-blob) (3.4)\n",
            "Installing collected packages: isodate, cryptography, azure-core, azure-storage-blob\n",
            "Successfully installed azure-core-1.28.0 azure-storage-blob-12.17.0 cryptography-41.0.2 isodate-0.6.1\n"
          ]
        }
      ],
      "source": [
        "!pip install azure-storage-blob"
      ]
    },
    {
      "cell_type": "code",
      "execution_count": null,
      "metadata": {
        "id": "_41gJAMeaes3"
      },
      "outputs": [],
      "source": [
        "!pip install langchain\n",
        "!pip install tiktoken"
      ]
    },
    {
      "cell_type": "code",
      "execution_count": null,
      "metadata": {
        "id": "212ExI6Ea8vt"
      },
      "outputs": [],
      "source": [
        "!pip install unstructured"
      ]
    },
    {
      "cell_type": "code",
      "execution_count": null,
      "metadata": {
        "colab": {
          "base_uri": "https://localhost:8080/"
        },
        "id": "ORgoN_k5azWO",
        "outputId": "7a68e6e4-9dd3-4389-b24e-2a1548c0aa6e"
      },
      "outputs": [
        {
          "name": "stderr",
          "output_type": "stream",
          "text": [
            "[nltk_data] Downloading package punkt to /root/nltk_data...\n",
            "[nltk_data]   Unzipping tokenizers/punkt.zip.\n",
            "[nltk_data] Downloading package averaged_perceptron_tagger to\n",
            "[nltk_data]     /root/nltk_data...\n",
            "[nltk_data]   Unzipping taggers/averaged_perceptron_tagger.zip.\n"
          ]
        },
        {
          "name": "stdout",
          "output_type": "stream",
          "text": [
            "You have 1 documents in your data\n"
          ]
        }
      ],
      "source": [
        "from langchain.document_loaders import AzureBlobStorageContainerLoader\n",
        "\n",
        "loaders = AzureBlobStorageContainerLoader(conn_str=\"DefaultEndpointsProtocol=https;AccountName=openaiblob1;EndpointSuffix=core.windows.net\",container=\"onefilecontainer\")\n",
        "documents = loaders.load()\n",
        "print(f'You have {len(documents)} documents in your data')"
      ]
    },
    {
      "cell_type": "markdown",
      "metadata": {
        "id": "L5dGcqq5by5T"
      },
      "source": [
        "### Split the Text to summarize from Blob"
      ]
    },
    {
      "cell_type": "code",
      "execution_count": null,
      "metadata": {
        "colab": {
          "base_uri": "https://localhost:8080/"
        },
        "id": "NMKD5nvIbaKc",
        "outputId": "50024c45-7d0c-4a06-9f15-11efc0328f30"
      },
      "outputs": [
        {
          "data": {
            "text/plain": [
              "248860"
            ]
          },
          "execution_count": 29,
          "metadata": {},
          "output_type": "execute_result"
        }
      ],
      "source": [
        "text_to_summarize = documents[0].page_content\n",
        "len(text_to_summarize)"
      ]
    },
    {
      "cell_type": "code",
      "execution_count": null,
      "metadata": {
        "colab": {
          "base_uri": "https://localhost:8080/"
        },
        "id": "IzqNtGoFcX2K",
        "outputId": "522aa498-e6f8-4318-e2d5-6f4bc8e7c4de"
      },
      "outputs": [
        {
          "data": {
            "text/plain": [
              "<OpenAIObject text_completion id=cmpl-7bZDl9PNPod7o4FUT7VI9Io5vaUss at 0x7b32a8b69df0> JSON: {\n",
              "  \"id\": \"cmpl-7bZDl9PNPod7o4FUT7VI9Io5vaUss\",\n",
              "  \"object\": \"text_completion\",\n",
              "  \"created\": 1689187881,\n",
              "  \"model\": \"text-davinci-003\",\n",
              "  \"choices\": [\n",
              "    {\n",
              "      \"text\": \"\\nThe greatest investor of all time is widely considered to be Warren Buffett.\",\n",
              "      \"index\": 0,\n",
              "      \"logprobs\": null,\n",
              "      \"finish_reason\": \"stop\"\n",
              "    }\n",
              "  ],\n",
              "  \"usage\": {\n",
              "    \"prompt_tokens\": 66,\n",
              "    \"completion_tokens\": 15,\n",
              "    \"total_tokens\": 81\n",
              "  }\n",
              "}"
            ]
          },
          "execution_count": 31,
          "metadata": {},
          "output_type": "execute_result"
        }
      ],
      "source": [
        "prompt = \"I am a highly intelligent question answering bot. If you ask me a question that is rooted in truth, I will give you the answer. If you ask me a question that is nonsense, trickery, or has no clear answer, I will respond with \\\"Unknown\\\". Q: Who is the greatest investor of all time?\\n\\n\"\n",
        "engine = 'text-davinci-003'\n",
        "response = openai.Completion.create(\n",
        "  engine=engine,\n",
        "  prompt=prompt,\n",
        "  temperature=0.3, # The temperature controls the randomness of the response, represented as a range from 0 to 1. A lower value of temperature means the API will respond with the first thing that the model sees; a higher value means the model evaluates possible responses that could fit into the context before spitting out the result.\n",
        "  max_tokens=140,\n",
        "  top_p=1, # Top P controls how many random results the model should consider for completion, as suggested by the temperature dial, thus determining the scope of randomness. Top P’s range is from 0 to 1. A lower value limits creativity, while a higher value expands its horizons.\n",
        "  frequency_penalty=0,\n",
        "  presence_penalty=1\n",
        ")\n",
        "\n",
        "response"
      ]
    },
    {
      "cell_type": "code",
      "execution_count": null,
      "metadata": {
        "id": "qRceg4EycdMU"
      },
      "outputs": [],
      "source": [
        "prompt = f\"{text_to_summarize}\\n\\ntl;dr:\"\n",
        "\n",
        "prompt"
      ]
    },
    {
      "cell_type": "code",
      "execution_count": null,
      "metadata": {
        "id": "BLovNkYacpp9"
      },
      "outputs": [],
      "source": [
        "#TOKEN LIMIT - DON'T RUN\n",
        "response = openai.Completion.create(\n",
        "    engine=\"text-davinci-003\",\n",
        "    prompt=prompt,\n",
        "    temperature=0.3, # The temperature controls the randomness of the response, represented as a range from 0 to 1. A lower value of temperature means the API will respond with the first thing that the model sees; a higher value means the model evaluates possible responses that could fit into the context before spitting out the result.\n",
        "    max_tokens=140,\n",
        "    top_p=1, # Top P controls how many random results the model should consider for completion, as suggested by the temperature dial, thus determining the scope of randomness. Top P’s range is from 0 to 1. A lower value limits creativity, while a higher value expands its horizons.\n",
        "    frequency_penalty=0,\n",
        "    presence_penalty=1\n",
        ")"
      ]
    },
    {
      "cell_type": "code",
      "execution_count": null,
      "metadata": {
        "colab": {
          "base_uri": "https://localhost:8080/"
        },
        "id": "P23Yn3j2dFUx",
        "outputId": "a949bdea-4464-48c3-9c3a-8af20f7ed1c3"
      },
      "outputs": [
        {
          "data": {
            "text/plain": [
              "37910"
            ]
          },
          "execution_count": 35,
          "metadata": {},
          "output_type": "execute_result"
        }
      ],
      "source": [
        "words = text_to_summarize.split(\" \")\n",
        "len(words)"
      ]
    },
    {
      "cell_type": "code",
      "execution_count": null,
      "metadata": {
        "id": "YvRx4oxgdN95"
      },
      "outputs": [],
      "source": [
        "import numpy as np\n",
        "chunks = np.array_split(words, 15)\n",
        "chunks"
      ]
    },
    {
      "cell_type": "code",
      "execution_count": null,
      "metadata": {
        "colab": {
          "base_uri": "https://localhost:8080/",
          "height": 243
        },
        "id": "3wQ4wIzBdh0C",
        "outputId": "226ce4dc-a0d9-4088-8507-def4cc805d04"
      },
      "outputs": [
        {
          "data": {
            "application/vnd.google.colaboratory.intrinsic+json": {
              "type": "string"
            },
            "text/plain": [
              "\"Contoso Electronics\\n\\nNorthwind Health Standard Plan\\n\\nThis document contains information generated using a language model (Azure OpenAI). The information contained in this document is only for demonstration purposes and does not reflect the opinions or beliefs of Microsoft. Microsoft makes no representations or warranties of any kind, express or implied, about the completeness, accuracy, reliability, suitability or availability with respect to the information contained in this document.\\n\\nAll rights reserved to Microsoft\\n\\nSummary of Benefits\\n\\nNorthwind Standard Northwind Standard is a basic plan that provides coverage for medical, vision, and dental services. This plan also offers coverage for preventive care services, as well as prescription drug coverage. With Northwind Standard, you can choose from a variety of in-network providers, including primary care physicians, specialists, hospitals, and pharmacies. This plan does not offer coverage for emergency services, mental health and substance abuse coverage, or out-of-network services.\\n\\nSUMMARY OF YOUR COSTS Summary of Your Costs\\n\\nWhen you choose Northwind Standard as your health plan, you can rest assured that you are getting comprehensive coverage at an affordable cost. Here, we will explain the various costs associated with this plan so that you know what to expect when it comes to your out- of-pocket expenses.\\n\\nPremiums\\n\\nPremiums are the amount of money that you will need to pay each month for your coverage. Northwind Standard requires that premiums be paid on a monthly basis in order to keep the coverage in force. These premiums are based on the age and health of the policy holder, as well as the type of coverage that is chosen.\\n\\nDeductibles\\n\\nA deductible is the amount of money that you will need to pay out of pocket before your insurance plan will begin to cover the costs of your medical services. The deductible for Northwind Standard is $2,000 per person, per year. This means that you will need to pay the first $2,000 of your medical expenses before the plan will begin to cover the remaining amount.\\n\\nCo-payments and Co-insurance\\n\\nOnce you have met your deductible, you will be responsible for co-payments and co- insurance. Co-payments are a fixed amount that you will need to pay at the time of service, while co-insurance is a percentage that you will need to pay. For Northwind Standard, the co-payment is $30 for primary care visits and $50 for specialist visits. The co-insurance is 20% of the remaining cost after the deductible has been met.\\n\\nOut-of-Pocket Maximum\\n\\nThe out-of-pocket maximum for Northwind Standard is $6,000 per person, per year. This is the maximum amount that you will need to pay for your medical expenses in a given year.\\n\\nOnce you have reached this limit, the plan will cover 100% of your expenses for the remainder of the year.\\n\\nTips for Managing Your Costs\\n\\nThere are several steps that you can take to help manage your costs when you are enrolled in Northwind Standard. Here are a few tips that you can use to get the most out of your coverage:\\n\\nMake sure to take advantage of preventive care services. These services are covered 100% by the plan and can help you avoid more costly treatments down the line.\\n\\nAlways make sure to visit in-network providers. Doing so will ensure that you receive the maximum benefit from your plan.\\n\\nConsider generic prescription drugs when available. These drugs can often be cheaper than brand-name drugs and are just as effective.\\n\\nTalk to your doctor about ways to save money. Many doctors are willing to work with you to find the most cost-effective treatment options available.\\n\\nReview your Explanation of Benefits (EOB) statements carefully. This document will show you exactly how much you are being charged for each service and what your plan is covering.\\n\\nBy following these tips, you can ensure that you are getting the most out of your Northwind Standard health plan.\\n\\nHOW PROVIDERS AFFECT YOUR COSTS\\n\\nIn-Network Providers HOW PROVIDERS AFFECT YOUR COSTS\\n\\nWhen selecting a health insurance plan, one of the most important factors to consider is the network of in-network providers that are available with the plan.\\n\\nNorthwind Standard offers a wide variety of in-network providers, ranging from primary care physicians, specialists, hospitals, and pharmacies. This allows you to choose a provider that is convenient for you and your family, while also helping you to keep your costs low.\\n\\nWhen you choose a provider that is in-network with your plan, you will typically pay lower copays and deductibles than you would with an out-of-network provider. In addition, many services, such as preventive care, may be covered at no cost when you receive care from an in-network provider.\\n\\nIt is important to note, however, that Northwind Standard does not offer coverage for emergency services, mental health and substance abuse coverage, or out-of-network\\n\\nservices. This means that you may have to pay out of pocket for these services if you receive them from an out-of-network provider.\\n\\nWhen choosing an in-network provider, there are a few tips to keep in mind. First, make sure that the provider you choose is in-network with your plan. You can confirm this by calling the provider's office and asking them if they are in-network with Northwind Standard. You can also use the provider search tool on the Northwind Health website to make sure your provider is in-network.\\n\\nSecond, make sure that the provider you choose is accepting new patients. Some providers may be in-network but not be taking new patients.\\n\\nThird, consider the location of the provider. If the provider is too far away, it may be difficult for you to get to your appointments.\\n\\nFinally, consider the provider's office hours. If you work during the day, you may need to find a provider that has evening or weekend hours.\\n\\nChoosing an in-network provider can help you save money on your health care costs. By following the tips above and researching your options, you can find a provider that is convenient, affordable, and in-network with your Northwind Standard plan.\\n\\nContinuity of Care HOW PROVIDERS AFFECT YOUR COSTS: CONTINUITY OF CARE\\n\\nAt Contoso, we understand the importance of providing our employees with access to a quality, affordable health care plan. We are proud to offer our employees Northwind Standard, an insurance plan that provides coverage for medical, vision, and dental services. We also offer continuity of care, which is the ability to stay with the same provider for all your health care needs, from routine checkups to specialized care.\\n\\nContinuity of care is an important component of any health care plan, as it allows you to develop a relationship with your doctor, who is more likely to recognize any changes in your health and be able to provide better, more personalized care. With Northwind Standard, you can stay with the same provider throughout your health care journey, helping you to receive the best possible care.\\n\\nContinuity of care also helps you save money on health care costs. When you stay with the same provider, you are likely to pay less than if you switch around from provider to provider. This is because your provider already has all your medical records, and you won’t need to pay for expensive tests and procedures that you’ve already had done.\\n\\nThere are a few exceptions to the continuity of care. If you move to a different area, you may need to find a new provider. Additionally, if you are in need of specialized care, such as surgery or a complex treatment, you may need to visit a specialist who does not accept your insurance plan. In these cases, you should be sure to check with your insurance company and/or provider to make sure you understand any associated costs.\\n\\nThere are a few tips you can follow to ensure you are taking full advantage of continuity of care and are getting the best, most affordable care possible. First, be sure to always keep your provider information up to date. If you move or change providers, be sure to notify your insurance company right away. Additionally, if you are in need of specialized care, be sure to check with your provider to understand any associated costs. Finally, if you are switching providers or insurance plans, make sure you get copies of your medical records from your previous provider.\\n\\nAt Contoso, we strive to provide our employees with access to quality, affordable health care. We are proud to offer Northwind Standard, an insurance plan that provides continuity of care, helping you to receive the best possible care and save money on health care costs.\\n\\nNon-Participating Non-Participating Providers and How They Affect Your Costs\\n\\nWhen selecting a health care provider, it is important to understand the differences between participating and non-participating providers. Participating providers are those who have agreed to accept the Northwind Standard health plan’s set rates. Non- participating providers are those who have not agreed to accept the set rates and can charge the patient more than what the health plan pays.\\n\\nWhen you choose a non-participating provider for your healthcare services, you may be responsible for paying the difference between the provider’s actual charges and the amount the plan pays. This difference is known as the balance billing amount. Depending on your provider’s policy, you may be required to pay the balance billing amount up front. Be sure to discuss this with your provider prior to receiving services.\\n\\nAdditionally, it is important to note that if you use a non-participating provider, your out-of- pocket costs may be higher than if you had used a participating provider. For example, if your provider’s charge is $200 and the plan pays $100, you would be responsible for the remaining $100 balance billing amount.\\n\\nExceptions\\n\\nThere are certain exceptions to the rule of non-participating providers. Your health plan may cover emergency services provided by non-participating providers, as well as certain services provided by non-participating providers that are not available from participating providers. Additionally, in some cases, the health plan may cover non-participating providers’ charges if there are no participating providers in your area.\\n\\nTips\\n\\nIn order to avoid costly balance billing amounts, it is important to make sure that your provider is a participating provider in your Northwind Standard health plan. If you are unsure, you can contact the customer service department of your health plan to verify.\\n\\nIt is also important to ask your provider about their policy on balance billing. Be sure to find out if the provider requires you to pay the balance billing amount up front, or if they will bill you after the health plan pays them.\\n\\nWhen selecting a provider, also remember to consider the cost of services. Participating providers are often more cost effective than non-participating providers. Additionally, some providers offer discounts to patients who pay out of pocket for services.\\n\\nFinally, if you need to use a non-participating provider for certain services, be sure to check with your health plan first. There may be an exception that will cover the cost of the service. Additionally, if you need to use a non-participating provider and you are concerned about the cost, you can always negotiate with your provider to find a more affordable rate.\\n\\nBalance Billing Protection HOW PROVIDERS AFFECT YOUR COSTS - Balance Billing Protection\\n\\nAt Contoso, we understand that medical costs can be intimidating and confusing, which is why we’ve partnered with Northwind Health to offer our employees the Northwind Standard plan. This plan provides a balance billing protection, meaning that you are protected from unexpected costs when visiting in-network providers.\\n\\nWhat is balance billing?\\n\\nBalance billing is when a provider bills you for the difference between what they charge and what your insurance company is willing to pay. This difference can be hundreds of dollars and is often unexpected. With the Northwind Standard plan, you are protected from balance billing when visiting in-network providers.\\n\\nWhat is an in-network provider?\\n\\nIn-network providers are healthcare providers, such as doctors, hospitals, and labs, that have agreed to accept the Northwind Standard plan’s payment terms. Visiting an in-network provider means that you are protected from balance billing. You can find a list of in-network providers on the Northwind Health website.\\n\\nWhat if I visit an out-of-network provider?\\n\\nVisiting an out-of-network provider means that you are not protected from balance billing. Out-of-network providers may charge more for the same services than in-network providers, and you may be responsible for the difference between what they charge and what your insurance company is willing to pay. It is important to check if a provider is in- network before visiting them to avoid any unexpected costs.\\n\\nTips to avoid balance billing:\\n\\nAlways check if a provider is in-network before scheduling an appointment.\\n\\nAsk your provider if they accept the Northwind Standard plan before you receive any services.\\n\\nDouble-check that the providers you visit are in-network.\\n\\nAsk for an estimate of your out-of-pocket costs ahead of time.\\n\\nIf you receive a bill for more than expected, contact your provider and the insurance company to negotiate a lower cost.\\n\\nExceptions to the balance billing protection:\\n\\nBalance billing protection does not apply to emergency services.\\n\\nBalance billing protection does not apply to mental health and substance abuse coverage.\\n\\nBalance billing protection does not apply to out-of-network providers.\\n\\nBalance billing protection is not applicable to any non-covered services.\\n\\nAt Contoso, we want to make sure our employees are provided with the best coverage options. That’s why we’ve partnered with Northwind Health to offer the Northwind Standard plan, which provides balance billing protection when visiting in-network providers. We encourage our employees to use the tips provided to help reduce the risk of unexpected costs when visiting a provider.\\n\\nBenefits For Out-Of-Network Or Non-Contracted Providers HOW PROVIDERS AFFECT YOUR COSTS: Benefits For Out-Of-Network Or Non-Contracted Providers\\n\\nOne of the important considerations when choosing a health insurance plan is understanding the differences between in-network and out-of-network providers. When you receive health care from an in-network provider, your insurance plan will generally cover a greater portion of your expenses. However, when you receive health care from an out-of-network provider, you may be required to pay a greater portion of the costs.\\n\\nUnder Northwind Standard, you may receive care from out-of-network providers, but you will be responsible for a greater portion of the costs. To make sure you are getting the best value for your health care expenses, it is important to understand the differences between in-network and out-of-network providers and how they affect your costs.\\n\\nIn-Network: In-network providers are those who have contracted with Northwind Health to provide services at a discounted rate. In-network providers have agreed to accept the amount of payment offered by Northwind Health, meaning that you pay the portion of the cost that is not covered by the insurance plan. In-network providers may also offer additional services or discounts that are not available to out-of-network providers.\\n\\nOut-of-Network: Out-of-network providers are those who have not contracted with Northwind Health. As a result, they are not required to accept the amount of payment offered by Northwind Health, meaning that you may be responsible for a greater portion of the cost. Additionally, out-of-network providers may not offer additional services or discounts that are available to in-network providers.\\n\\nWhen choosing a provider, it is important to make sure that the provider is in-network. While it is possible to receive care from out-of-network providers, it is important to understand that you will be responsible for a greater portion of the costs. To make sure that you are getting the best value for your health care expenses, it is recommended that you choose an in-network provider whenever possible.\\n\\nThere are some exceptions when it comes to receiving care from out-of-network providers. If\""
            ]
          },
          "execution_count": 41,
          "metadata": {},
          "output_type": "execute_result"
        }
      ],
      "source": [
        "sentences = ' '.join(list(chunks[0]))\n",
        "sentences"
      ]
    },
    {
      "cell_type": "code",
      "execution_count": null,
      "metadata": {
        "colab": {
          "base_uri": "https://localhost:8080/",
          "height": 157
        },
        "id": "q1UlI7wudrOy",
        "outputId": "1436278c-fbfd-46df-f79d-2fab79d173b3"
      },
      "outputs": [
        {
          "data": {
            "application/vnd.google.colaboratory.intrinsic+json": {
              "type": "string"
            },
            "text/plain": [
              "'\\nThis document contains information about the Northwind Standard health plan, which provides coverage for medical, vision, and dental services. It explains the various costs associated with this plan, such as premiums, deductibles, co-payments, and co-insurance. It also provides tips for managing your costs, such as taking advantage of preventive care services and visiting in-network providers. Additionally, it explains how providers affect your costs, such as the importance of continuity of care and balance billing protection. Finally, it outlines the benefits of using out-of-network or non-contracted providers.'"
            ]
          },
          "execution_count": 42,
          "metadata": {},
          "output_type": "execute_result"
        }
      ],
      "source": [
        "#SUMMARY FOR ONE CHUNK\n",
        "prompt = f\"{sentences}\\n\\ntl;dr:\"\n",
        "\n",
        "response = openai.Completion.create(\n",
        "    engine=\"text-davinci-003\",\n",
        "    prompt=prompt,\n",
        "    temperature=0.3, # The temperature controls the randomness of the response, represented as a range from 0 to 1. A lower value of temperature means the API will respond with the first thing that the model sees; a higher value means the model evaluates possible responses that could fit into the context before spitting out the result.\n",
        "    max_tokens=140,\n",
        "    top_p=1, # Top P controls how many random results the model should consider for completion, as suggested by the temperature dial, thus determining the scope of randomness. Top P’s range is from 0 to 1. A lower value limits creativity, while a higher value expands its horizons.\n",
        "    frequency_penalty=0,\n",
        "    presence_penalty=1\n",
        ")\n",
        "\n",
        "response_text = response[\"choices\"][0][\"text\"]\n",
        "response_text"
      ]
    },
    {
      "cell_type": "code",
      "execution_count": null,
      "metadata": {
        "colab": {
          "base_uri": "https://localhost:8080/"
        },
        "id": "yqTzkVfceDMs",
        "outputId": "8edf4971-c807-4d36-dc81-bbea27070d49"
      },
      "outputs": [
        {
          "name": "stdout",
          "output_type": "stream",
          "text": [
            "full summary\n",
            "\n",
            "This document contains information about the Northwind Standard health plan, which provides coverage for medical, vision, and dental services. It explains the various costs associated with this plan, such as premiums, deductibles, co-payments, and co-insurance. It also provides tips on how to manage your costs and outlines the differences between in-network and out-of-network providers. Finally, it explains the balance billing protection offered by Northwind Standard and provides tips on how to avoid unexpected costs.\n",
            "\n",
            " Northwind Standard has a calendar year deductible of $2,000 for individuals and $4,000 for families. The plan also includes copayments for certain services, coinsurance of 20% for in-network services and 40% for out-of-network services, and an out-of-pocket maximum of $6,350 for individuals and $12,700 for families. Certain services may not be subject to the out-of-pocket maximum, such as non-covered services or services provided outside of the Northwind Health network. It is important to review insurance statements regularly and understand the cost sharing associated with each provider before receiving any services.\n",
            "\n",
            " Northwind Standard covers cellular immunotherapy and gene therapy, two cutting-edge treatments that have the potential to revolutionize the way we treat cancer and other diseases. These treatments are typically only available at specialized centers, and they can be very expensive. It is important to check with your provider to determine what is and is not covered by your plan, and to do your research to understand the risks and benefits of the treatment.\n",
            "\n",
            " Northwind Standard provides coverage for foot care services, including podiatry visits, orthotics, and foot surgery. Make sure to visit an in-network provider for these services to ensure that they are covered by your plan.\n",
            "\n",
            " Northwind Standard covers massage therapy services when they are medically necessary and prescribed by a doctor. Coverage includes both in-network and out-of-network providers, but there may be some exceptions to coverage, such as for non-medically necessary services. It is important to check with your provider to make sure that the service is covered under your plan.\n",
            "\n",
            " At Contoso, we are proud to partner with Northwind Health to offer our employees the Northwind Standard plan. This plan includes coverage for newborn care, including well-child visits, diagnostic tests, prescription drugs, mental health services, physical therapy, and inpatient care. The plan does not cover home health care, long-term care, alternative therapies, or cosmetic treatments. Be sure to keep all of your baby’s medical records, understand the coverage and limitations of your plan, ask your baby’s doctor for information about any tests or treatments, and talk to your doctor about any questions or concerns you may have.\n",
            "\n",
            " Northwind Standard provides coverage for spinal and other manipulations, including chiropractic and osteopathic services. These services may be covered when they are performed by a licensed chiropractor or osteopathic physician, and when they are medically necessary. The plan covers manipulation of the spine and other joints, as well as the soft tissues of the body. It is important to note that Northwind Standard does not cover services that are not medically necessary, or that are performed by someone who is not a licensed chiropractor or osteopathic physician. In some cases, coverage for spinal and other manipulations may be subject to pre-authorization or pre-certification.\n",
            "\n",
            " Northwind Standard covers urgent care services when they are medically necessary. This includes emergency room visits, walk-in clinics, and other urgent care facilities. Preauthorization is required for certain services, and members may be responsible for copayments or coinsurance. It is important to understand the coverage provided by the plan and to discuss any potential out-of-pocket costs with a healthcare provider prior to receiving treatment.\n",
            "\n",
            " Northwind Standard requires prior authorization for certain services and treatments, such as hospital stays, certain laboratory tests, certain imaging services, physical therapy, and durable medical equipment. Prior authorization helps ensure that the care is necessary and medically appropriate. If prior authorization is not obtained, the employee may be responsible for the full cost of any services or treatments that are received without approval. Employees should contact Northwind Health to find out if a service or treatment requires prior authorization.\n",
            "\n",
            "\n",
            "At Northwind Health, we offer a variety of care management services to help ensure that members receive quality, cost-effective care. These services include clinical review, which is a process that evaluates the medical necessity and appropriateness of a proposed course of treatment, as well as any adjustment or changes to existing treatments. We also offer personal health support programs, which are designed to help you achieve your health goals and optimize your care. Our programs provide you with access to specialized care teams and tailored resources to help you manage chronic illnesses, injuries, and other health-related issues.\n",
            "\n",
            " Northwind Standard is a comprehensive health insurance plan that includes personal health support programs to help you manage chronic conditions, injuries, and other health-related issues. The plan does not cover emergency services, mental health and substance abuse services, or out-of-network services. If you have other coverage, you may be able to coordinate benefits with those plans to reduce your out-of-pocket costs. It’s important to understand the primary and secondary rules that apply to Northwind Standard and how COB can affect your benefits. Be sure to read all of the plan documents and contact the customer service team if you have any questions.\n",
            "\n",
            "\n",
            "\n",
            "When you have Northwind Standard coverage, you have the right to appeal any denial of services or payment of benefits. This includes if you disagree with the amount of the payment or if you feel that your claim was denied incorrectly. You can file an appeal by submitting a letter or appeal form to Northwind Health within 60 days of the date of the denial. If you are not satisfied with the outcome of your appeal, you may be able to pursue a second level of appeal or file a complaint with your state insurance department. It is important to include all necessary information in your appeal and keep accurate records of all communication and correspondence.\n",
            "\n",
            "\n",
            "\n",
            "The Northwind Standard plan is a group health insurance plan offered to eligible employees of Contoso and their spouses or dependents. It provides coverage for medical, vision, and dental services, including preventive care services and prescription drug coverage. The plan documents are the ultimate authority for any questions about benefits, coverage, and exclusions. When using the plan, you may be required to provide evidence of medical necessity for certain services. Additionally, the plan does not cover services provided by independent contractors, and employees must pay for these services out-of-pocket. When selecting a provider, it is important to make sure they are properly licensed and certified, and have a good reputation in the healthcare community.\n",
            "\n",
            " Northwind Health provides important notices to employees about their health plan. These notices provide information about the plan, its benefits and limitations, and the employee's rights and responsibilities. It is important for employees to read these notices carefully and understand what they mean in order to make the most informed decision possible. Tips for understanding notices include reading them thoroughly, asking questions if needed, and keeping a copy of all notices in a safe place.\n",
            "\n",
            " Northwind Standard is a comprehensive health plan that provides coverage for medical, vision, and dental services. It also includes preventive care services and prescription drug coverage. The plan also offers a right of recovery for any services that were already paid for by the insured. Additionally, the Women's Health and Cancer Rights Act of 1998 (WHCRA) requires all group health plans to provide coverage for mastectomies, reconstructive surgery, and other related medical services. Finally, Workers’ Compensation Insurance provides financial protection to employees in the event of a work-related injury or illness. It is important to understand the various terms and definitions associated with Northwind Standard in order to make sure you are getting the most out of your plan.\n",
            "\n",
            "\n"
          ]
        }
      ],
      "source": [
        "summary_responses = []\n",
        "\n",
        "for chunk in chunks:\n",
        "    sentences = ' '.join(list(chunk))\n",
        "    prompt = f\"{sentences}\\n\\ntl;dr:\"\n",
        "    response = openai.Completion.create(\n",
        "        engine=\"text-davinci-003\",\n",
        "        prompt=prompt,\n",
        "        temperature=0.3, # The temperature controls the randomness of the response, represented as a range from 0 to 1. A lower value of temperature means the API will respond with the first thing that the model sees; a higher value means the model evaluates possible responses that could fit into the context before spitting out the result.\n",
        "        max_tokens=150,\n",
        "        top_p=1, # Top P controls how many random results the model should consider for completion, as suggested by the temperature dial, thus determining the scope of randomness. Top P’s range is from 0 to 1. A lower value limits creativity, while a higher value expands its horizons.\n",
        "        frequency_penalty=0,\n",
        "        presence_penalty=1\n",
        "    )\n",
        "\n",
        "    response_text = response[\"choices\"][0][\"text\"]\n",
        "    summary_responses.append(response_text+'\\n\\n')\n",
        "\n",
        "full_summary = \"\".join(summary_responses)\n",
        "\n",
        "print(\"full summary\")\n",
        "print(full_summary)"
      ]
    },
    {
      "cell_type": "code",
      "execution_count": null,
      "metadata": {
        "colab": {
          "base_uri": "https://localhost:8080/",
          "height": 1000
        },
        "id": "OwP115VZejM5",
        "outputId": "3574ceea-9916-47a7-b816-d5fd0bf982bc"
      },
      "outputs": [
        {
          "data": {
            "application/vnd.google.colaboratory.intrinsic+json": {
              "type": "string"
            },
            "text/plain": [
              "\" Northwind Standard is a basic health plan that provides coverage for medical, vision, and dental services. This plan offers coverage for preventive care services, as well as prescription drug coverage. Premiums, deductibles, co-payments, and co-insurance are all costs associated with this plan. In order to save money on health care costs, it is important to choose an in-network provider. Out-of-network providers may require balance billing, meaning you will be responsible for the difference between what they charge and what your insurance company is willing to pay. Balance billing protection is available when visiting in-network providers.\\n\\nThe Northwind Standard plan includes copayments (copays) for certain services, a calendar year deductible of $2,000 for each individual and $4,000 for each family, coinsurance set at 20% for in-network services and 40% for out-of-network services, and an out-of-pocket maximum of $6,350 for an individual and $12,700 for a family. It is important to understand the differences between in-network and out-of-network providers, as well as the cost sharing associated with each. Additionally, it is important to be aware of any additional fees that may be associated with receiving care from an out-of-network provider. Finally, understanding your plan and Northwind Standard covers cellular immunotherapy and gene therapy, two cutting-edge treatments that have the potential to revolutionize the way we treat cancer and other diseases. However, these treatments are typically only available at specialized centers and may not be fully covered by the plan. It is important to do your research and discuss any questions or concerns with your doctor before considering these treatments. Northwind Standard provides coverage for foot care services, such as podiatry visits, orthotics, and foot surgery. Make sure to visit an in-network provider to ensure that the costs are covered. Prosthetic devices and custom orthopedic shoes are not covered by Northwind Standard. Northwind Standard covers massage therapy services when they are medically necessary and prescribed by a doctor. The plan covers the cost of massage therapy services provided by in-network providers, as well as some out-of-network providers. Additionally, the plan does not cover massage therapy services that are for convenience or comfort. It is important to understand the coverage limitations and exceptions that may apply to your particular plan. At Contoso, we are proud to partner with Northwind Health to offer our employees the Northwind Standard plan. This plan includes coverage for newborn care, including well-child visits, diagnostic tests, prescription drugs, mental health services, physical therapy, and inpatient care. The plan does not cover home health care, long-term care, alternative therapies, or cosmetic treatments. Be sure to keep all of your baby’s medical records, understand the coverage and limitations of your plan, ask your baby’s doctor for information about recommended tests and treatments, and talk to your doctor about any questions or concerns you may have. Northwind Standard provides coverage for spinal and other manipulations, including chiropractic and osteopathic services. These services may be covered when they are performed by a licensed chiropractor or osteopathic physician, and when they are medically necessary. Coverage may be subject to pre-authorization or pre-certification, and it is important to note that Northwind Standard does not cover services that are not medically necessary or that are experimental in nature. Northwind Standard covers urgent care services when they are medically necessary and prescribed by a physician. This includes the cost of the visit, diagnostics, treatments, and medications. Preauthorization may be required for certain services, and there may be copayments, coinsurance, or deductibles associated with the visit. Members should always discuss their condition and treatment options with their healthcare provider, and confirm that the service is covered under their plan before receiving care. Northwind Standard provides coverage for medical, vision, and dental services. Prior-authorization is a process in which Northwind Health requires employees to get approval from their plan before receiving certain services or treatments. This helps ensure that the care is necessary and medically appropriate. If prior-authorization is not obtained, the employee may be responsible for the full cost of any services or treatments that are received without approval. Northwind Health offers a range of personal health support programs as part of the Northwind Standard plan. These programs provide access to specialized care teams and tailored resources to help you manage chronic illnesses, injuries, and other health-related issues. Through our programs, you can access Care Coordinators who can help you find the right care and services, Health Coaches to help you develop a personalized plan to reach your health goals, and Disease Management Programs to help you better manage chronic conditions.\\n\\nNorthwind Standard is a comprehensive health insurance plan that includes personal health support programs such as Care Coordinators, Health Coaches, Care Managers, Health Educators, and Specialists who can help you achieve your health goals. The plan does not cover emergency services, mental health and substance abuse services, or out-of-network services. If you have other coverage, it may be possible to coordinate benefits with those plans. This can help reduce your out-of-pocket costs for health care services. When you receive health care services, it's important to identify all of your coverage to the provider to ensure that they bill each health plan appropriately. If you have multiple health insurance plans, coordination of benefits (COB) can affect how\\n\\nWhen you have Northwind Standard coverage, you have the right to appeal any denial of services or payment of benefits. This includes if you disagree with the amount of the payment or if you feel that your claim was denied incorrectly. You can file an appeal by submitting a letter or appeal form to Northwind Health within 60 days of the date of the denial. If you are not satisfied with the outcome of your appeal, you may be able to pursue a second level of appeal or file a complaint with your state insurance department. It is important to keep accurate records of all communication and correspondence related to your appeal.\\n\\nThe Northwind Standard plan is a group plan offered to employees of Contoso and their spouses or dependents. It is important to understand that the plan may not cover all or part of the cost of services received by those who are not considered eligible members of the group. The plan includes independent contractors in its network of healthcare providers, but does not provide coverage for care received from them. When selecting a provider, it is important for employees to make sure they are familiar with the provider’s policies and procedures, understand any additional costs that may be associated with the services provided by the independent contractor, and research the provider’s background and credentials. Additionally, employees should make sure they understand their rights and responsibilities under the law when it Northwind Health provides employees with important information about their health plan, including notices of privacy practices, benefit and payment parameters, pre-existing condition exclusions, continuation coverage rights, availability of plan documents, creditable coverage, right to change coverage, and addition or deletion of benefits. It is important for employees to read these notices carefully and understand what they mean in order to make sure they are getting the most out of their Northwind Standard plan. Additionally, employees should be aware of any intentionally false or misleading statements that Northwind Health may use when discussing their plans, as well as their responsibilities as a member of the plan. Finally, employees should also be aware of any other coverage they may have and how it could affect their coverage under Northwind Standard Northwind Standard is a comprehensive health plan that provides coverage for medical, vision, and dental services. It also includes preventive care services and prescription drug coverage. The plan offers a right of recovery for any services that were already paid for by the insured, as well as coverage for mastectomies, reconstructive surgery, and other related medical services under the Women's Health and Cancer Rights Act of 1998. Additionally, the plan provides Workers’ Compensation Insurance coverage to employees in the event of a work-related injury or illness. It is important to understand the different terms and definitions associated with this plan in order to make sure you are getting the most out of your coverage.\""
            ]
          },
          "execution_count": 44,
          "metadata": {},
          "output_type": "execute_result"
        }
      ],
      "source": [
        "full_summary"
      ]
    },
    {
      "cell_type": "code",
      "execution_count": null,
      "metadata": {
        "colab": {
          "base_uri": "https://localhost:8080/"
        },
        "id": "r-LOc9vNgSw8",
        "outputId": "22239c95-ad27-4e98-e9a1-f2fe1ea3b8a2"
      },
      "outputs": [
        {
          "data": {
            "text/plain": [
              "8597"
            ]
          },
          "execution_count": 46,
          "metadata": {},
          "output_type": "execute_result"
        }
      ],
      "source": [
        "len(full_summary)"
      ]
    },
    {
      "cell_type": "markdown",
      "metadata": {
        "id": "70e-kOTGgc8D"
      },
      "source": [
        "### SUMMARIZE full-summary even further"
      ]
    },
    {
      "cell_type": "code",
      "execution_count": null,
      "metadata": {
        "colab": {
          "base_uri": "https://localhost:8080/"
        },
        "id": "uXHDCaQkiRD0",
        "outputId": "d9eccde6-7bcf-481a-9d02-78796212ae81"
      },
      "outputs": [
        {
          "name": "stdout",
          "output_type": "stream",
          "text": [
            "CHUNKS: \n",
            " ['Contoso' 'Electronics\\n\\nNorthwind' 'Health' ... 'out-of-network'\n",
            " 'providers.' 'If']\n",
            "CHUNKS2: \n",
            " ['\\nThis' 'document' 'contains' 'information' 'about' 'the' 'Northwind'\n",
            " 'Standard' 'health' 'plan,' 'which' 'provides' 'coverage' 'for'\n",
            " 'medical,' 'vision,' 'and' 'dental' 'services.' 'It' 'explains' 'the'\n",
            " 'various' 'costs' 'associated' 'with' 'this' 'plan,' 'such' 'as'\n",
            " 'premiums,' 'deductibles,' 'co-payments,' 'and' 'co-insurance.' 'It'\n",
            " 'also' 'provides' 'tips' 'on' 'how' 'to' 'manage' 'your' 'costs' 'and'\n",
            " 'outlines' 'the' 'differences' 'between' 'in-network' 'and'\n",
            " 'out-of-network' 'providers.' 'Finally,' 'it' 'explains' 'the' 'balance'\n",
            " 'billing' 'protection' 'offered' 'by' 'Northwind' 'Standard' 'and'\n",
            " 'provides' 'tips' 'on' 'how' 'to' 'avoid' 'unexpected' 'costs.\\n\\n'\n",
            " 'Northwind' 'Standard' 'has' 'a' 'calendar' 'year' 'deductible' 'of'\n",
            " '$2,000' 'for' 'individuals' 'and' '$4,000' 'for' 'families.' 'The'\n",
            " 'plan' 'also' 'includes' 'copayments' 'for' 'certain' 'services,'\n",
            " 'coinsurance' 'of' '20%' 'for' 'in-network' 'services' 'and' '40%' 'for'\n",
            " 'out-of-network' 'services,' 'and' 'an' 'out-of-pocket' 'maximum' 'of'\n",
            " '$6,350' 'for' 'individuals' 'and' '$12,700' 'for' 'families.' 'Certain'\n",
            " 'services' 'may' 'not' 'be' 'subject' 'to' 'the' 'out-of-pocket'\n",
            " 'maximum,' 'such' 'as' 'non-covered' 'services' 'or' 'services'\n",
            " 'provided' 'outside' 'of' 'the' 'Northwind' 'Health' 'network.' 'It' 'is'\n",
            " 'important' 'to' 'review' 'insurance' 'statements' 'regularly' 'and'\n",
            " 'understand' 'the' 'cost' 'sharing' 'associated' 'with' 'each' 'provider'\n",
            " 'before' 'receiving' 'any' 'services.\\n\\n' 'Northwind' 'Standard'\n",
            " 'covers' 'cellular' 'immunotherapy' 'and' 'gene' 'therapy,' 'two'\n",
            " 'cutting-edge' 'treatments' 'that' 'have' 'the' 'potential' 'to'\n",
            " 'revolutionize' 'the' 'way' 'we' 'treat' 'cancer' 'and' 'other'\n",
            " 'diseases.' 'These' 'treatments' 'are' 'typically' 'only' 'available'\n",
            " 'at' 'specialized' 'centers,' 'and' 'they' 'can' 'be' 'very' 'expensive.'\n",
            " 'It' 'is' 'important' 'to' 'check' 'with' 'your' 'provider' 'to'\n",
            " 'determine' 'what' 'is' 'and' 'is' 'not' 'covered' 'by' 'your' 'plan,'\n",
            " 'and' 'to' 'do' 'your' 'research' 'to' 'understand' 'the' 'risks' 'and'\n",
            " 'benefits' 'of' 'the' 'treatment.\\n\\n' 'Northwind' 'Standard' 'provides'\n",
            " 'coverage' 'for' 'foot' 'care' 'services,' 'including' 'podiatry'\n",
            " 'visits,' 'orthotics,' 'and' 'foot' 'surgery.' 'Make' 'sure' 'to' 'visit'\n",
            " 'an' 'in-network' 'provider' 'for' 'these' 'services' 'to' 'ensure'\n",
            " 'that' 'they' 'are' 'covered' 'by' 'your' 'plan.\\n\\n' 'Northwind'\n",
            " 'Standard' 'covers' 'massage' 'therapy' 'services' 'when' 'they' 'are'\n",
            " 'medically' 'necessary' 'and' 'prescribed' 'by' 'a' 'doctor.' 'Coverage'\n",
            " 'includes' 'both' 'in-network' 'and' 'out-of-network' 'providers,' 'but'\n",
            " 'there' 'may' 'be' 'some' 'exceptions' 'to' 'coverage,' 'such' 'as' 'for'\n",
            " 'non-medically' 'necessary' 'services.' 'It' 'is' 'important' 'to'\n",
            " 'check' 'with' 'your' 'provider' 'to' 'make' 'sure' 'that' 'the'\n",
            " 'service' 'is' 'covered' 'under' 'your' 'plan.\\n\\n' 'At' 'Contoso,' 'we'\n",
            " 'are' 'proud' 'to' 'partner' 'with' 'Northwind' 'Health' 'to' 'offer'\n",
            " 'our' 'employees' 'the' 'Northwind' 'Standard' 'plan.' 'This' 'plan'\n",
            " 'includes' 'coverage' 'for' 'newborn' 'care,' 'including' 'well-child'\n",
            " 'visits,' 'diagnostic' 'tests,' 'prescription' 'drugs,' 'mental' 'health'\n",
            " 'services,' 'physical' 'therapy,' 'and' 'inpatient' 'care.' 'The' 'plan'\n",
            " 'does' 'not' 'cover' 'home' 'health' 'care,' 'long-term' 'care,'\n",
            " 'alternative' 'therapies,' 'or' 'cosmetic' 'treatments.' 'Be' 'sure' 'to'\n",
            " 'keep' 'all' 'of' 'your' 'baby’s' 'medical' 'records,' 'understand' 'the'\n",
            " 'coverage' 'and' 'limitations' 'of' 'your' 'plan,' 'ask' 'your' 'baby’s'\n",
            " 'doctor' 'for' 'information' 'about' 'any' 'tests' 'or' 'treatments,'\n",
            " 'and' 'talk' 'to' 'your' 'doctor' 'about' 'any' 'questions' 'or'\n",
            " 'concerns' 'you' 'may' 'have.\\n\\n' 'Northwind' 'Standard' 'provides'\n",
            " 'coverage' 'for' 'spinal']\n"
          ]
        },
        {
          "data": {
            "text/plain": [
              "3"
            ]
          },
          "execution_count": 68,
          "metadata": {},
          "output_type": "execute_result"
        }
      ],
      "source": [
        "import numpy as np\n",
        "words2 = full_summary.split(\" \")\n",
        "chunks2 = np.array_split(words2, 3)\n",
        "print(\"CHUNKS: \\n\",chunks[0])\n",
        "print(\"CHUNKS2: \\n\",chunks2[0])\n",
        "len(chunks2)"
      ]
    },
    {
      "cell_type": "code",
      "execution_count": null,
      "metadata": {
        "colab": {
          "base_uri": "https://localhost:8080/",
          "height": 643
        },
        "id": "oOllh_zzl4p7",
        "outputId": "31366db4-57ef-4371-ce86-ea5cc5d85a3d"
      },
      "outputs": [
        {
          "data": {
            "application/vnd.google.colaboratory.intrinsic+json": {
              "type": "string"
            },
            "text/plain": [
              "'\\nThis document contains information about the Northwind Standard health plan, which provides coverage for medical, vision, and dental services. It explains the various costs associated with this plan, such as premiums, deductibles, co-payments, and co-insurance. It also provides tips on how to manage your costs and outlines the differences between in-network and out-of-network providers. Finally, it explains the balance billing protection offered by Northwind Standard and provides tips on how to avoid unexpected costs.\\n\\n Northwind Standard has a calendar year deductible of $2,000 for individuals and $4,000 for families. The plan also includes copayments for certain services, coinsurance of 20% for in-network services and 40% for out-of-network services, and an out-of-pocket maximum of $6,350 for individuals and $12,700 for families. Certain services may not be subject to the out-of-pocket maximum, such as non-covered services or services provided outside of the Northwind Health network. It is important to review insurance statements regularly and understand the cost sharing associated with each provider before receiving any services.\\n\\n Northwind Standard covers cellular immunotherapy and gene therapy, two cutting-edge treatments that have the potential to revolutionize the way we treat cancer and other diseases. These treatments are typically only available at specialized centers, and they can be very expensive. It is important to check with your provider to determine what is and is not covered by your plan, and to do your research to understand the risks and benefits of the treatment.\\n\\n Northwind Standard provides coverage for foot care services, including podiatry visits, orthotics, and foot surgery. Make sure to visit an in-network provider for these services to ensure that they are covered by your plan.\\n\\n Northwind Standard covers massage therapy services when they are medically necessary and prescribed by a doctor. Coverage includes both in-network and out-of-network providers, but there may be some exceptions to coverage, such as for non-medically necessary services. It is important to check with your provider to make sure that the service is covered under your plan.\\n\\n At Contoso, we are proud to partner with Northwind Health to offer our employees the Northwind Standard plan. This plan includes coverage for newborn care, including well-child visits, diagnostic tests, prescription drugs, mental health services, physical therapy, and inpatient care. The plan does not cover home health care, long-term care, alternative therapies, or cosmetic treatments. Be sure to keep all of your baby’s medical records, understand the coverage and limitations of your plan, ask your baby’s doctor for information about any tests or treatments, and talk to your doctor about any questions or concerns you may have.\\n\\n Northwind Standard provides coverage for spinal'"
            ]
          },
          "execution_count": 71,
          "metadata": {},
          "output_type": "execute_result"
        }
      ],
      "source": [
        "sentences2 = ' '.join(list(chunks2[0]))\n",
        "sentences2"
      ]
    },
    {
      "cell_type": "code",
      "execution_count": null,
      "metadata": {
        "id": "l-V0DHnMgi_r"
      },
      "outputs": [],
      "source": [
        "import numpy as np\n",
        "words2 = full_summary.split(\" \")\n",
        "chunks2 = np.array_split(words2, 3)\n",
        "#sentences2 = ' '.join(list(chunks2[0]))\n",
        "summary_responses2 = []\n",
        "\n",
        "for chunk in chunks2:\n",
        "    sentences2 = ' '.join(list(chunk))\n",
        "    prompt2 = f\"{sentences2}\\n\\ntl;dr:\"\n",
        "    response = openai.Completion.create(\n",
        "        engine=\"text-davinci-003\",\n",
        "        prompt=prompt2,\n",
        "        temperature=0.3, # The temperature controls the randomness of the response, represented as a range from 0 to 1. A lower value of temperature means the API will respond with the first thing that the model sees; a higher value means the model evaluates possible responses that could fit into the context before spitting out the result.\n",
        "        max_tokens=150,\n",
        "        top_p=1, # Top P controls how many random results the model should consider for completion, as suggested by the temperature dial, thus determining the scope of randomness. Top P’s range is from 0 to 1. A lower value limits creativity, while a higher value expands its horizons.\n",
        "        frequency_penalty=0,\n",
        "        presence_penalty=1\n",
        "    )\n",
        "\n",
        "    response_text = response[\"choices\"][0][\"text\"]\n",
        "    summary_responses2.append(response_text+'\\n\\n')\n",
        "\n",
        "full_summary2 = \"\".join(summary_responses2)"
      ]
    },
    {
      "cell_type": "code",
      "execution_count": null,
      "metadata": {
        "colab": {
          "base_uri": "https://localhost:8080/"
        },
        "id": "Ba9uLs3phFba",
        "outputId": "7a3c8aa7-ddfd-44d2-f577-f0368c055fb1"
      },
      "outputs": [
        {
          "name": "stdout",
          "output_type": "stream",
          "text": [
            "full summary\n",
            " Northwind Standard is a health plan that provides coverage for medical, vision, and dental services. It has a calendar year deductible of $2,000 for individuals and $4,000 for families, copayments, coinsurance of 20% for in-network services and 40% for out-of-network services, and an out-of-pocket maximum of $6,350 for individuals and $12,700 for families. It covers cellular immunotherapy and gene therapy, foot care services, massage therapy services, newborn care, and spinal services. It does not cover home health care, long-term care, alternative therapies, or cosmetic treatments.\n",
            "\n",
            " Northwind Standard is a comprehensive health insurance plan that covers manipulation of the spine and other joints, as well as the soft tissues of the body. It also covers urgent care services when they are medically necessary and requires prior authorization for certain services and treatments. The plan includes personal health support programs to help manage chronic conditions, injuries, and other health-related issues. It does not cover emergency services, mental health and substance abuse services, or out-of-network services. If you have other coverage, you may be able to coordinate benefits with those plans to reduce your out-of-pocket costs.\n",
            "\n",
            " Northwind Standard is a comprehensive health plan that provides coverage for medical, vision, and dental services, including preventive care services and prescription drug coverage. The plan also offers a right of recovery for any services that were already paid for by the insured, and Workers’ Compensation Insurance provides financial protection to employees in the event of a work-related injury or illness. You can appeal any denial of services or payment of benefits, and it is important to read all notices carefully and understand what they mean in order to make the most informed decision possible. If you have any questions, please contact our customer service team.\n",
            "\n",
            "\n"
          ]
        }
      ],
      "source": [
        "print(\"full summary\")\n",
        "print(full_summary2)"
      ]
    },
    {
      "cell_type": "code",
      "execution_count": null,
      "metadata": {
        "colab": {
          "base_uri": "https://localhost:8080/"
        },
        "id": "2c9LWSChmyom",
        "outputId": "644b23d5-a8ad-43bf-8c09-17ff4f55fa5a"
      },
      "outputs": [
        {
          "data": {
            "text/plain": [
              "1929"
            ]
          },
          "execution_count": 76,
          "metadata": {},
          "output_type": "execute_result"
        }
      ],
      "source": [
        "len(full_summary2)"
      ]
    },
    {
      "cell_type": "code",
      "execution_count": null,
      "metadata": {
        "colab": {
          "base_uri": "https://localhost:8080/",
          "height": 433
        },
        "id": "roDDzd6foq93",
        "outputId": "84af523b-285a-43f0-9214-d8c387819b12"
      },
      "outputs": [
        {
          "name": "stdout",
          "output_type": "stream",
          "text": [
            "1253\n"
          ]
        },
        {
          "ename": "RateLimitError",
          "evalue": "ignored",
          "output_type": "error",
          "traceback": [
            "\u001b[0;31m---------------------------------------------------------------------------\u001b[0m",
            "\u001b[0;31mRateLimitError\u001b[0m                            Traceback (most recent call last)",
            "\u001b[0;32m<ipython-input-84-42e8704b46e0>\u001b[0m in \u001b[0;36m<cell line: 36>\u001b[0;34m()\u001b[0m\n\u001b[1;32m     34\u001b[0m \u001b[0;31m# Example usage\u001b[0m\u001b[0;34m\u001b[0m\u001b[0;34m\u001b[0m\u001b[0m\n\u001b[1;32m     35\u001b[0m \u001b[0minitial_text_to_summarize\u001b[0m \u001b[0;34m=\u001b[0m \u001b[0mdocuments\u001b[0m\u001b[0;34m[\u001b[0m\u001b[0;36m0\u001b[0m\u001b[0;34m]\u001b[0m\u001b[0;34m.\u001b[0m\u001b[0mpage_content\u001b[0m\u001b[0;34m\u001b[0m\u001b[0;34m\u001b[0m\u001b[0m\n\u001b[0;32m---> 36\u001b[0;31m \u001b[0mfinal_summary\u001b[0m \u001b[0;34m=\u001b[0m \u001b[0mrecursive_summarize\u001b[0m\u001b[0;34m(\u001b[0m\u001b[0minitial_text_to_summarize\u001b[0m\u001b[0;34m,\u001b[0m \u001b[0mtarget_word_count\u001b[0m\u001b[0;34m=\u001b[0m\u001b[0;36m50\u001b[0m\u001b[0;34m)\u001b[0m\u001b[0;34m\u001b[0m\u001b[0;34m\u001b[0m\u001b[0m\n\u001b[0m",
            "\u001b[0;32m<ipython-input-84-42e8704b46e0>\u001b[0m in \u001b[0;36mrecursive_summarize\u001b[0;34m(text_to_summarize, target_word_count)\u001b[0m\n\u001b[1;32m     28\u001b[0m     \u001b[0;32mif\u001b[0m \u001b[0mword_count\u001b[0m \u001b[0;34m>\u001b[0m \u001b[0mtarget_word_count\u001b[0m\u001b[0;34m:\u001b[0m\u001b[0;34m\u001b[0m\u001b[0;34m\u001b[0m\u001b[0m\n\u001b[1;32m     29\u001b[0m     \u001b[0;31m#     print(++count)\u001b[0m\u001b[0;34m\u001b[0m\u001b[0;34m\u001b[0m\u001b[0m\n\u001b[0;32m---> 30\u001b[0;31m         \u001b[0;32mreturn\u001b[0m \u001b[0mrecursive_summarize\u001b[0m\u001b[0;34m(\u001b[0m\u001b[0mfull_summary\u001b[0m\u001b[0;34m,\u001b[0m \u001b[0mtarget_word_count\u001b[0m\u001b[0;34m)\u001b[0m\u001b[0;34m\u001b[0m\u001b[0;34m\u001b[0m\u001b[0m\n\u001b[0m\u001b[1;32m     31\u001b[0m \u001b[0;34m\u001b[0m\u001b[0m\n\u001b[1;32m     32\u001b[0m     \u001b[0;32mreturn\u001b[0m \u001b[0mfull_summary\u001b[0m\u001b[0;34m\u001b[0m\u001b[0;34m\u001b[0m\u001b[0m\n",
            "\u001b[0;32m<ipython-input-84-42e8704b46e0>\u001b[0m in \u001b[0;36mrecursive_summarize\u001b[0;34m(text_to_summarize, target_word_count)\u001b[0m\n\u001b[1;32m     10\u001b[0m         \u001b[0msentences\u001b[0m \u001b[0;34m=\u001b[0m \u001b[0;34m' '\u001b[0m\u001b[0;34m.\u001b[0m\u001b[0mjoin\u001b[0m\u001b[0;34m(\u001b[0m\u001b[0mlist\u001b[0m\u001b[0;34m(\u001b[0m\u001b[0mchunk\u001b[0m\u001b[0;34m)\u001b[0m\u001b[0;34m)\u001b[0m\u001b[0;34m\u001b[0m\u001b[0;34m\u001b[0m\u001b[0m\n\u001b[1;32m     11\u001b[0m         \u001b[0mprompt\u001b[0m \u001b[0;34m=\u001b[0m \u001b[0;34mf\"{sentences}\\n\\ntl;dr:\"\u001b[0m\u001b[0;34m\u001b[0m\u001b[0;34m\u001b[0m\u001b[0m\n\u001b[0;32m---> 12\u001b[0;31m         response = openai.Completion.create(\n\u001b[0m\u001b[1;32m     13\u001b[0m             \u001b[0mengine\u001b[0m\u001b[0;34m=\u001b[0m\u001b[0;34m\"text-davinci-003\"\u001b[0m\u001b[0;34m,\u001b[0m\u001b[0;34m\u001b[0m\u001b[0;34m\u001b[0m\u001b[0m\n\u001b[1;32m     14\u001b[0m             \u001b[0mprompt\u001b[0m\u001b[0;34m=\u001b[0m\u001b[0mprompt\u001b[0m\u001b[0;34m,\u001b[0m\u001b[0;34m\u001b[0m\u001b[0;34m\u001b[0m\u001b[0m\n",
            "\u001b[0;32m/usr/local/lib/python3.10/dist-packages/openai/api_resources/completion.py\u001b[0m in \u001b[0;36mcreate\u001b[0;34m(cls, *args, **kwargs)\u001b[0m\n\u001b[1;32m     23\u001b[0m         \u001b[0;32mwhile\u001b[0m \u001b[0;32mTrue\u001b[0m\u001b[0;34m:\u001b[0m\u001b[0;34m\u001b[0m\u001b[0;34m\u001b[0m\u001b[0m\n\u001b[1;32m     24\u001b[0m             \u001b[0;32mtry\u001b[0m\u001b[0;34m:\u001b[0m\u001b[0;34m\u001b[0m\u001b[0;34m\u001b[0m\u001b[0m\n\u001b[0;32m---> 25\u001b[0;31m                 \u001b[0;32mreturn\u001b[0m \u001b[0msuper\u001b[0m\u001b[0;34m(\u001b[0m\u001b[0;34m)\u001b[0m\u001b[0;34m.\u001b[0m\u001b[0mcreate\u001b[0m\u001b[0;34m(\u001b[0m\u001b[0;34m*\u001b[0m\u001b[0margs\u001b[0m\u001b[0;34m,\u001b[0m \u001b[0;34m**\u001b[0m\u001b[0mkwargs\u001b[0m\u001b[0;34m)\u001b[0m\u001b[0;34m\u001b[0m\u001b[0;34m\u001b[0m\u001b[0m\n\u001b[0m\u001b[1;32m     26\u001b[0m             \u001b[0;32mexcept\u001b[0m \u001b[0mTryAgain\u001b[0m \u001b[0;32mas\u001b[0m \u001b[0me\u001b[0m\u001b[0;34m:\u001b[0m\u001b[0;34m\u001b[0m\u001b[0;34m\u001b[0m\u001b[0m\n\u001b[1;32m     27\u001b[0m                 \u001b[0;32mif\u001b[0m \u001b[0mtimeout\u001b[0m \u001b[0;32mis\u001b[0m \u001b[0;32mnot\u001b[0m \u001b[0;32mNone\u001b[0m \u001b[0;32mand\u001b[0m \u001b[0mtime\u001b[0m\u001b[0;34m.\u001b[0m\u001b[0mtime\u001b[0m\u001b[0;34m(\u001b[0m\u001b[0;34m)\u001b[0m \u001b[0;34m>\u001b[0m \u001b[0mstart\u001b[0m \u001b[0;34m+\u001b[0m \u001b[0mtimeout\u001b[0m\u001b[0;34m:\u001b[0m\u001b[0;34m\u001b[0m\u001b[0;34m\u001b[0m\u001b[0m\n",
            "\u001b[0;32m/usr/local/lib/python3.10/dist-packages/openai/api_resources/abstract/engine_api_resource.py\u001b[0m in \u001b[0;36mcreate\u001b[0;34m(cls, api_key, api_base, api_type, request_id, api_version, organization, **params)\u001b[0m\n\u001b[1;32m    151\u001b[0m         )\n\u001b[1;32m    152\u001b[0m \u001b[0;34m\u001b[0m\u001b[0m\n\u001b[0;32m--> 153\u001b[0;31m         response, _, api_key = requestor.request(\n\u001b[0m\u001b[1;32m    154\u001b[0m             \u001b[0;34m\"post\"\u001b[0m\u001b[0;34m,\u001b[0m\u001b[0;34m\u001b[0m\u001b[0;34m\u001b[0m\u001b[0m\n\u001b[1;32m    155\u001b[0m             \u001b[0murl\u001b[0m\u001b[0;34m,\u001b[0m\u001b[0;34m\u001b[0m\u001b[0;34m\u001b[0m\u001b[0m\n",
            "\u001b[0;32m/usr/local/lib/python3.10/dist-packages/openai/api_requestor.py\u001b[0m in \u001b[0;36mrequest\u001b[0;34m(self, method, url, params, headers, files, stream, request_id, request_timeout)\u001b[0m\n\u001b[1;32m    296\u001b[0m             \u001b[0mrequest_timeout\u001b[0m\u001b[0;34m=\u001b[0m\u001b[0mrequest_timeout\u001b[0m\u001b[0;34m,\u001b[0m\u001b[0;34m\u001b[0m\u001b[0;34m\u001b[0m\u001b[0m\n\u001b[1;32m    297\u001b[0m         )\n\u001b[0;32m--> 298\u001b[0;31m         \u001b[0mresp\u001b[0m\u001b[0;34m,\u001b[0m \u001b[0mgot_stream\u001b[0m \u001b[0;34m=\u001b[0m \u001b[0mself\u001b[0m\u001b[0;34m.\u001b[0m\u001b[0m_interpret_response\u001b[0m\u001b[0;34m(\u001b[0m\u001b[0mresult\u001b[0m\u001b[0;34m,\u001b[0m \u001b[0mstream\u001b[0m\u001b[0;34m)\u001b[0m\u001b[0;34m\u001b[0m\u001b[0;34m\u001b[0m\u001b[0m\n\u001b[0m\u001b[1;32m    299\u001b[0m         \u001b[0;32mreturn\u001b[0m \u001b[0mresp\u001b[0m\u001b[0;34m,\u001b[0m \u001b[0mgot_stream\u001b[0m\u001b[0;34m,\u001b[0m \u001b[0mself\u001b[0m\u001b[0;34m.\u001b[0m\u001b[0mapi_key\u001b[0m\u001b[0;34m\u001b[0m\u001b[0;34m\u001b[0m\u001b[0m\n\u001b[1;32m    300\u001b[0m \u001b[0;34m\u001b[0m\u001b[0m\n",
            "\u001b[0;32m/usr/local/lib/python3.10/dist-packages/openai/api_requestor.py\u001b[0m in \u001b[0;36m_interpret_response\u001b[0;34m(self, result, stream)\u001b[0m\n\u001b[1;32m    698\u001b[0m         \u001b[0;32melse\u001b[0m\u001b[0;34m:\u001b[0m\u001b[0;34m\u001b[0m\u001b[0;34m\u001b[0m\u001b[0m\n\u001b[1;32m    699\u001b[0m             return (\n\u001b[0;32m--> 700\u001b[0;31m                 self._interpret_response_line(\n\u001b[0m\u001b[1;32m    701\u001b[0m                     \u001b[0mresult\u001b[0m\u001b[0;34m.\u001b[0m\u001b[0mcontent\u001b[0m\u001b[0;34m.\u001b[0m\u001b[0mdecode\u001b[0m\u001b[0;34m(\u001b[0m\u001b[0;34m\"utf-8\"\u001b[0m\u001b[0;34m)\u001b[0m\u001b[0;34m,\u001b[0m\u001b[0;34m\u001b[0m\u001b[0;34m\u001b[0m\u001b[0m\n\u001b[1;32m    702\u001b[0m                     \u001b[0mresult\u001b[0m\u001b[0;34m.\u001b[0m\u001b[0mstatus_code\u001b[0m\u001b[0;34m,\u001b[0m\u001b[0;34m\u001b[0m\u001b[0;34m\u001b[0m\u001b[0m\n",
            "\u001b[0;32m/usr/local/lib/python3.10/dist-packages/openai/api_requestor.py\u001b[0m in \u001b[0;36m_interpret_response_line\u001b[0;34m(self, rbody, rcode, rheaders, stream)\u001b[0m\n\u001b[1;32m    761\u001b[0m         \u001b[0mstream_error\u001b[0m \u001b[0;34m=\u001b[0m \u001b[0mstream\u001b[0m \u001b[0;32mand\u001b[0m \u001b[0;34m\"error\"\u001b[0m \u001b[0;32min\u001b[0m \u001b[0mresp\u001b[0m\u001b[0;34m.\u001b[0m\u001b[0mdata\u001b[0m\u001b[0;34m\u001b[0m\u001b[0;34m\u001b[0m\u001b[0m\n\u001b[1;32m    762\u001b[0m         \u001b[0;32mif\u001b[0m \u001b[0mstream_error\u001b[0m \u001b[0;32mor\u001b[0m \u001b[0;32mnot\u001b[0m \u001b[0;36m200\u001b[0m \u001b[0;34m<=\u001b[0m \u001b[0mrcode\u001b[0m \u001b[0;34m<\u001b[0m \u001b[0;36m300\u001b[0m\u001b[0;34m:\u001b[0m\u001b[0;34m\u001b[0m\u001b[0;34m\u001b[0m\u001b[0m\n\u001b[0;32m--> 763\u001b[0;31m             raise self.handle_error_response(\n\u001b[0m\u001b[1;32m    764\u001b[0m                 \u001b[0mrbody\u001b[0m\u001b[0;34m,\u001b[0m \u001b[0mrcode\u001b[0m\u001b[0;34m,\u001b[0m \u001b[0mresp\u001b[0m\u001b[0;34m.\u001b[0m\u001b[0mdata\u001b[0m\u001b[0;34m,\u001b[0m \u001b[0mrheaders\u001b[0m\u001b[0;34m,\u001b[0m \u001b[0mstream_error\u001b[0m\u001b[0;34m=\u001b[0m\u001b[0mstream_error\u001b[0m\u001b[0;34m\u001b[0m\u001b[0;34m\u001b[0m\u001b[0m\n\u001b[1;32m    765\u001b[0m             )\n",
            "\u001b[0;31mRateLimitError\u001b[0m: You exceeded your current quota, please check your plan and billing details."
          ]
        }
      ],
      "source": [
        "import numpy as np\n",
        "count=0\n",
        "def recursive_summarize(text_to_summarize, target_word_count=200):\n",
        "    words = text_to_summarize.split(\" \")\n",
        "    chunks = np.array_split(words, 15)\n",
        "    summary_responses = []\n",
        "    full_summary = \"\"\n",
        "\n",
        "    for chunk in chunks:\n",
        "        sentences = ' '.join(list(chunk))\n",
        "        prompt = f\"{sentences}\\n\\ntl;dr:\"\n",
        "        response = openai.Completion.create(\n",
        "            engine=\"text-davinci-003\",\n",
        "            prompt=prompt,\n",
        "            temperature=0.3,\n",
        "            max_tokens=150,\n",
        "            top_p=1,\n",
        "            frequency_penalty=0,\n",
        "            presence_penalty=1\n",
        "        )\n",
        "\n",
        "        response_text = response[\"choices\"][0][\"text\"]\n",
        "        summary_responses.append(response_text+'\\n\\n')\n",
        "\n",
        "    full_summary = \"\".join(summary_responses)\n",
        "    word_count = len(full_summary.split())\n",
        "    print(word_count)\n",
        "    if word_count > target_word_count:\n",
        "    #     print(++count)\n",
        "        return recursive_summarize(full_summary, target_word_count)\n",
        "\n",
        "    return full_summary\n",
        "\n",
        "# Example usage\n",
        "initial_text_to_summarize = documents[0].page_content\n",
        "final_summary = recursive_summarize(initial_text_to_summarize, target_word_count=50)\n"
      ]
    },
    {
      "cell_type": "code",
      "execution_count": null,
      "metadata": {
        "colab": {
          "base_uri": "https://localhost:8080/"
        },
        "id": "58g2FINNpChZ",
        "outputId": "fdb5f17f-eb05-4c04-f487-109076ca69ef"
      },
      "outputs": [
        {
          "name": "stdout",
          "output_type": "stream",
          "text": [
            "\n",
            "This document contains information about the Northwind Standard health plan, which provides coverage for medical, vision, and dental services. It explains the various costs associated with this plan, such as premiums, deductibles, co-payments, and co-insurance. It also provides tips on how to manage your costs and discusses the importance of choosing in-network providers. Additionally, it explains balance billing protection and the benefits of out-of-network or non-contracted providers.\n",
            "\n",
            " The Northwind Standard plan includes an out-of-pocket maximum of $6,350 for an individual and $12,700 for a family. This limit applies to certain covered services and includes deductibles, coinsurance, and copayments. Certain services, such as non-covered services or services provided outside of the Northwind Health network, are not subject to the out-of-pocket maximum. Additionally, the out-of-pocket maximum will reset at the start of the calendar year, so any expenses paid during the previous year will not carry over. Employees should review their insurance statements regularly to keep track of their out-of-pocket expenses.\n",
            "\n",
            " Northwind Standard covers cellular immunotherapy and gene therapy, two cutting-edge treatments that have the potential to revolutionize the way we treat cancer and other diseases. These treatments are typically only available at specialized centers, and they can be very expensive. It is important to check with your provider to determine what is and is not covered by your plan, and to discuss any questions or concerns with your doctor.\n",
            "\n",
            " Northwind Standard provides coverage for foot care services, including podiatry visits, orthotics, and foot surgery. Make sure to visit an in-network provider to ensure that your costs are covered. Unfortunately, Northwind Standard does not cover the cost of prosthetic devices or custom orthopedic shoes.\n",
            "\n",
            " Northwind Health offers massage therapy coverage as part of the Northwind Standard plan. In order to be eligible for massage therapy coverage, the massage therapy must be medically necessary and prescribed by a doctor. The plan covers up to 20 visits per year and covers both in-network and out-of-network providers. However, there are some exceptions to the coverage, such as services that are not medically necessary or services provided by an unlicensed provider. It is important to understand the coverage limitations and exceptions before receiving massage therapy services.\n",
            "\n",
            " At Contoso, we are proud to partner with Northwind Health to offer our employees the Northwind Standard plan which includes coverage for newborn care. This plan covers a variety of services such as well-child visits, diagnostic tests, prescription drugs, mental health services, and physical therapy. However, there are some exceptions such as home health care, long-term care, alternative therapies, and cosmetic treatments which are not covered under the plan. It is important to keep all of your baby’s medical records, understand the coverage and any limitations that come with the plan, ask your baby’s doctor for information about any tests or treatments, and talk to your doctor about any questions or concerns you may have about your baby’s health\n",
            "\n",
            " Northwind Standard covers spinal and other manipulations, including chiropractic and osteopathic services, when they are performed by a licensed chiropractor or osteopathic physician and when they are medically necessary. Coverage may be subject to pre-authorization or pre-certification, and it does not cover services that are not medically necessary or experimental in nature.\n",
            "\n",
            " Northwind Standard covers urgent care services when they are medically necessary. This includes the cost of the visit, diagnostic tests, and medications. Preauthorization may be required for certain services, and members may be responsible for any applicable copayments or coinsurance. It is important to note that Northwind Standard does not cover services provided in a hospital emergency room or a hospital inpatient setting unless they are medically necessary and pre-authorized by Northwind Health.\n",
            "\n",
            " Northwind Standard requires prior authorization for certain services and treatments. This process helps ensure that the care is necessary and medically appropriate. If prior-authorization is not obtained, the employee may be responsible for the full cost of any services or treatments that are received without approval. Employees should contact Northwind Health at least five business days before receiving care to make sure they have the necessary authorization.\n",
            "\n",
            " Northwind Health offers a range of personal health support programs that are part of the Northwind Standard plan. These programs provide access to specialized care teams and tailored resources to help you manage chronic illnesses, injuries, and other health-related issues. Our programs are designed to help you get the most out of your health benefits and achieve your health goals.\n",
            "\n",
            "\n",
            "\n",
            "Northwind Standard is a comprehensive health insurance plan that includes personal health support programs to help you manage chronic conditions, injuries, and other health-related issues. The plan covers Care Coordinators, Care Managers, Health Educators, and Specialists who can provide you with the knowledge, skills, and tools to achieve your health goals. However, Northwind Standard does not cover emergency services, mental health and substance abuse services, or out-of-network services. If you have other coverage, you may be able to coordinate benefits with those plans to reduce your out-of-pocket costs. When coordinating benefits, it’s important to understand the primary and secondary rules, as well as any exceptions that may apply. Additionally, it\n",
            "\n",
            "\n",
            "\n",
            "When you have Northwind Standard coverage, you have the right to appeal any denial of services or payment of benefits. This includes if you disagree with the amount of the payment or if you feel that your claim was denied incorrectly. You can file an appeal by submitting a letter or appeal form to Northwind Health within 60 days of the date of the denial. If you are not satisfied with the outcome of your appeal, you may be able to pursue a second level of appeal or file a complaint with your state insurance department. It is important to keep accurate records of all communication and correspondence related to your appeal.\n",
            "\n",
            "\n",
            "\n",
            "The Northwind Standard plan is a group plan offered to eligible employees of Contoso and their spouses or dependents. The plan provides coverage for medical, vision, and dental services, including preventive care services and prescription drug coverage. Employees must provide evidence of medical necessity for certain services in order to receive coverage under the plan. The plan also includes independent contractors in its network of healthcare providers, but does not provide coverage for care received from them. It is important for employees to understand their rights and responsibilities under the law when it comes to their employer-provided health insurance plan. Additionally, they should make sure they understand the terms of the plan, including what is and what is not covered, as well as any coordination of benefits and limitations or exclus\n",
            "\n",
            " Northwind Health provides employees with important information about their health plan, including notices of privacy practices, benefit and payment parameters, pre-existing condition exclusions, continuation coverage rights, availability of plan documents, creditable coverage, right to change coverage, and addition or deletion of benefits. It is important for employees to read and understand these notices in order to make sure they are getting the most out of their Northwind Standard plan. Employees should also be aware of any intentionally false or misleading statements that Northwind Health may use when discussing their plans, as well as their obligations and responsibilities as members of the plan. Additionally, employees should be aware of any other coverage they may have and how it could affect their Northwind Standard coverage.\n",
            "\n",
            " Northwind Standard is a comprehensive health plan that provides coverage for medical, vision, and dental services. It also includes preventive care services and prescription drug coverage. The plan also offers a right of recovery for any services that were already paid for by the insured. Additionally, the Women’s Health and Cancer Rights Act of 1998 requires all group health plans, including Northwind Standard, to provide coverage for mastectomies, reconstructive surgery, and other related medical services. Finally, Workers’ Compensation Insurance provides financial protection to employees in the event of a work-related injury or illness. It is important to understand the various terms and definitions associated with Northwind Standard in order to make sure you are getting the most out of your plan.\n",
            "\n",
            "\n",
            "8885\n"
          ]
        }
      ],
      "source": [
        "print(final_summary)\n",
        "print(len(final_summary))"
      ]
    },
    {
      "cell_type": "markdown",
      "metadata": {
        "id": "DJQDOLQLXYUU"
      },
      "source": []
    },
    {
      "cell_type": "markdown",
      "metadata": {
        "id": "gJUSorZlVOGt"
      },
      "source": [
        "## OpenAI Playground\n",
        "\n",
        "Now that we have access to the OpenAI API and have configured the Python package, what can we do with it? If you have not already done so, I suggest trying some of the examples in the [OpenAI Playground](https://beta.openai.com/examples). This will allow you to experiment with various prompts and their responses without writing any code.\n",
        "\n",
        "# Calling OpenAI From Python\n",
        "\n",
        "While it is fun to talk to GPT-3 from the Playground, we will get the most value out of OpenAI if we know how to code. With a few lines of Python, we can dynamically craft specific prompts, programmatically call OpenAI, and process the outputs. By doing this we can obtain interesting results and create our own custom applications. Let's start with a simple Q & A prompt and ask GPT-3 a question:"
      ]
    },
    {
      "cell_type": "code",
      "execution_count": null,
      "metadata": {
        "colab": {
          "base_uri": "https://localhost:8080/"
        },
        "id": "yN4DvMOsVdQN",
        "outputId": "da85a2cf-0be2-4572-fe39-925b531114db"
      },
      "outputs": [
        {
          "data": {
            "text/plain": [
              "<OpenAIObject text_completion id=cmpl-7bYyAa7iQhlIY5qRAuSvLuZVzJzQc at 0x7b32e0cf23e0> JSON: {\n",
              "  \"id\": \"cmpl-7bYyAa7iQhlIY5qRAuSvLuZVzJzQc\",\n",
              "  \"object\": \"text_completion\",\n",
              "  \"created\": 1689186914,\n",
              "  \"model\": \"text-davinci-003\",\n",
              "  \"choices\": [\n",
              "    {\n",
              "      \"text\": \"\\nThe greatest investor of all time is widely considered to be Warren Buffett.\",\n",
              "      \"index\": 0,\n",
              "      \"logprobs\": null,\n",
              "      \"finish_reason\": \"stop\"\n",
              "    }\n",
              "  ],\n",
              "  \"usage\": {\n",
              "    \"prompt_tokens\": 66,\n",
              "    \"completion_tokens\": 15,\n",
              "    \"total_tokens\": 81\n",
              "  }\n",
              "}"
            ]
          },
          "execution_count": 4,
          "metadata": {},
          "output_type": "execute_result"
        }
      ],
      "source": [
        "prompt = \"I am a highly intelligent question answering bot. If you ask me a question that is rooted in truth, I will give you the answer. If you ask me a question that is nonsense, trickery, or has no clear answer, I will respond with \\\"Unknown\\\". Q: Who is the greatest investor of all time?\\n\\n\"\n",
        "engine = 'text-davinci-003'\n",
        "response = openai.Completion.create(\n",
        "  engine=engine,\n",
        "  prompt=prompt,\n",
        "  temperature=0.3, # The temperature controls the randomness of the response, represented as a range from 0 to 1. A lower value of temperature means the API will respond with the first thing that the model sees; a higher value means the model evaluates possible responses that could fit into the context before spitting out the result.\n",
        "  max_tokens=140,\n",
        "  top_p=1, # Top P controls how many random results the model should consider for completion, as suggested by the temperature dial, thus determining the scope of randomness. Top P’s range is from 0 to 1. A lower value limits creativity, while a higher value expands its horizons.\n",
        "  frequency_penalty=0,\n",
        "  presence_penalty=1\n",
        ")\n",
        "\n",
        "response"
      ]
    },
    {
      "cell_type": "markdown",
      "metadata": {
        "id": "MtEwhpAXaYfM"
      },
      "source": [
        "OpenAI replies that Warren Buffett is widely considered the greatest investor of all time. Notice that we set a variety of parameters in our code above: engine, prompt, temperature, max_tokens, etc. A full list of the available models and parameters are available on the [OpenAI GPT-3 models page](https://beta.openai.com/docs/models/gpt-3). You should experiment with different models and observe their differences and capabilities. They have different costs associated with them, so if you are performing a simpler task than you should use a simpler and cheaper model."
      ]
    },
    {
      "cell_type": "markdown",
      "metadata": {
        "id": "TrzMKEkgbj2q"
      },
      "source": [
        "# Summarization Task"
      ]
    },
    {
      "cell_type": "markdown",
      "metadata": {
        "id": "k9legLa9bn7U"
      },
      "source": [
        "In the previous tutorial we used OpenAI Whisper to transcribe the audio of a Fed Speech. We can do the same to obtain the text transcript of an earnings call. I have provided a [transcript of the most recent Nvidia earnings call here](https://gist.github.com/hackingthemarkets/e664894b65b31cbe8993e02d25d26768). As you can see, this is quite a long earnings call which could take over an hour to listen to. In addition, it would take a long time to extract the most pertinent information from this call. Let's see if we can feed this earnings call to GPT-3 and have it process the language. We can do this by using the Summarization / TLDR prompt.\n",
        "\n",
        "First, let's read the earnings call text into a variable. We can use the requests library to fetch the raw text of the earnings call that I have linked above:"
      ]
    },
    {
      "cell_type": "code",
      "execution_count": null,
      "metadata": {
        "id": "MhieuqZ0aXD0"
      },
      "outputs": [],
      "source": [
        "import requests\n",
        "\n",
        "url = \"https://gist.githubusercontent.com/hackingthemarkets/e664894b65b31cbe8993e02d25d26768/raw/618afe09d07979cc72911ce79634ab5d2cc19a54/nvidia-earnings-call.txt\"\n",
        "response = requests.get(url)\n",
        "transcript = response.text\n",
        "\n",
        "transcript\n",
        "\n"
      ]
    },
    {
      "cell_type": "markdown",
      "metadata": {
        "id": "GKHCobbyaXwB"
      },
      "source": [
        "Now that we have the earnings text in a data variable, let's make this into a summarization prompt. To do this, we can simply append \"tldr;\" and some carriage returns to the data:"
      ]
    },
    {
      "cell_type": "code",
      "execution_count": null,
      "metadata": {
        "colab": {
          "base_uri": "https://localhost:8080/",
          "height": 139
        },
        "id": "7rUOCx7ndRQd",
        "outputId": "d662b8a2-d45c-4e96-8490-eaa1b12d2fd9"
      },
      "outputs": [
        {
          "data": {
            "application/vnd.google.colaboratory.intrinsic+json": {
              "type": "string"
            },
            "text/plain": [
              "\"Operator\\n\\nGood afternoon. My name is Emma, and I will be your conference operator today. At this time, I would like to welcome everyone to the NVIDIA's third quarter earnings call. [Operator instructions] Simona Jankowski, you may begin your conference.\\n\\nSimona Jankowski -- Vice President, Investor Relations\\n\\nThank you. Good afternoon, everyone, and welcome to NVIDIA's conference call for the third quarter of fiscal 2023. With me today from NVIDIA are Jen-Hsun Huang, president and chief executive officer; and Colette Kress, executive vice president and chief financial officer. I'd like to remind you that our call is being webcast live on NVIDIA's investor relations website.\\n\\n\\nThe webcast will be available for replay until the conference call to discuss our financial results for the fourth quarter and fiscal 2023. The content of today's call is NVIDIA's property. It can't be reproduced or transcribed without our prior written consent. During this call, we may make forward-looking statements based on current expectations.\\n\\nThese are subject to a number of significant risks and uncertainties, and our actual results may differ materially. For a discussion of factors that could affect our future financial results and business, please refer to the disclosure in today's earnings release our most recent Forms 10-K and 10-Q and the reports that we may file on Form 8-K with the Securities and Exchange Commission. All our statements are made as of today, November 16, 2022, and based on information currently available to us. Except as required by law, we assume no obligation to update any such statements.\\n\\nDuring this call, we will discuss non-GAAP financial measures. You can find a reconciliation of these non-GAAP financial measures to GAAP financial measures in our CFO commentary, which is posted on our website. With that, let me turn the call over to Colette.\\n\\nColette Kress -- Executive Vice President and Chief Financial Officer\\n\\n\\nThanks, Simona. Q3 revenue was $5.93 billion, down 12% sequentially and down 17% year on year. We delivered record data center and automotive revenue. while our gaming and pro visualization platforms declined as we work through channel inventory corrections and challenging external conditions.\\n\\nStarting with data center. Revenue of $3.83 billion was up 1% sequentially and 31% year-on-year. This reflects very solid performance in the face of macroeconomic challenges new export controls and lingering supply chain disruptions. Year-on-year growth was driven primarily by leading U.S.\\n\\ncloud providers and a broadening set of consumer Internet companies for workloads such as large language models, recommendation systems and generative AI. As the number and scale of public cloud computing and Internet service companies deploying NVIDIA AI grows our traditional hyperscale definition will need to be expanded to convey the different end market use cases. We will align our data center customer commentary going forward accordingly. Other vertical industries, such as automotive and energy, also contributed to growth with key workloads relating to autonomous driving, high-performance computing, simulations and analytics.\\n\\nDuring the quarter, the U.S. government announced new restrictions impacting exports of our A100 and H-100 based products to China, and any product destined for certain systems or entities in China. These restrictions impacted third quarter revenue, largely offset by sales of alternative products into China. That said, demand in China more broadly remains soft, and we expect that to continue in the current quarter.\\n\\n\\nWe started shipping our flagship 100 data center GPU based on the new hopper architecture in Q3. A100-based systems are available starting this month from leading server makers including Dell, Hewlett Packard Enterprise, Lenovo and SuperMicro. Early next year, the first H-100 based cloud instances will be available on Amazon Web Services, Google Cloud, Microsoft Azure and Oracle Cloud Infrastructure. A100 delivered the highest performance and workload versatility for both AI training and inference in the latest MLPerf industry benchmarks.\\n\\nH-100 also delivers incredible value compared to the previous generation for equivalent AI performance it offers three x lower total cost of ownership while using five x fewer server nodes and 3.5 x less energy. Earlier today, we announced a multiyear collaboration with Microsoft to build an advanced cloud-based AI supercomputer to help enterprises train, deploy and scale AI including large state-of-the-art models. MacBook Azure will incorporate our complete AI stack, adding tens and thousands of A100 and A100 GPUs. Quantum 2 400 gigabit per second InfiniBand networking and the NVIDIA AI enterprise software suite to its platform.\\n\\nOracle and NVIDIA are also working together to offer AI training and inference at scale to thousands of enterprises. This includes bringing to Oracle Cloud infrastructure, the full NVIDIA accelerated computing stack and adding tens of thousands of NVIDIA GPUs, including the A100 and H-100. Cloud-based high-performance in the company, new scale is adopting NVIDIA AI enterprise and other software to address the industrial scientific communities, rising demand for AI in the cloud. NVIDIA AI will bring new capability to rescale high-performance computing as a service offerings, which include simulation and engineering software used across industries.\\n\\nNetworking posted strong growth driven by hyperscale customers and easing supply constraints. -- our new Quantum 240 gigabit per second InfiniBand and Spectrum Ethernet networking platforms are building momentum. We achieved an important milestone this quarter with VMware. And whose leading server virtualization platform, vSphere, has been rearchitected over the last two years to run on DPUs and now supports our BlueField DPUs.\\n\\nOur joint enterprise AI platform is available first on Dell PowerEdge servers. The BlueField DPU design win pipeline is growing and the number of infrastructure softer partners is expanding, including Arista, Check Point, Juniper, [Inaudible] Networks and Red Hot. The latest top 500 list of supercomputers released this week at Supercomputing '22 and has the highest ever number of NVIDIA-powered systems, including 72% of the total and 90% of new systems on the list. Moreover, NVIDIA powers 23 of the top 30 of the Green 500 list, demonstrating the energy efficiency of accelerated computing.\\n\\nThe No. 1 most energy-efficient system is the Flat Iron Institute Henry, which is the first top 500 system featuring our H-100 GPUs. At GTC, we announced the NVIDIA Omniverse Computing System, or OVS, reference designs featuring the new L4 GPU based on the ADA Lovelace architecture. These systems are designed to build and operate 3D virtual world using NVIDIA Omniverse enterprise.\\n\\nNVIDIA OBX systems will be available from Inspur, Lenovo and Super Micro by early 2023. We Lockheed Martin and Jaguar Land Rover will be among the first customers to receive OVS systems. We are further expanding our AI software and services offerings with NVIDIA and Bio Nemo large language model services, which are both entering early access this month. These enable developers to easily adopt large language models and deploy customized AI applications for content generation, tech summarization, chatbox, co-development, protein structure and biomolecular property predictions.\\n\\nMoving to gaming. Revenue of $1.57 billion was down 23% sequentially and down 51% from a year ago, reflecting lower sell-in to partners to help align channel inventory levels with current demand expectations. We believe Channel inventories are on track to approach normal levels as we exit Q4. Sell-through for our gaming products was relatively solid in the Americas and EMEA and but softer in Asia Pac as macroeconomic conditions and covered lockdowns in China continued to weigh on consumer demand.\\n\\nOur new Ada Lovelace GPU architecture had an exceptional launch. The first ADA GPU, the GeForce RTX 4090 became available in mid-October and a tremendous amount and positive feedback from the gaming community. We sold out quickly in many locations and are working hard to keep up with demand. The next member of the ATA family, RTX 4080 is available today.\\n\\nThe RTX 40 Series GPUs features DLSS 3, the neuro rendering technology that uses AI to generate entire frames for faster game play. Our third-generation RTX technology has raised the bar for computer graphics and help supercharge gaming. For example, the 15-year old classic game portal, now reimagined with full ray tracing and DLSS 3 has made it on Steam's top 100 most wish-listed gains. The total number of RTX games and applications now exceeds 350.\\n\\nThere is tremendous energy in the gaming community that we believe will continue to fuel strong fundamentals over the long term. The number of simultaneous users on steam just hit a record of $30 million, surpassing the prior peak of $28 million in January. Activision's Call of Duty Modern Warfare 2 set a record for the franchise with more than $800 million in opening weekend sales. topping the combined box office openings of movie blockbusters, TopGun Maverick and Dr.\\n\\nStrains in the Multiverse of [Inaudible]. And this month's League of Legends World Championship in San Francisco sold out minutes with 18,000 esports fans packed the arena where the Golden State Warriors play. We continue to expand the GeForce NOW cloud gaming service. In Q3, we added over 85 games to the library, bringing the total to over 1,400.\\n\\nWe also launched GeForce now on the new gaming devices, including Logitech, Cloud handheld, cloud gaming Chromebooks and Razor 5G Edge. Moving to Probi Revenue of $200 million was down 60% sequentially and down 65% from a year ago, reflecting lower sell-in to partners to help align channel inventory levels with the current demand expectations. These dynamics are expected to continue in Q4. Despite near-term challenges, we believe our long-term opportunity remains intact, fueled by AI simulation, computationally intensive design and engineering workloads.\\n\\nAt GTC, we announced NVIDIA Omniverse Cloud Services, our first software and infrastructure as a service offering, enabling artists, developers and enterprise teams to design, publish and operate metaverse applications from anywhere on any device. Omniverse Cloud Services runs on Omniverse cloud computer, a computing system comprised of NVIDIA OBX for graphics and physics simulation. NVIDIA HDX for AI workloads and the NVIDIA graphics delivery network, a global scale, distributed data center network for delivering low-latency metaverse graphics on the edge. Leaders in some of the world's largest industries continue to adopt Omniverse.\\n\\nHome improvement retailer, Lowe's is using it to help design, build and operate digital twins for their stores. Charter Communications and advanced analytics company, heavy AI are creating Omniverse power digital twins to optimize Charter's wireless network. In Deutsche Bahn, operator of German National Railway is using Omniverse to create digital twins of its rail network and train AI models to monitor the network, increasing safety and reliability. Moving to automotive.\\n\\nRevenue of $251 million, increased 14% sequentially and 86% from a year ago. Growth was driven by an increase in AI automotive solutions as our customers drive or on-based production ramp, continue to scale. Automotive has great momentum and is on its way to be our next multibillion-dollar platform. Global cars unveiled the all-new flagship Volvo EX90 SUV powered by the NVIDIA Drive platform.\\n\\nThis is the first model to use Volvo's software-defined architecture with a centralized core computer containing both drive Orin and DRIVEXaviar, along with 30 sensors. Other recently announced design wins and new model introductions include ton, auto, Neo, Polystar and [Inaudible]. At GTC, we also announced that NVIDIA Drive Super Chip, the successor to Orin in our automotive SoC road map, drive [Inaudible] delivers up to 2,000 tariff lots of performance and leverages technologies introduced in our Grace Hopper and ADA architectures. It is capable of running both the automated drive and in-vehicle infotainment systems.\\n\\nSimultaneously offering a LIFA performance while reducing cost and energy consumption. Driver will be available for automakers 25 models with Geely owned automaker, Zika as the first announced customer. Moving to the rest of the P&L. GAAP gross margin was 53.6% and and non-GAAP gross margin was 56.1%.\\n\\nGross margins reflect $702 million in inventory charges largely related to lower data center demand in China, partially offset by a warranty benefit of approximately $70 million. Year-on-year, GAAP operating expenses were up 31%, and non-GAAP operating expenses were up 30%, primarily due to higher compensation expenses related to headcount growth and salary increases and higher data center infrastructure expenses. Sequentially, both GAAP and non-GAAP operating expense growth was in the single-digit percent, and we plan to keep it relatively flat at these levels over the coming quarters. We returned $3.75 billion to shareholders in the form of share repurchases and cash dividends.\\n\\nAt the end of Q3, we had approximately $8.3 billion remaining under our share repurchase authorization through December 23. Let me turn to the outlook for the fourth quarter of fiscal 2023. We expect our data center revenue to reflect early production shipments of the A100, offset by continued softness in China. In gaming, we expect to resume sequential growth with our revenue still below end demand as we continue to work through the channel inventory correction.\\n\\nAnd in automotive, we expect the continued ramp of our Oren design wins. All in, we expect modest sequential growth driven by automotive, gaming and data center. Revenue is expected to be $6 billion, plus or minus 2%. GAAP and non-GAAP gross margins are expected to be $63.2 million and 66%, respectively, plus or minus 50 basis points.\\n\\nGAAP operating expenses are expected to be approximately $2.56 billion. Non-GAAP operating expenses are expected to be approximately $1.78 billion. GAAP and non-GAAP other income and expenses are expected to be an income of approximately $40 million, excluding gains and losses on nonaffiliated investments. GAAP and non-GAAP tax rates are expected to be 9%, plus or minus 1%, excluding any discrete items.\\n\\nCapital expenditures are expected to be approximately $500 million to $550 million. Further financial details are included in the CFO commentary and other information available on our IR website. In closing, let me highlight upcoming events for the financial community. We'll be attending the Credit Suisse conference in Phoenix on November 30.\\n\\nThe rate Virtual Tech Conference on December 5 and and the JPMorgan Forum on January 5 in Las Vegas. Our earnings call to discuss the results of our fourth quarter and fiscal 2023 are scheduled for Wednesday, February 22. We will now open the call for questions. Operator, could you please poll for questions?\\n\\nQuestions & Answers:\\nOperator\\n\\n[Operator instructions] Your first question comes from the line of Vivek Arya with Bank of America Securities. Your line is now open.\\n\\nVivek Arya -- Bank of America Merrill Lynch -- Analyst\\n\\nThanks for taking my question. Colette, just wanted to clarify first, I think last quarter, you gave us a sell-through rate for your gaming business at about $2.5 billion a quarter. I think you said China is somewhat weaker. So I was hoping you could update us on what that sell-through rate is right now for gaming.\\n\\nAnd then, Jen-Hsun, the question for you. A lot of concerns about large hyperscalers cutting their spending and pointing to a slowdown. So if, let's say, U.S. cloud capex is flat or slightly down next year, do you think your business can still grow in the data center and why?\\n\\nColette Kress -- Executive Vice President and Chief Financial Officer\\n\\nYes. Thanks for the question. Let me first start with the sell-through on our gaming business. we had indicated, if you put two quarters together, we would see approximately $5 billion in normalized sell-through for our business.\\n\\nNow, during the quarter, sell-through in Q3 three was relatively solid. We've indicated that although China lockdowns continue to channel -- excuse me, challenge our overall China business. It was still relatively solid. Notebook sell-through was also quite solid.\\n\\nAnd desktop, a bit softer, particularly in that China and Asia areas. We expect though stronger end demand, though, as we enter into Q4, driven by the upcoming holidays, as well as the continuation of the ADA adoption.\\n\\nJen-Hsun Huang -- President and Chief Executive Officer\\n\\nVivek, our data center business is indexed to two fundamental dynamics. The first has to do with general purpose computing no longer scaling. And so, acceleration is necessary to achieve the necessary level of cost efficiency scale and energy efficiency scale so that we can continue to increase workloads while saving money and saving power. Accelerated computing is recognized generally as the path forward as general purpose computing slows.\\n\\nThe second dynamic is AI. And we're seeing surging demand in some very important sectors of AIs in important breakthroughs in AI. One is called deep recommender systems, which is quite essential now to the best content or item or product to recommend to somebody who's using a device that is like a selfie or interacting with a computer just using voice. You need to really understand the nature, the context of the person making the request and make the appropriate recommendation to them.\\n\\nThe second has to do with large language models. This is -- this started several years ago with the invention of the transformer, which led to Bert, which led to GP3, which led to a whole bunch of other models now associated with that. We now have the ability to learn representations of languages of all kinds. It could be human language.\\n\\nIt could be the language of biology. It could be the language of chemistry. And recently, I just saw a breakthrough called Jeans LM, we just one of the first example of learning the language of human genomes. The third has to do with generative AI.\\n\\nYou know that the first 10 years, we've dedicated ourselves to perception AI. But the goal of perception, of course, is to understand context. But the ultimate goal of AI is to make a contribution to create something to generate product. And this is now the beginning of the era of generative AI.\\n\\nYou probably see it all over the place, whether they're generating images or generating videos or generating text of all kinds and the ability to augment our performance to enhance our performance to make productivity enhanced to reduce cost and improve whatever we do with whatever we have to work with, productivity is really more important than ever. And so, you could see that our company is indexed to two things, both of which are more important than ever, which is power efficiency, cost efficiency and then, of course, productivity. And these things are more important than ever. And my expectation is that we're seeing all the strong demand and surging demand for AI and for niche reasons.\\n\\nOperator\\n\\nYour next question comes from the line of C.J. Muse with Evercore. Your line is now open.\\n\\nC.J. Muse -- Evercore ISI -- Analyst\\n\\nYeah, Good afternoon and thank you for taking the question. You started to bundle on NVIDIA enterprise now with the H-100. I'm curious if you can talk about how we should think about timing around software monetization? And how we should kind of see this flow through the model, particularly with the focus on the AI enterprise and Omnivere side of things?\\n\\nJen-Hsun Huang -- President and Chief Executive Officer\\n\\nYes. Thanks, CJ. We're making excellent progress in NVIDIA AI enterprise. In fact, you saw probably that we made several announcements this quarter associated with clouds.\\n\\nYou know that NVIDIA has a rich ecosystem. And over the years, our rich ecosystem and our software stack has been integrated into developers and start-ups of all kinds, but more so -- more than ever, we're at the tipping point of clouds, and that's fantastic. Because if we could get NVIDIA's architecture and our full stack into every single cloud, we could reach more customers more quickly. And this quarter, we announced several initiatives, one has several partnerships and collaborations, one that we announced today, which has to do with Microsoft and our partnership there.\\n\\nIt has everything to do with scaling up AI because we have so many start-ups clamoring for large installations of our GPU so that they could do large language model training and building their start-ups and scale out of AI to enterprise and all of the world's Internet service providers. Every company we're talking to would like to have the agility and the scale, flexibility of clouds. And so, over the last year or so, we've been working on moving all of our software stacks to the cloud are of our platform and software stacks to the cloud. And so, today, we announced that Microsoft and ourselves are going to standardize on the NVIDIA stack, for a very large part of the work that we're doing together so that we could take a full stack out to the world's enterprise.\\n\\nThat's all software included. We, a month ago, announced the same similar type of partnership with Oracle. You also saw that rescale a leader in high-performance computing cloud has integrated NVIDIA AI into their stack. [Inaudible] has been integrated into GCP.\\n\\nAnd we announced recently Nemo, large language model and bionemo large language model to put NVIDIA software in the cloud. And we also announced Omniverse is now available in the cloud. The goal of all of this is to move the NVIDIA platform full stack off boarding the cloud so that we can engage customers much, much more quickly and customers could engage our software if they would like to use it in the cloud, it's per GPU instance hour if they would like to utilize our software on-prem, they could do it through software license. And so, license and subscription.\\n\\nAnd so, in both cases, we now have software available practically everywhere you would like to engage it. The partners that we work with are super excited about it because MBDA's rich ecosystem is global, and this could bring both new consumption into their cloud for both them and ourselves, but also connect all of these new opportunities to the other APIs and other services that they offer. And so, our software stack is making really great progress.\\n\\nOperator\\n\\nYour next question comes from the line of Chris Caso with Credit Suisse. Your line is now open.\\n\\nChris Caso -- Credit Suisse -- Analyst\\n\\nYes. Thank you. Good evening. I wonder if you could give some more color about the inventory charges you took in the quarter and then internal inventory in general.\\n\\nIn the documentation, you talked about that being a portion of inventory on hand plus some purchase obligations. And you also spoke in your prepared remarks that some of this was due to China data centers. So if you can clarify what was in those charges. And then, in general, for your internal inventory.\\n\\nDoes that still need to be worked down? And what are the implications if that needs to be worked down over the next couple of quarters?\\n\\nColette Kress -- Executive Vice President and Chief Financial Officer\\n\\nThanks for the question, Chris. So as we highlighted in our prepared remarks, we booked an entry of $702 million for inventory reserves within the quarter. Most of that, primarily, all of it is related to our data center business, just due to the change in expected demand looking forward for China. So when we look at the data center products, a good portion of this was also the A100, which we wrote down.\\n\\nNow, looking at our inventory that we have on hand and the inventory that has increased, a lot of that is just due to our upcoming architectures coming to market. our ADA architecture, our hopper architecture and even more in terms of our networking business. We have been building for those architectures to come to market and as such to say. We are always looking at our inventory levels at the end of each quarter for our expected demand going forward.\\n\\nBut I think we've done a solid job that we used in this quarter just based on that expectation going forward.\\n\\nOperator\\n\\nYour next question comes from the line of Timothy Arcuri with UBS. Your line is now open.\\n\\nTimothy Arcuri -- UBS -- Analyst\\n\\nThanks a lot. Colette, can you -- I have a two-part question. First, is there any effect of stockpiling in the data center guidance? I ask because you now have the A800 that is sort of a modified version of the A100 with the lower data transfer rate. So one could imagine that customers might be stocking that while they can still get it.\\n\\nAnd I guess the second part of that is related to the inventory charge, can you just go into that a little bit more? Because last quarter, it made sense that you took a charge because revenue was less than you thought, but revenue came in pretty much in line. And it sounded like China was a net neutral. So is the charge related to just working A100 inventory down faster? Is that what the charges related to?\\n\\nColette Kress -- Executive Vice President and Chief Financial Officer\\n\\nSure. So let me talk about the first statement that you indicated. Most of our data center business that we see is we're working with customers specifically on their needs to build out accelerated computing and AI. It's just not a business in terms of where units are being held for that.\\n\\nThey're usually four very, very specific products and projects that we see. So I'm going to answer no. Nothing that we can see. Your second question regarding the inventory provisions.\\n\\nAt the end of last quarter, we were beginning to see softness in China. We've always been looking at our needs long term. It's not a statement about the current quarter in inventory, as you can see. It usually takes two or three quarters for us to build product for the future demand.\\n\\nSo that's always a case of the inventory that we are ordering. So now looking at what we've seen in terms of continued lockdowns, continued economy challenges in China it was time for us to take a hard look of what do we think we'll need for data center going forward and not leg for write-downs.\\n\\nOperator\\n\\nYour next question comes from the line of Stacy Rasgon with Bernstein. Your line is now open.\\n\\nStacy Rasgon -- AllianceBernstein -- Analyst\\n\\nHi, guys. Thanks for taking my question. Colette, I had a question on the commentary you gave on the sequentials. It kind of sounded like data center maybe had some China softness issues.\\n\\nYou said gaming resumed sequential growth. But then you said sequential growth for the company driven by auto gaming and data center. How can all three of those grow sequentially if the overall guidance is kind of flattish? Are they all just like growing just a little bit? Or is one of them actually down? Like how do we think about the segments into Q4 given that commentary?\\n\\nColette Kress -- Executive Vice President and Chief Financial Officer\\n\\nYes. So your question is regarding the sequentials from Q3 to our guidance that we provided for Q4. As we are seeing the numbers in terms of our guidance, you're correct, is only growing about $100 million. And we've indicated that three of those platforms will likely grow just a little bit.\\n\\nBut our pro visualization business we think is going to be flattish and likely not growing as we're still working on correcting the channel inventory levels. to get to the right amount. It's very difficult to say which will have that increase. But again, we are planning for all three of those different market platforms to grow just a little bit.\\n\\nOperator\\n\\nYour next question comes from the line of Mark Lipacis with Jefferies. Your line is now open.\\n\\nMark Lipacis -- Jefferies -- Analyst\\n\\nHi. Thanks for taking my question. Jen-Hsun, I think for you, you've articulated a vision for the data center we're a solution with an integrated solution set of a CPU, GPU and DPU is deployed for all workloads or most workloads, I think. Could you just give us a sense of or talk about where is this vision in the penetration cycle? And maybe talk about Grace Grace's importance for realizing that vision, what will Grace deliver versus an off-the-shelf x86 where -- do you have a sense of where Grace will get embraced first or the fastest within that vision?\\n\\nJen-Hsun Huang -- President and Chief Executive Officer\\n\\nGrace's data moving capability is off the charts. Grace also is memory coherent to our GPU, which allows our GPU to expand its effective GPU memory, fast GPU memory by a factor of 10. That's not possible without special capabilities that are designed between hopper and Grace and the architecture of Grace. And so, it was designed.\\n\\nGrace is designed for very large data processing at very high speeds. Those applications are related to, for example, data processing is related for recommender systems, which operates on petabytes of live data at a time. It's all hot. It all needs to be fast, so that you can make a recommendation within milliseconds to hundreds of millions of people using our service.\\n\\nIt is also quite effective at AI training, machine learning. And so, those kind of applications are really terrific. We -- Grace, I think I've said before that we will have production samples in Q1, and we're still on track to do that.\\n\\nOperator\\n\\nYour next question comes from the line of Harlan Sur with J.P. Morgan. Your line is now open.\\n\\nHarlan Sur -- JPMorgan Chase and Company -- Analyst\\n\\nGood afternoon and thanks for taking my question. Your data center networking business, I believe, is driving about $800 million per quarter in sales, very, very strong growth over the past few years. Near term, as you guys pointed out, and the team is driving strong Nick and blue food attached to your own compute solutions like DGX and more partner announcements like VMware, but we also know that networking has pretty large exposure to general purpose cloud and hyperscale compute spending trends. So what's the visibility and growth outlook for the networking business over the next few quarters?\\n\\nJen-Hsun Huang -- President and Chief Executive Officer\\n\\nYes. If I could take that. First, thanks for your question. Our networking, as you know, is heavily indexed to high-performance computing.\\n\\nWe're not -- we don't serve the vast majority of commodity networking. All of our network solutions are very high end, and they're designed for data centers that move a lot of data. Now, if you have a hyperscale data center these days, and you are deploying a large number of AI applications. It is very likely that the network bandwidth that you provision has a substantial implication on the overall throughput of your data center.\\n\\nSo the small incremental investment they make in high-performance networking translates to billions of dollars of savings slightly in provisioning the service or billions of dollars more throughput, which increases their economics. And so, these days, with disaggregated and I application, AI provisioning and data centers, high-performance networking is really quite fantastic and it pays for itself right away. But that's where we are focused in high-performance networking and provisioning AI services in -- well, the AI applications that we focus on. You might have noticed that NVIDIA and Microsoft are building one of the largest AI infrastructures in the world.\\n\\nAnd it is completely powered by NVIDIA's InfiniBand 400 gigabits per second network. And the reason for that is because that network pays for itself instantaneously. The investment that you're going to put into the infrastructure is so significant that if you were to be dragged by slow networks, obviously, the efficiency of the overall infrastructure is not as high. And so, in the places where we focus networking is really quite important.\\n\\nIt goes all the way back to when we first announced the acquisition of Mellanox. I think at the time, they were doing about a few hundred million dollars a quarter, about $400 million a quarter. And now we're doing what they used to do in the old days, in a year, practically coming up in a quarter. And so, that kind of tells you about the growth of high-performance networking.\\n\\nIt is an indexed to overall enterprise and data center spend but it is highly indexed to AI adoption.\\n\\nOperator\\n\\nYour next question comes from the line of Aaron Rakers with Wells Fargo. Your line is now open.\\n\\nAaron Rakers -- Wells Fargo Securities -- Analyst\\n\\nThanks for taking the question. I want to expand on the networking question a little bit further. When we look at the Microsoft announcement today, we think about what Meda is doing on the AI footprint that they're deploying. Jen-Hsun, can you help us understand like where your InfiniBand networking sits relative to like traditional data center switching? And maybe kind of build on that, how you're positioning spectrum for in the market, does that compete against a broader set of opportunities in the Ethernet world for AI fabric networking?\\n\\nJen-Hsun Huang -- President and Chief Executive Officer\\n\\nYes. Thanks, Erin. The math is like this. If you're going to spend $20 billion on an infrastructure and the efficiency of that overall data center is improved by 10%.\\n\\nThe numbers are huge. And when we do these large language models and recommender systems, the processing is done across the entire data center. And so, we distribute the workload across multiple GPUs, multiple nodes and it runs for a very long time. And so, the importance of the network can be overemphasized.\\n\\nAnd so, the difference of 10% in overall improvement in efficiency, which is very to achieve. The difference between NVIDIA's InfiniBand, the entire software stack with what we call Magnum IO, which allows us to do computing in the network itself. A lot of software is running in the network itself, not just moving data around. We call it in-network computing because a ton of software is done at the edge at the -- within the network itself.\\n\\nWe achieved significant differences in overall efficiency. And so, if you're spending billions of dollars on the infrastructure, or even hundreds of millions of dollars of interest on the infrastructure. The difference is really quite profound.\\n\\nOperator\\n\\nYour next question comes from the line of Ambrish Srivastava with BMO. Your line is now open.\\n\\nAmbrish Srivastava -- BMO Capital Markets -- Analyst\\n\\nHi. Thank you very much. I actually had a couple of clarifications. Colette, in the data center side, is it a fair assumption that compute was down Q-over-Q in the reported quarter because the quarter before, Mellanox or the networking business was up as it was called out.\\n\\nAnd again, you said it grew quarter over quarter. So is that a fair assumption? And then, I had a clarification on the USG band. Initially, it was supposed to be a $400 million, really going to what the government was trying to firewall. Is the A800 -- I'm just trying to make sure I understand it.\\n\\nIsn't that against the spirit of what the government is trying to do, i.e., firewall, high-performance compute? Or is A800 going to a different set of customers?\\n\\nColette Kress -- Executive Vice President and Chief Financial Officer\\n\\nThank you for the question. So looking at our compute for the quarter is about flattish. Yes, we're seeing also growth growth in terms of our networking, but you should look at our Q3 compute is about flatters with last quarter.\\n\\nJen-Hsun Huang -- President and Chief Executive Officer\\n\\nAmbrish, A800 hardware, the hardware of ensures that it always meets U.S. government's clear test for export control. And it cannot be customer reprogrammed or application reprogrammed to exceed it. It is hardware limited.\\n\\nIt is in the hardware that determines 800s capabilities. And so, it meets the clear test in letter and in spirit. We raised the concern about the $400 million of A100s because we were uncertain about whether we could execute. The introduction of A800 to our customers and through our supply chain in time.\\n\\nThe company did remarkable feeds to swarm this situation and make sure that our business was not affected and our customers were not affected. But A800 hardware surely ensures that it always meets U.S. government's clear tests for export control.\\n\\nOperator\\n\\nYour next question comes from the line of William Stein with Truist Securities. Your line is now open.\\n\\nWilliam Stein -- Truist Securities -- Analyst\\n\\nThank you. I'm hoping you can discuss the pace of 100 growth as we progress over the next year. We've gotten a lot of questions as to whether the ramp in this product should look like a sort of traditional product cycle where there's quite a bit of pent-up demand for this significant improved performance product and that there's supply available as well. So does this rollout sort of look relatively typical from that perspective? Or should we expect a more perhaps delayed start of the growth trajectory where we see maybe substantially more growth in, let's say, second half of '23.\\n\\nJen-Hsun Huang -- President and Chief Executive Officer\\n\\nH-100 ramp is different than the A100 ramp in several ways. The first is that the TCO, the cost benefits, the operational cost benefits because of the energy savings because every data center is now Power Limited. And because of this incredible transformer engine that's designed for the latest AI models. The performance over Ampere is so significant that I -- and because of the pent-up demand for hopper because of these new models that are that I spoke about earlier, deep recommender systems and large language models and generative AI models.\\n\\nCustomers are clamoring to ramp hopper as quickly as possible, and we are trying to do the same. We are all hands on deck to help the cloud service providers stand up the supercomputers. Remember, I is the only company in the world that produces and ships semi-custom supercomputers in high volume. It's a miracle to ship one supercomputer every three years.\\n\\nit's unheard of to ship supercomputers to every cloud service provider in a quarter. And so, we're working hand with every one of them, and every one of them are racing to stand up hoppers. We expect them to have hopper cloud services stood up in Q1. And so, we are expecting to ship some volume, we're expecting to ship production in Q4, and then we're expecting to ship large volumes in Q1.\\n\\nThat's a faster transition than MPIR. And so, it's because of the dynamics that I described.\\n\\nOperator\\n\\nYour next question comes from the line of Matt Ramsay with Cowen. Your line is now open.\\n\\nMatt Ramsay -- Cowen and Company -- Analyst\\n\\nYeah. Thank you very much. Good afternoon. I guess, Colette, I heard in your script that you had talked about maybe a new way of commenting on or reporting hyperscaler revenue in your data center business.\\n\\nAnd I wonder if you could maybe give us a little bit more detail about what you're thinking there and what sort of drove the decision? And I guess the derivative of that, Jen-Hsun, how -- that decision to talk about the data center business to hyperscalers differently. I mean, what does that mean for the business that is just a reflection of where demand is and you're going to break things out differently? Or is something changing about the mix of I guess, internal properties versus vertical industry demand within the hyperscale customer base.\\n\\nColette Kress -- Executive Vice President and Chief Financial Officer\\n\\nYes, Matt, thanks for the question. Let me clarify a little bit in terms of what we believe we should be looking at when we go forward and discussing our data center business. Our data center business is becoming larger and larger and our customers are complex. And when we talk about hyperscale, we tend to talk about seven, eight different companies.\\n\\nBut the reality is there's a lot of very large companies that we could add to that discussion based on what they're purchasing. Additionally, looking at the cloud, looking at our cloud purchases and what our customers are building for the cloud is an important area to focus on because this is really where our enterprise is where our researchers, where our higher education is also purchasing. So we're trying to look for a better way to describe the color of what we're seeing in the cloud and also give you a better understanding of some of these large installments that we're seeing in the hyperscales.\\n\\nJen-Hsun Huang -- President and Chief Executive Officer\\n\\nYes. Let me double click on what Colette just said, which is absolutely right. There are two major dynamics that's happening. First, the adoption of NVIDIA in Internet service companies around the world, the number and the scale by which they're doing it has grown a lot.\\n\\nInternet service companies. And these are Internet service companies that offer services, but they're not public cloud computing companies. The second factor has to do with cloud computing. We are now at the tipping point of cloud computing.\\n\\nAlmost every enterprise in the world has both a cloud-first and a multi-cloud strategy. It is exactly the reason why all of the announcements that we made this year -- this quarter, this last quarter since GTC about all the new platforms that are now available in the cloud. a CSP, a hyperscaler is both -- are two things to us, therefore, a hyperscaler can be a sell to customer. They are also a cell with partner on the public cloud side of their business.\\n\\nBecause of the richness of NVIDIA's ecosystem because we have so many Internet service customers and enterprise customers using NVIDIA's full stack. The public cloud side of their business really enjoys and values the partnership with us and the cell with relationship they have with us. And it's pretty clear now that for all of the hyperscalers, the public cloud side of their business will likely would very likely be the vast majority of their overall consumption. And so, because the world CSPs, the world's public clouds is only at the early innings of their enterprise to lifting enterprise to the cloud world it's very, very clear that the public cloud side of the business is going to be very large.\\n\\nAnd so, increasingly, our relationship with CSPs, our relationship with hyperscalers will -- will include, of course, continuing to sell to them for internal consumption but very importantly, sell with for the public cloud side.\\n\\nOperator\\n\\nYour next question comes from the line of Joseph Moore with Morgan Stanley. Your line is now open.\\n\\nJoseph Moore -- Morgan Stanley -- Analyst\\n\\nGreat. Thank you. I wonder if you could talk to looking backward at the crypto impact. Obviously, that's gone from your numbers now, but do you see any potential for liquidation of GPUs that are in the mining network, any impact going forward? And do you foresee blockchain being an important part of your business at some point down the road?\\n\\nJen-Hsun Huang -- President and Chief Executive Officer\\n\\nWe don't expect to see blockchain being an important part of our business down the road. There is always a resell market. If you look at any of the major resell sites, eBay, for example, there are secondhand graphics cards for sale all the time. And the reason for that is because a 3090 that somebody bought today, is upgraded to a 4090 or 3090 by a couple of years ago, it was up are until 4090 today.\\n\\nThat 3090 could be sold to somebody and enjoyed it sold at the right price. And so, the volume of -- the availability of secondhand and used graphics cards has always been there. And the inventory is never zero. and when the inventory is larger than usual, like all supply demand, it would likely drift lower price and affect the lower ends of our market.\\n\\nBut my sense is that where we're going right now with ADA is targeting very clearly in the upper range, the top half of our market. And and early signs are, and I'm sure you're also seeing that the ADA launch was a home run. That we shipped a large volume of 4090s because as you know, we were prepared for it. And yet within minutes, they were sold out around the world.\\n\\nAnd so, the reception of 4090 and the reception of 4080 today has been off the charts. And that says something about the strength and the health and the vibrancy of the gaming market. So we're super enthusiastic about the ADA launch. We have many more ad products to come.\\n\\nOperator\\n\\nYour last question today comes from the line of Toshiya Hari with Goldman Sachs. Your line is now open.\\n\\nToshiya Hari -- Goldman Sachs -- Analyst\\n\\nGreat. Thank you so much for squeezing me in. I had two quick ones for Colette. On supply, I think there was some mixed messaging in your remarks.\\n\\nI think you talked about supply being a headwind at one point. And then, when you were speaking to the networking business, I think you talked about supply easing. So I was hoping you can kind of speak to supply if you're caught up to demand at this point. And then, secondly, just on stock-based compensation, pretty mundane topic I realize, but it is -- I think in the quarter, it was about $700 million.\\n\\nIt's becoming a bigger piece of your opex. So curious how we should be modeling that going forward.\\n\\nColette Kress -- Executive Vice President and Chief Financial Officer\\n\\nSure. When we look at our supply constraints that we have had in the past, each and every quarter, this is getting better Networking was one of our issues probably a year ago, and it has taken us probably to this quarter. and next quarter to really see our supply improved so that we can support the pipeline that we have for our customers that are -- now that's our supply. We've also made a discussion regarding our customers, supply constraints, issues when setting up a data center, even getting data center capacity has been very difficult.\\n\\nAnd therefore, that challenges them in their purchasing decisions as they're still looking for certain parts of that supply chain to come through. So that hopefully clarifies what we were talking about regarding two areas of supply. In our stock-based compensation, what we'll see, it's very difficult to predict what our stock-based compensation would be when it arrives. We have provided to our incoming employees but also once a year to our employees, and it's a single date in terms of when that is priced.\\n\\nSo it's difficult to determine, but stock-based compensation is an important part of our employees' compensation and will continue to be. So we look at it from an overall compensation perspective. So up until now and when we do the focal, we'll see about the same size with a few additions for the reduced level of employee hiring that we have right now.\\n\\nOperator\\n\\nThank you. I will now turn the call back over to Jen-Hsun Huang for closing remarks.\\n\\nJen-Hsun Huang -- President and Chief Executive Officer\\n\\nThanks, everyone. We are quickly adapting to the macro environment. Correcting inventory levels, offering alternative products to data center customers in China and keeping our opex flat for the next few quarters. Our new platforms are off to a great start and formed the foundation for our resumed growth.\\n\\nMRTX is reinventing 3D graphics with ray tracing and AI. The launch of [Inaudible] is phenomenal. Gamers waited in long lines around the world, 4090 stocks sold out quickly. Hopper, with its revolutionary transformer engine is just in time to meet the surging demand for recommender systems, large language models and generative AI.\\n\\nNVIDIA networking is synonymous with the highest data center throughput and enjoying record results. Oren is the world's first computing platform designed for AI-powered autonomous vehicles and robotics and putting automotive on the road to be our next multibillion-dollar platform. These computing platforms run NVIDIA AI and NVIDIA Omniverse, software libraries and engines that help the companies build and deploy AI to products and services. we this pioneering work and accelerated computing is more vital than ever.\\n\\nLimited by business, general purpose commuting has slowed to a crawl just as AI demands more computing. Scaling through general purchase computing alone is no longer viable, both from a cost or power standpoint. Accelerated computing is the path forward. We look forward to updating you on our progress next quarter.\\n\\ntl;dr:\""
            ]
          },
          "execution_count": 6,
          "metadata": {},
          "output_type": "execute_result"
        }
      ],
      "source": [
        "prompt = f\"{transcript}\\n\\ntl;dr:\"\n",
        "\n",
        "prompt"
      ]
    },
    {
      "cell_type": "markdown",
      "metadata": {
        "id": "mFWC3YnIdWSj"
      },
      "source": [
        "Now that we have a prompt, let's call OpenAI using this prompt:"
      ]
    },
    {
      "cell_type": "code",
      "execution_count": null,
      "metadata": {
        "colab": {
          "base_uri": "https://localhost:8080/",
          "height": 433
        },
        "id": "uhjaAKl5dip8",
        "outputId": "c458dca1-52ed-476a-a758-6d8fdfa8d95e"
      },
      "outputs": [
        {
          "ename": "InvalidRequestError",
          "evalue": "ignored",
          "output_type": "error",
          "traceback": [
            "\u001b[0;31m---------------------------------------------------------------------------\u001b[0m",
            "\u001b[0;31mInvalidRequestError\u001b[0m                       Traceback (most recent call last)",
            "\u001b[0;32m<ipython-input-7-7fd57c98cf90>\u001b[0m in \u001b[0;36m<cell line: 1>\u001b[0;34m()\u001b[0m\n\u001b[0;32m----> 1\u001b[0;31m response = openai.Completion.create(\n\u001b[0m\u001b[1;32m      2\u001b[0m     \u001b[0mengine\u001b[0m\u001b[0;34m=\u001b[0m\u001b[0;34m\"text-davinci-003\"\u001b[0m\u001b[0;34m,\u001b[0m\u001b[0;34m\u001b[0m\u001b[0;34m\u001b[0m\u001b[0m\n\u001b[1;32m      3\u001b[0m     \u001b[0mprompt\u001b[0m\u001b[0;34m=\u001b[0m\u001b[0mprompt\u001b[0m\u001b[0;34m,\u001b[0m\u001b[0;34m\u001b[0m\u001b[0;34m\u001b[0m\u001b[0m\n\u001b[1;32m      4\u001b[0m     \u001b[0mtemperature\u001b[0m\u001b[0;34m=\u001b[0m\u001b[0;36m0.3\u001b[0m\u001b[0;34m,\u001b[0m \u001b[0;31m# The temperature controls the randomness of the response, represented as a range from 0 to 1. A lower value of temperature means the API will respond with the first thing that the model sees; a higher value means the model evaluates possible responses that could fit into the context before spitting out the result.\u001b[0m\u001b[0;34m\u001b[0m\u001b[0;34m\u001b[0m\u001b[0m\n\u001b[1;32m      5\u001b[0m     \u001b[0mmax_tokens\u001b[0m\u001b[0;34m=\u001b[0m\u001b[0;36m140\u001b[0m\u001b[0;34m,\u001b[0m\u001b[0;34m\u001b[0m\u001b[0;34m\u001b[0m\u001b[0m\n",
            "\u001b[0;32m/usr/local/lib/python3.10/dist-packages/openai/api_resources/completion.py\u001b[0m in \u001b[0;36mcreate\u001b[0;34m(cls, *args, **kwargs)\u001b[0m\n\u001b[1;32m     23\u001b[0m         \u001b[0;32mwhile\u001b[0m \u001b[0;32mTrue\u001b[0m\u001b[0;34m:\u001b[0m\u001b[0;34m\u001b[0m\u001b[0;34m\u001b[0m\u001b[0m\n\u001b[1;32m     24\u001b[0m             \u001b[0;32mtry\u001b[0m\u001b[0;34m:\u001b[0m\u001b[0;34m\u001b[0m\u001b[0;34m\u001b[0m\u001b[0m\n\u001b[0;32m---> 25\u001b[0;31m                 \u001b[0;32mreturn\u001b[0m \u001b[0msuper\u001b[0m\u001b[0;34m(\u001b[0m\u001b[0;34m)\u001b[0m\u001b[0;34m.\u001b[0m\u001b[0mcreate\u001b[0m\u001b[0;34m(\u001b[0m\u001b[0;34m*\u001b[0m\u001b[0margs\u001b[0m\u001b[0;34m,\u001b[0m \u001b[0;34m**\u001b[0m\u001b[0mkwargs\u001b[0m\u001b[0;34m)\u001b[0m\u001b[0;34m\u001b[0m\u001b[0;34m\u001b[0m\u001b[0m\n\u001b[0m\u001b[1;32m     26\u001b[0m             \u001b[0;32mexcept\u001b[0m \u001b[0mTryAgain\u001b[0m \u001b[0;32mas\u001b[0m \u001b[0me\u001b[0m\u001b[0;34m:\u001b[0m\u001b[0;34m\u001b[0m\u001b[0;34m\u001b[0m\u001b[0m\n\u001b[1;32m     27\u001b[0m                 \u001b[0;32mif\u001b[0m \u001b[0mtimeout\u001b[0m \u001b[0;32mis\u001b[0m \u001b[0;32mnot\u001b[0m \u001b[0;32mNone\u001b[0m \u001b[0;32mand\u001b[0m \u001b[0mtime\u001b[0m\u001b[0;34m.\u001b[0m\u001b[0mtime\u001b[0m\u001b[0;34m(\u001b[0m\u001b[0;34m)\u001b[0m \u001b[0;34m>\u001b[0m \u001b[0mstart\u001b[0m \u001b[0;34m+\u001b[0m \u001b[0mtimeout\u001b[0m\u001b[0;34m:\u001b[0m\u001b[0;34m\u001b[0m\u001b[0;34m\u001b[0m\u001b[0m\n",
            "\u001b[0;32m/usr/local/lib/python3.10/dist-packages/openai/api_resources/abstract/engine_api_resource.py\u001b[0m in \u001b[0;36mcreate\u001b[0;34m(cls, api_key, api_base, api_type, request_id, api_version, organization, **params)\u001b[0m\n\u001b[1;32m    151\u001b[0m         )\n\u001b[1;32m    152\u001b[0m \u001b[0;34m\u001b[0m\u001b[0m\n\u001b[0;32m--> 153\u001b[0;31m         response, _, api_key = requestor.request(\n\u001b[0m\u001b[1;32m    154\u001b[0m             \u001b[0;34m\"post\"\u001b[0m\u001b[0;34m,\u001b[0m\u001b[0;34m\u001b[0m\u001b[0;34m\u001b[0m\u001b[0m\n\u001b[1;32m    155\u001b[0m             \u001b[0murl\u001b[0m\u001b[0;34m,\u001b[0m\u001b[0;34m\u001b[0m\u001b[0;34m\u001b[0m\u001b[0m\n",
            "\u001b[0;32m/usr/local/lib/python3.10/dist-packages/openai/api_requestor.py\u001b[0m in \u001b[0;36mrequest\u001b[0;34m(self, method, url, params, headers, files, stream, request_id, request_timeout)\u001b[0m\n\u001b[1;32m    296\u001b[0m             \u001b[0mrequest_timeout\u001b[0m\u001b[0;34m=\u001b[0m\u001b[0mrequest_timeout\u001b[0m\u001b[0;34m,\u001b[0m\u001b[0;34m\u001b[0m\u001b[0;34m\u001b[0m\u001b[0m\n\u001b[1;32m    297\u001b[0m         )\n\u001b[0;32m--> 298\u001b[0;31m         \u001b[0mresp\u001b[0m\u001b[0;34m,\u001b[0m \u001b[0mgot_stream\u001b[0m \u001b[0;34m=\u001b[0m \u001b[0mself\u001b[0m\u001b[0;34m.\u001b[0m\u001b[0m_interpret_response\u001b[0m\u001b[0;34m(\u001b[0m\u001b[0mresult\u001b[0m\u001b[0;34m,\u001b[0m \u001b[0mstream\u001b[0m\u001b[0;34m)\u001b[0m\u001b[0;34m\u001b[0m\u001b[0;34m\u001b[0m\u001b[0m\n\u001b[0m\u001b[1;32m    299\u001b[0m         \u001b[0;32mreturn\u001b[0m \u001b[0mresp\u001b[0m\u001b[0;34m,\u001b[0m \u001b[0mgot_stream\u001b[0m\u001b[0;34m,\u001b[0m \u001b[0mself\u001b[0m\u001b[0;34m.\u001b[0m\u001b[0mapi_key\u001b[0m\u001b[0;34m\u001b[0m\u001b[0;34m\u001b[0m\u001b[0m\n\u001b[1;32m    300\u001b[0m \u001b[0;34m\u001b[0m\u001b[0m\n",
            "\u001b[0;32m/usr/local/lib/python3.10/dist-packages/openai/api_requestor.py\u001b[0m in \u001b[0;36m_interpret_response\u001b[0;34m(self, result, stream)\u001b[0m\n\u001b[1;32m    698\u001b[0m         \u001b[0;32melse\u001b[0m\u001b[0;34m:\u001b[0m\u001b[0;34m\u001b[0m\u001b[0;34m\u001b[0m\u001b[0m\n\u001b[1;32m    699\u001b[0m             return (\n\u001b[0;32m--> 700\u001b[0;31m                 self._interpret_response_line(\n\u001b[0m\u001b[1;32m    701\u001b[0m                     \u001b[0mresult\u001b[0m\u001b[0;34m.\u001b[0m\u001b[0mcontent\u001b[0m\u001b[0;34m.\u001b[0m\u001b[0mdecode\u001b[0m\u001b[0;34m(\u001b[0m\u001b[0;34m\"utf-8\"\u001b[0m\u001b[0;34m)\u001b[0m\u001b[0;34m,\u001b[0m\u001b[0;34m\u001b[0m\u001b[0;34m\u001b[0m\u001b[0m\n\u001b[1;32m    702\u001b[0m                     \u001b[0mresult\u001b[0m\u001b[0;34m.\u001b[0m\u001b[0mstatus_code\u001b[0m\u001b[0;34m,\u001b[0m\u001b[0;34m\u001b[0m\u001b[0;34m\u001b[0m\u001b[0m\n",
            "\u001b[0;32m/usr/local/lib/python3.10/dist-packages/openai/api_requestor.py\u001b[0m in \u001b[0;36m_interpret_response_line\u001b[0;34m(self, rbody, rcode, rheaders, stream)\u001b[0m\n\u001b[1;32m    761\u001b[0m         \u001b[0mstream_error\u001b[0m \u001b[0;34m=\u001b[0m \u001b[0mstream\u001b[0m \u001b[0;32mand\u001b[0m \u001b[0;34m\"error\"\u001b[0m \u001b[0;32min\u001b[0m \u001b[0mresp\u001b[0m\u001b[0;34m.\u001b[0m\u001b[0mdata\u001b[0m\u001b[0;34m\u001b[0m\u001b[0;34m\u001b[0m\u001b[0m\n\u001b[1;32m    762\u001b[0m         \u001b[0;32mif\u001b[0m \u001b[0mstream_error\u001b[0m \u001b[0;32mor\u001b[0m \u001b[0;32mnot\u001b[0m \u001b[0;36m200\u001b[0m \u001b[0;34m<=\u001b[0m \u001b[0mrcode\u001b[0m \u001b[0;34m<\u001b[0m \u001b[0;36m300\u001b[0m\u001b[0;34m:\u001b[0m\u001b[0;34m\u001b[0m\u001b[0;34m\u001b[0m\u001b[0m\n\u001b[0;32m--> 763\u001b[0;31m             raise self.handle_error_response(\n\u001b[0m\u001b[1;32m    764\u001b[0m                 \u001b[0mrbody\u001b[0m\u001b[0;34m,\u001b[0m \u001b[0mrcode\u001b[0m\u001b[0;34m,\u001b[0m \u001b[0mresp\u001b[0m\u001b[0;34m.\u001b[0m\u001b[0mdata\u001b[0m\u001b[0;34m,\u001b[0m \u001b[0mrheaders\u001b[0m\u001b[0;34m,\u001b[0m \u001b[0mstream_error\u001b[0m\u001b[0;34m=\u001b[0m\u001b[0mstream_error\u001b[0m\u001b[0;34m\u001b[0m\u001b[0;34m\u001b[0m\u001b[0m\n\u001b[1;32m    765\u001b[0m             )\n",
            "\u001b[0;31mInvalidRequestError\u001b[0m: This model's maximum context length is 4097 tokens, however you requested 10401 tokens (10261 in your prompt; 140 for the completion). Please reduce your prompt; or completion length."
          ]
        }
      ],
      "source": [
        "response = openai.Completion.create(\n",
        "    engine=\"text-davinci-003\",\n",
        "    prompt=prompt,\n",
        "    temperature=0.3, # The temperature controls the randomness of the response, represented as a range from 0 to 1. A lower value of temperature means the API will respond with the first thing that the model sees; a higher value means the model evaluates possible responses that could fit into the context before spitting out the result.\n",
        "    max_tokens=140,\n",
        "    top_p=1, # Top P controls how many random results the model should consider for completion, as suggested by the temperature dial, thus determining the scope of randomness. Top P’s range is from 0 to 1. A lower value limits creativity, while a higher value expands its horizons.\n",
        "    frequency_penalty=0,\n",
        "    presence_penalty=1\n",
        ")"
      ]
    },
    {
      "cell_type": "markdown",
      "metadata": {
        "id": "ig24Pc_0dqM2"
      },
      "source": [
        "## Chunking up our data\n",
        "\n",
        "Notice that we receive an error. This is because the API can not accept the entire document at once: there is a token limit for the input. To get around this, let's process our data. We'll split up the document into smaller chunks, generate a prompt for each chunk, then ask OpenAI to summarize each chunk. We'll then collate / concatenate the responses into a single summary at the end.\n",
        "\n",
        "There are many ways to slice and dice text. Let's try first splitting up our text into a list of words, then dividing that list of words into equal chunks using numpy."
      ]
    },
    {
      "cell_type": "code",
      "execution_count": null,
      "metadata": {
        "colab": {
          "base_uri": "https://localhost:8080/"
        },
        "id": "k1VbpocWeBZR",
        "outputId": "0ff08e8f-6fea-429a-cbce-85c5f0cc6c28"
      },
      "outputs": [
        {
          "data": {
            "text/plain": [
              "['Operator\\n\\nGood',\n",
              " 'afternoon.',\n",
              " 'My',\n",
              " 'name',\n",
              " 'is',\n",
              " 'Emma,',\n",
              " 'and',\n",
              " 'I',\n",
              " 'will',\n",
              " 'be',\n",
              " 'your',\n",
              " 'conference',\n",
              " 'operator',\n",
              " 'today.',\n",
              " 'At',\n",
              " 'this',\n",
              " 'time,',\n",
              " 'I',\n",
              " 'would',\n",
              " 'like']"
            ]
          },
          "execution_count": 8,
          "metadata": {},
          "output_type": "execute_result"
        }
      ],
      "source": [
        "words = transcript.split(\" \")\n",
        "\n",
        "# show the first 20 words\n",
        "words[:20]"
      ]
    },
    {
      "cell_type": "markdown",
      "metadata": {
        "id": "twNU3v9Vey0d"
      },
      "source": [
        "Now let's use numpy's array_split function to divide our list of words into equal parts - I'm hardcoding the number 6 here to divide the text into 6 equal parts, but you can create special rules for dividing up the text as you see fit.\n"
      ]
    },
    {
      "cell_type": "code",
      "execution_count": null,
      "metadata": {
        "colab": {
          "base_uri": "https://localhost:8080/"
        },
        "id": "yfGWE1q2eu4p",
        "outputId": "ba5cf4e6-2e18-45fa-c635-9528d2797128"
      },
      "outputs": [
        {
          "data": {
            "text/plain": [
              "[array(['Operator\\n\\nGood', 'afternoon.', 'My', ..., 'total', 'number',\n",
              "        'of'], dtype='<U28'),\n",
              " array(['RTX', 'games', 'and', ..., 'path', 'forward', 'as'], dtype='<U28'),\n",
              " array(['general', 'purpose', 'computing', ..., 'that', 'while', 'they'],\n",
              "       dtype='<U28'),\n",
              " array(['can', 'still', 'get', ..., 'taking', 'the', 'question.'],\n",
              "       dtype='<U28'),\n",
              " array(['I', 'want', 'to', ..., 'Huang', '--', 'President'], dtype='<U28'),\n",
              " array(['and', 'Chief', 'Executive', ..., 'progress', 'next', 'quarter.'],\n",
              "       dtype='<U28')]"
            ]
          },
          "execution_count": 12,
          "metadata": {},
          "output_type": "execute_result"
        }
      ],
      "source": [
        "import numpy as np\n",
        "\n",
        "chunks = np.array_split(words, 6)\n",
        "\n",
        "chunks"
      ]
    },
    {
      "cell_type": "markdown",
      "metadata": {
        "id": "yBenS-F0fF6S"
      },
      "source": [
        "As you can see, we now have 6 arrays of words. We can join each of these 6 chunks into their original text and pass each of them as a call to OpenAI to obtain a summary. We will save each summary response to a list, then join them all at the end into a single summary.\n",
        "\n",
        "Before we call OpenAI 6 times, let's first walk through how a single chunk summary looks and make sure our first call works. Let's summarize the first chunk, chunks[0].\n",
        "\n"
      ]
    },
    {
      "cell_type": "code",
      "execution_count": null,
      "metadata": {
        "colab": {
          "base_uri": "https://localhost:8080/",
          "height": 139
        },
        "id": "KTEHZFFagjgb",
        "outputId": "f84e9c2f-46cc-4cc7-ba5b-0c09a296986b"
      },
      "outputs": [
        {
          "data": {
            "application/vnd.google.colaboratory.intrinsic+json": {
              "type": "string"
            },
            "text/plain": [
              "\"Operator\\n\\nGood afternoon. My name is Emma, and I will be your conference operator today. At this time, I would like to welcome everyone to the NVIDIA's third quarter earnings call. [Operator instructions] Simona Jankowski, you may begin your conference.\\n\\nSimona Jankowski -- Vice President, Investor Relations\\n\\nThank you. Good afternoon, everyone, and welcome to NVIDIA's conference call for the third quarter of fiscal 2023. With me today from NVIDIA are Jen-Hsun Huang, president and chief executive officer; and Colette Kress, executive vice president and chief financial officer. I'd like to remind you that our call is being webcast live on NVIDIA's investor relations website.\\n\\n\\nThe webcast will be available for replay until the conference call to discuss our financial results for the fourth quarter and fiscal 2023. The content of today's call is NVIDIA's property. It can't be reproduced or transcribed without our prior written consent. During this call, we may make forward-looking statements based on current expectations.\\n\\nThese are subject to a number of significant risks and uncertainties, and our actual results may differ materially. For a discussion of factors that could affect our future financial results and business, please refer to the disclosure in today's earnings release our most recent Forms 10-K and 10-Q and the reports that we may file on Form 8-K with the Securities and Exchange Commission. All our statements are made as of today, November 16, 2022, and based on information currently available to us. Except as required by law, we assume no obligation to update any such statements.\\n\\nDuring this call, we will discuss non-GAAP financial measures. You can find a reconciliation of these non-GAAP financial measures to GAAP financial measures in our CFO commentary, which is posted on our website. With that, let me turn the call over to Colette.\\n\\nColette Kress -- Executive Vice President and Chief Financial Officer\\n\\n\\nThanks, Simona. Q3 revenue was $5.93 billion, down 12% sequentially and down 17% year on year. We delivered record data center and automotive revenue. while our gaming and pro visualization platforms declined as we work through channel inventory corrections and challenging external conditions.\\n\\nStarting with data center. Revenue of $3.83 billion was up 1% sequentially and 31% year-on-year. This reflects very solid performance in the face of macroeconomic challenges new export controls and lingering supply chain disruptions. Year-on-year growth was driven primarily by leading U.S.\\n\\ncloud providers and a broadening set of consumer Internet companies for workloads such as large language models, recommendation systems and generative AI. As the number and scale of public cloud computing and Internet service companies deploying NVIDIA AI grows our traditional hyperscale definition will need to be expanded to convey the different end market use cases. We will align our data center customer commentary going forward accordingly. Other vertical industries, such as automotive and energy, also contributed to growth with key workloads relating to autonomous driving, high-performance computing, simulations and analytics.\\n\\nDuring the quarter, the U.S. government announced new restrictions impacting exports of our A100 and H-100 based products to China, and any product destined for certain systems or entities in China. These restrictions impacted third quarter revenue, largely offset by sales of alternative products into China. That said, demand in China more broadly remains soft, and we expect that to continue in the current quarter.\\n\\n\\nWe started shipping our flagship 100 data center GPU based on the new hopper architecture in Q3. A100-based systems are available starting this month from leading server makers including Dell, Hewlett Packard Enterprise, Lenovo and SuperMicro. Early next year, the first H-100 based cloud instances will be available on Amazon Web Services, Google Cloud, Microsoft Azure and Oracle Cloud Infrastructure. A100 delivered the highest performance and workload versatility for both AI training and inference in the latest MLPerf industry benchmarks.\\n\\nH-100 also delivers incredible value compared to the previous generation for equivalent AI performance it offers three x lower total cost of ownership while using five x fewer server nodes and 3.5 x less energy. Earlier today, we announced a multiyear collaboration with Microsoft to build an advanced cloud-based AI supercomputer to help enterprises train, deploy and scale AI including large state-of-the-art models. MacBook Azure will incorporate our complete AI stack, adding tens and thousands of A100 and A100 GPUs. Quantum 2 400 gigabit per second InfiniBand networking and the NVIDIA AI enterprise software suite to its platform.\\n\\nOracle and NVIDIA are also working together to offer AI training and inference at scale to thousands of enterprises. This includes bringing to Oracle Cloud infrastructure, the full NVIDIA accelerated computing stack and adding tens of thousands of NVIDIA GPUs, including the A100 and H-100. Cloud-based high-performance in the company, new scale is adopting NVIDIA AI enterprise and other software to address the industrial scientific communities, rising demand for AI in the cloud. NVIDIA AI will bring new capability to rescale high-performance computing as a service offerings, which include simulation and engineering software used across industries.\\n\\nNetworking posted strong growth driven by hyperscale customers and easing supply constraints. -- our new Quantum 240 gigabit per second InfiniBand and Spectrum Ethernet networking platforms are building momentum. We achieved an important milestone this quarter with VMware. And whose leading server virtualization platform, vSphere, has been rearchitected over the last two years to run on DPUs and now supports our BlueField DPUs.\\n\\nOur joint enterprise AI platform is available first on Dell PowerEdge servers. The BlueField DPU design win pipeline is growing and the number of infrastructure softer partners is expanding, including Arista, Check Point, Juniper, [Inaudible] Networks and Red Hot. The latest top 500 list of supercomputers released this week at Supercomputing '22 and has the highest ever number of NVIDIA-powered systems, including 72% of the total and 90% of new systems on the list. Moreover, NVIDIA powers 23 of the top 30 of the Green 500 list, demonstrating the energy efficiency of accelerated computing.\\n\\nThe No. 1 most energy-efficient system is the Flat Iron Institute Henry, which is the first top 500 system featuring our H-100 GPUs. At GTC, we announced the NVIDIA Omniverse Computing System, or OVS, reference designs featuring the new L4 GPU based on the ADA Lovelace architecture. These systems are designed to build and operate 3D virtual world using NVIDIA Omniverse enterprise.\\n\\nNVIDIA OBX systems will be available from Inspur, Lenovo and Super Micro by early 2023. We Lockheed Martin and Jaguar Land Rover will be among the first customers to receive OVS systems. We are further expanding our AI software and services offerings with NVIDIA and Bio Nemo large language model services, which are both entering early access this month. These enable developers to easily adopt large language models and deploy customized AI applications for content generation, tech summarization, chatbox, co-development, protein structure and biomolecular property predictions.\\n\\nMoving to gaming. Revenue of $1.57 billion was down 23% sequentially and down 51% from a year ago, reflecting lower sell-in to partners to help align channel inventory levels with current demand expectations. We believe Channel inventories are on track to approach normal levels as we exit Q4. Sell-through for our gaming products was relatively solid in the Americas and EMEA and but softer in Asia Pac as macroeconomic conditions and covered lockdowns in China continued to weigh on consumer demand.\\n\\nOur new Ada Lovelace GPU architecture had an exceptional launch. The first ADA GPU, the GeForce RTX 4090 became available in mid-October and a tremendous amount and positive feedback from the gaming community. We sold out quickly in many locations and are working hard to keep up with demand. The next member of the ATA family, RTX 4080 is available today.\\n\\nThe RTX 40 Series GPUs features DLSS 3, the neuro rendering technology that uses AI to generate entire frames for faster game play. Our third-generation RTX technology has raised the bar for computer graphics and help supercharge gaming. For example, the 15-year old classic game portal, now reimagined with full ray tracing and DLSS 3 has made it on Steam's top 100 most wish-listed gains. The total number of\""
            ]
          },
          "execution_count": 13,
          "metadata": {},
          "output_type": "execute_result"
        }
      ],
      "source": [
        "sentences = ' '.join(list(chunks[0]))\n",
        "\n",
        "sentences"
      ]
    },
    {
      "cell_type": "code",
      "execution_count": null,
      "metadata": {
        "colab": {
          "base_uri": "https://localhost:8080/",
          "height": 104
        },
        "id": "femc3W8pgM38",
        "outputId": "25cc1929-0cb5-43f7-8d29-a078fb0d173c"
      },
      "outputs": [
        {
          "data": {
            "application/vnd.google.colaboratory.intrinsic+json": {
              "type": "string"
            },
            "text/plain": [
              "\"\\n\\nAt NVIDIA's third quarter earnings call, Colette Kress, executive vice president and chief financial officer, reported that revenue was $5.93 billion, down 12% sequentially and 17% year-on-year. Data center revenue of $3.83 billion was up 1% sequentially and 31% year-on-year, driven by leading U.S. cloud providers and a broadening set of consumer Internet companies. Gaming revenue of $1.57 billion was down 23% sequentially and 51% year-on-year, reflecting lower sell-in to partners to help align channel inventory levels with current demand expectations. The first ADA GPU, the GeForce RTX 4090\""
            ]
          },
          "execution_count": 14,
          "metadata": {},
          "output_type": "execute_result"
        }
      ],
      "source": [
        "\n",
        "prompt = f\"{sentences}\\n\\ntl;dr:\"\n",
        "\n",
        "response = openai.Completion.create(\n",
        "    engine=\"text-davinci-003\",\n",
        "    prompt=prompt,\n",
        "    temperature=0.3, # The temperature controls the randomness of the response, represented as a range from 0 to 1. A lower value of temperature means the API will respond with the first thing that the model sees; a higher value means the model evaluates possible responses that could fit into the context before spitting out the result.\n",
        "    max_tokens=140,\n",
        "    top_p=1, # Top P controls how many random results the model should consider for completion, as suggested by the temperature dial, thus determining the scope of randomness. Top P’s range is from 0 to 1. A lower value limits creativity, while a higher value expands its horizons.\n",
        "    frequency_penalty=0,\n",
        "    presence_penalty=1\n",
        ")\n",
        "\n",
        "response_text = response[\"choices\"][0][\"text\"]\n",
        "response_text"
      ]
    },
    {
      "cell_type": "markdown",
      "metadata": {
        "id": "4GOyWe-cgtuH"
      },
      "source": [
        "This looks pretty good! Let's now loop through all of the chunks and save the responses in a list called summary_responses. At the end we'll join all of the responses into a single summary and check out the output."
      ]
    },
    {
      "cell_type": "code",
      "execution_count": null,
      "metadata": {
        "colab": {
          "base_uri": "https://localhost:8080/"
        },
        "id": "Z4IGQ-D-fdt0",
        "outputId": "22e60808-9999-4b0a-9eb1-eb2d3279169b"
      },
      "outputs": [
        {
          "name": "stdout",
          "output_type": "stream",
          "text": [
            "full summary\n",
            "\n",
            "\n",
            "At NVIDIA's third quarter earnings call, Colette Kress, executive vice president and chief financial officer, reported that revenue was $5.93 billion, down 12% sequentially and 17% year-on-year. Data center revenue of $3.83 billion was up 1% sequentially and 31% year-on-year, driven by leading U.S. cloud providers and a broadening set of consumer Internet companies. Gaming revenue of $1.57 billion was down 23% sequentially and 51% year-on-year due to channel inventory corrections and external conditions. The RTX 4090 and 4080 GPUs were released with positive feedback from the gaming community.\n",
            "In Q3, gaming sell-through was relatively solid, with notebook sales particularly strong. Desktop sales were softer in China and Asia. We expect stronger end demand in Q4 due to the upcoming holidays and continued AI adoption. In terms of data center, our business is indexed to two fundamental dynamics: the need for accelerated computing to achieve cost efficiency and energy efficiency, and the growth of AI workloads.\n",
            "\n",
            "NVIDIA is seeing surging demand in AI, deep recommender systems, large language models, and generative AI. The company is making excellent progress in its NVIDIA AI enterprise, with partnerships and collaborations with Microsoft, Oracle, Rescale, and GCP. NVIDIA is also offering its software stack in the cloud, both through per GPU instance hour and software license subscriptions. In terms of inventory charges, most of it was related to data center business due to a change in expected demand for China.\n",
            "\n",
            "Jen-Hsun, I wanted to follow up on the data center side. You had talked about the AI training and inference being a key driver. Can you just talk about the strength that you're seeing in terms of both of those segments? And then maybe just talk about the overall TAM opportunity for NVIDIA in the data center space.\n",
            "\n",
            "Jen-Hsun Huang -- President and Chief Executive Officer\n",
            "\n",
            "Yes. So AI training is growing very, very strongly. We are seeing applications that are using hundreds of thousands of GPUs at a time. And so, it's really quite remarkable.\n",
            "\n",
            "And it's not just the number of GPUs, but also the amount of data that they move. And so, we've been investing We are changing the way we report our data center revenue to better reflect the complexity of our customers and their purchases. We will now focus on cloud purchases, as well as large installations with hyperscale customers, in order to provide more color on what is happening in the market. NVIDIA reported strong Q1 2021 earnings, driven by record revenue from its gaming and data center businesses. CEO Jen-Hsun Huang attributed the success to strong demand for GPUs, as well as the company's new platforms such as RTX, Hopper, Oren, and Omniverse. He also noted that supply constraints have been easing in the networking business, while stock-based compensation is expected to remain at similar levels going forward.\n"
          ]
        }
      ],
      "source": [
        "summary_responses = []\n",
        "\n",
        "for chunk in chunks:\n",
        "\n",
        "    sentences = ' '.join(list(chunk))\n",
        "\n",
        "    prompt = f\"{sentences}\\n\\ntl;dr:\"\n",
        "\n",
        "    response = openai.Completion.create(\n",
        "        engine=\"text-davinci-003\",\n",
        "        prompt=prompt,\n",
        "        temperature=0.3, # The temperature controls the randomness of the response, represented as a range from 0 to 1. A lower value of temperature means the API will respond with the first thing that the model sees; a higher value means the model evaluates possible responses that could fit into the context before spitting out the result.\n",
        "        max_tokens=150,\n",
        "        top_p=1, # Top P controls how many random results the model should consider for completion, as suggested by the temperature dial, thus determining the scope of randomness. Top P’s range is from 0 to 1. A lower value limits creativity, while a higher value expands its horizons.\n",
        "        frequency_penalty=0,\n",
        "        presence_penalty=1\n",
        "    )\n",
        "\n",
        "    response_text = response[\"choices\"][0][\"text\"]\n",
        "    summary_responses.append(response_text)\n",
        "\n",
        "full_summary = \"\".join(summary_responses)\n",
        "\n",
        "print(\"full summary\")\n",
        "print(full_summary)\n",
        "\n"
      ]
    },
    {
      "cell_type": "markdown",
      "metadata": {
        "id": "8ysJ_1jpg3FO"
      },
      "source": [
        "Pretty cool right? I know this is a simple example, but it lays a solid baseline for building more complex applications. We can already convert audio to text and convert text from one form to another. From this, we can build a web or mobile apps that accept sound files, video files, or URLs. We can then have these applications call OpenAI to perform complex tasks and return interesting results. With further creativity and additional code, we can build some very useful apps!\n"
      ]
    }
  ],
  "metadata": {
    "colab": {
      "provenance": []
    },
    "kernelspec": {
      "display_name": "Python 3",
      "name": "python3"
    },
    "language_info": {
      "name": "python"
    }
  },
  "nbformat": 4,
  "nbformat_minor": 0
}
