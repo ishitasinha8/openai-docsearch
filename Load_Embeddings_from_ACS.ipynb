{
  "cells": [
    {
      "cell_type": "code",
      "execution_count": null,
      "metadata": {
        "colab": {
          "base_uri": "https://localhost:8080/"
        },
        "id": "35kVkX-0wSaI",
        "outputId": "c4e7ea6a-0d82-48c7-fdff-eb8d9debe7d1"
      },
      "outputs": [
        {
          "name": "stdout",
          "output_type": "stream",
          "text": [
            "Collecting langchain\n",
            "  Downloading langchain-0.0.222-py3-none-any.whl (1.2 MB)\n",
            "\u001b[?25l     \u001b[90m━━━━━━━━━━━━━━━━━━━━━━━━━━━━━━━━━━━━━━━━\u001b[0m \u001b[32m0.0/1.2 MB\u001b[0m \u001b[31m?\u001b[0m eta \u001b[36m-:--:--\u001b[0m\r\u001b[2K     \u001b[91m━━━━━━━━\u001b[0m\u001b[91m╸\u001b[0m\u001b[90m━━━━━━━━━━━━━━━━━━━━━━━━━━━━━━━\u001b[0m \u001b[32m0.3/1.2 MB\u001b[0m \u001b[31m7.7 MB/s\u001b[0m eta \u001b[36m0:00:01\u001b[0m\r\u001b[2K     \u001b[91m━━━━━━━━━━━━━━━━━━━━━━━━━━━━━━━━━━━━━━━\u001b[0m\u001b[91m╸\u001b[0m \u001b[32m1.2/1.2 MB\u001b[0m \u001b[31m18.7 MB/s\u001b[0m eta \u001b[36m0:00:01\u001b[0m\r\u001b[2K     \u001b[90m━━━━━━━━━━━━━━━━━━━━━━━━━━━━━━━━━━━━━━━━\u001b[0m \u001b[32m1.2/1.2 MB\u001b[0m \u001b[31m15.1 MB/s\u001b[0m eta \u001b[36m0:00:00\u001b[0m\n",
            "\u001b[?25hRequirement already satisfied: PyYAML>=5.4.1 in /usr/local/lib/python3.10/dist-packages (from langchain) (6.0)\n",
            "Requirement already satisfied: SQLAlchemy<3,>=1.4 in /usr/local/lib/python3.10/dist-packages (from langchain) (2.0.16)\n",
            "Requirement already satisfied: aiohttp<4.0.0,>=3.8.3 in /usr/local/lib/python3.10/dist-packages (from langchain) (3.8.4)\n",
            "Requirement already satisfied: async-timeout<5.0.0,>=4.0.0 in /usr/local/lib/python3.10/dist-packages (from langchain) (4.0.2)\n",
            "Collecting dataclasses-json<0.6.0,>=0.5.7 (from langchain)\n",
            "  Downloading dataclasses_json-0.5.9-py3-none-any.whl (26 kB)\n",
            "Collecting langchainplus-sdk>=0.0.17 (from langchain)\n",
            "  Downloading langchainplus_sdk-0.0.20-py3-none-any.whl (25 kB)\n",
            "Requirement already satisfied: numexpr<3.0.0,>=2.8.4 in /usr/local/lib/python3.10/dist-packages (from langchain) (2.8.4)\n",
            "Requirement already satisfied: numpy<2,>=1 in /usr/local/lib/python3.10/dist-packages (from langchain) (1.22.4)\n",
            "Collecting openapi-schema-pydantic<2.0,>=1.2 (from langchain)\n",
            "  Downloading openapi_schema_pydantic-1.2.4-py3-none-any.whl (90 kB)\n",
            "\u001b[2K     \u001b[90m━━━━━━━━━━━━━━━━━━━━━━━━━━━━━━━━━━━━━━━━\u001b[0m \u001b[32m90.0/90.0 kB\u001b[0m \u001b[31m10.2 MB/s\u001b[0m eta \u001b[36m0:00:00\u001b[0m\n",
            "\u001b[?25hRequirement already satisfied: pydantic<2,>=1 in /usr/local/lib/python3.10/dist-packages (from langchain) (1.10.9)\n",
            "Requirement already satisfied: requests<3,>=2 in /usr/local/lib/python3.10/dist-packages (from langchain) (2.27.1)\n",
            "Requirement already satisfied: tenacity<9.0.0,>=8.1.0 in /usr/local/lib/python3.10/dist-packages (from langchain) (8.2.2)\n",
            "Requirement already satisfied: attrs>=17.3.0 in /usr/local/lib/python3.10/dist-packages (from aiohttp<4.0.0,>=3.8.3->langchain) (23.1.0)\n",
            "Requirement already satisfied: charset-normalizer<4.0,>=2.0 in /usr/local/lib/python3.10/dist-packages (from aiohttp<4.0.0,>=3.8.3->langchain) (2.0.12)\n",
            "Requirement already satisfied: multidict<7.0,>=4.5 in /usr/local/lib/python3.10/dist-packages (from aiohttp<4.0.0,>=3.8.3->langchain) (6.0.4)\n",
            "Requirement already satisfied: yarl<2.0,>=1.0 in /usr/local/lib/python3.10/dist-packages (from aiohttp<4.0.0,>=3.8.3->langchain) (1.9.2)\n",
            "Requirement already satisfied: frozenlist>=1.1.1 in /usr/local/lib/python3.10/dist-packages (from aiohttp<4.0.0,>=3.8.3->langchain) (1.3.3)\n",
            "Requirement already satisfied: aiosignal>=1.1.2 in /usr/local/lib/python3.10/dist-packages (from aiohttp<4.0.0,>=3.8.3->langchain) (1.3.1)\n",
            "Collecting marshmallow<4.0.0,>=3.3.0 (from dataclasses-json<0.6.0,>=0.5.7->langchain)\n",
            "  Downloading marshmallow-3.19.0-py3-none-any.whl (49 kB)\n",
            "\u001b[2K     \u001b[90m━━━━━━━━━━━━━━━━━━━━━━━━━━━━━━━━━━━━━━━━\u001b[0m \u001b[32m49.1/49.1 kB\u001b[0m \u001b[31m4.4 MB/s\u001b[0m eta \u001b[36m0:00:00\u001b[0m\n",
            "\u001b[?25hCollecting marshmallow-enum<2.0.0,>=1.5.1 (from dataclasses-json<0.6.0,>=0.5.7->langchain)\n",
            "  Downloading marshmallow_enum-1.5.1-py2.py3-none-any.whl (4.2 kB)\n",
            "Collecting typing-inspect>=0.4.0 (from dataclasses-json<0.6.0,>=0.5.7->langchain)\n",
            "  Downloading typing_inspect-0.9.0-py3-none-any.whl (8.8 kB)\n",
            "Requirement already satisfied: typing-extensions>=4.2.0 in /usr/local/lib/python3.10/dist-packages (from pydantic<2,>=1->langchain) (4.6.3)\n",
            "Requirement already satisfied: urllib3<1.27,>=1.21.1 in /usr/local/lib/python3.10/dist-packages (from requests<3,>=2->langchain) (1.26.16)\n",
            "Requirement already satisfied: certifi>=2017.4.17 in /usr/local/lib/python3.10/dist-packages (from requests<3,>=2->langchain) (2023.5.7)\n",
            "Requirement already satisfied: idna<4,>=2.5 in /usr/local/lib/python3.10/dist-packages (from requests<3,>=2->langchain) (3.4)\n",
            "Requirement already satisfied: greenlet!=0.4.17 in /usr/local/lib/python3.10/dist-packages (from SQLAlchemy<3,>=1.4->langchain) (2.0.2)\n",
            "Requirement already satisfied: packaging>=17.0 in /usr/local/lib/python3.10/dist-packages (from marshmallow<4.0.0,>=3.3.0->dataclasses-json<0.6.0,>=0.5.7->langchain) (23.1)\n",
            "Collecting mypy-extensions>=0.3.0 (from typing-inspect>=0.4.0->dataclasses-json<0.6.0,>=0.5.7->langchain)\n",
            "  Downloading mypy_extensions-1.0.0-py3-none-any.whl (4.7 kB)\n",
            "Installing collected packages: mypy-extensions, marshmallow, typing-inspect, openapi-schema-pydantic, marshmallow-enum, langchainplus-sdk, dataclasses-json, langchain\n",
            "Successfully installed dataclasses-json-0.5.9 langchain-0.0.222 langchainplus-sdk-0.0.20 marshmallow-3.19.0 marshmallow-enum-1.5.1 mypy-extensions-1.0.0 openapi-schema-pydantic-1.2.4 typing-inspect-0.9.0\n",
            "Collecting openai\n",
            "  Downloading openai-0.27.8-py3-none-any.whl (73 kB)\n",
            "\u001b[2K     \u001b[90m━━━━━━━━━━━━━━━━━━━━━━━━━━━━━━━━━━━━━━━━\u001b[0m \u001b[32m73.6/73.6 kB\u001b[0m \u001b[31m2.4 MB/s\u001b[0m eta \u001b[36m0:00:00\u001b[0m\n",
            "\u001b[?25hRequirement already satisfied: requests>=2.20 in /usr/local/lib/python3.10/dist-packages (from openai) (2.27.1)\n",
            "Requirement already satisfied: tqdm in /usr/local/lib/python3.10/dist-packages (from openai) (4.65.0)\n",
            "Requirement already satisfied: aiohttp in /usr/local/lib/python3.10/dist-packages (from openai) (3.8.4)\n",
            "Requirement already satisfied: urllib3<1.27,>=1.21.1 in /usr/local/lib/python3.10/dist-packages (from requests>=2.20->openai) (1.26.16)\n",
            "Requirement already satisfied: certifi>=2017.4.17 in /usr/local/lib/python3.10/dist-packages (from requests>=2.20->openai) (2023.5.7)\n",
            "Requirement already satisfied: charset-normalizer~=2.0.0 in /usr/local/lib/python3.10/dist-packages (from requests>=2.20->openai) (2.0.12)\n",
            "Requirement already satisfied: idna<4,>=2.5 in /usr/local/lib/python3.10/dist-packages (from requests>=2.20->openai) (3.4)\n",
            "Requirement already satisfied: attrs>=17.3.0 in /usr/local/lib/python3.10/dist-packages (from aiohttp->openai) (23.1.0)\n",
            "Requirement already satisfied: multidict<7.0,>=4.5 in /usr/local/lib/python3.10/dist-packages (from aiohttp->openai) (6.0.4)\n",
            "Requirement already satisfied: async-timeout<5.0,>=4.0.0a3 in /usr/local/lib/python3.10/dist-packages (from aiohttp->openai) (4.0.2)\n",
            "Requirement already satisfied: yarl<2.0,>=1.0 in /usr/local/lib/python3.10/dist-packages (from aiohttp->openai) (1.9.2)\n",
            "Requirement already satisfied: frozenlist>=1.1.1 in /usr/local/lib/python3.10/dist-packages (from aiohttp->openai) (1.3.3)\n",
            "Requirement already satisfied: aiosignal>=1.1.2 in /usr/local/lib/python3.10/dist-packages (from aiohttp->openai) (1.3.1)\n",
            "Installing collected packages: openai\n",
            "Successfully installed openai-0.27.8\n",
            "Collecting chromadb\n",
            "  Downloading chromadb-0.3.26-py3-none-any.whl (123 kB)\n",
            "\u001b[2K     \u001b[90m━━━━━━━━━━━━━━━━━━━━━━━━━━━━━━━━━━━━━━━\u001b[0m \u001b[32m123.6/123.6 kB\u001b[0m \u001b[31m3.4 MB/s\u001b[0m eta \u001b[36m0:00:00\u001b[0m\n",
            "\u001b[?25hRequirement already satisfied: pandas>=1.3 in /usr/local/lib/python3.10/dist-packages (from chromadb) (1.5.3)\n",
            "Collecting requests>=2.28 (from chromadb)\n",
            "  Downloading requests-2.31.0-py3-none-any.whl (62 kB)\n",
            "\u001b[2K     \u001b[90m━━━━━━━━━━━━━━━━━━━━━━━━━━━━━━━━━━━━━━━━\u001b[0m \u001b[32m62.6/62.6 kB\u001b[0m \u001b[31m5.7 MB/s\u001b[0m eta \u001b[36m0:00:00\u001b[0m\n",
            "\u001b[?25hRequirement already satisfied: pydantic>=1.9 in /usr/local/lib/python3.10/dist-packages (from chromadb) (1.10.9)\n",
            "Collecting hnswlib>=0.7 (from chromadb)\n",
            "  Downloading hnswlib-0.7.0.tar.gz (33 kB)\n",
            "  Installing build dependencies ... \u001b[?25l\u001b[?25hdone\n",
            "  Getting requirements to build wheel ... \u001b[?25l\u001b[?25hdone\n",
            "  Preparing metadata (pyproject.toml) ... \u001b[?25l\u001b[?25hdone\n",
            "Collecting clickhouse-connect>=0.5.7 (from chromadb)\n",
            "  Downloading clickhouse_connect-0.6.4-cp310-cp310-manylinux_2_17_x86_64.manylinux2014_x86_64.whl (965 kB)\n",
            "\u001b[2K     \u001b[90m━━━━━━━━━━━━━━━━━━━━━━━━━━━━━━━━━━━━━━\u001b[0m \u001b[32m965.1/965.1 kB\u001b[0m \u001b[31m19.1 MB/s\u001b[0m eta \u001b[36m0:00:00\u001b[0m\n",
            "\u001b[?25hRequirement already satisfied: duckdb>=0.7.1 in /usr/local/lib/python3.10/dist-packages (from chromadb) (0.8.1)\n",
            "Collecting fastapi>=0.85.1 (from chromadb)\n",
            "  Downloading fastapi-0.99.1-py3-none-any.whl (58 kB)\n",
            "\u001b[2K     \u001b[90m━━━━━━━━━━━━━━━━━━━━━━━━━━━━━━━━━━━━━━━\u001b[0m \u001b[32m58.4/58.4 kB\u001b[0m \u001b[31m829.2 kB/s\u001b[0m eta \u001b[36m0:00:00\u001b[0m\n",
            "\u001b[?25hCollecting uvicorn[standard]>=0.18.3 (from chromadb)\n",
            "  Downloading uvicorn-0.22.0-py3-none-any.whl (58 kB)\n",
            "\u001b[2K     \u001b[90m━━━━━━━━━━━━━━━━━━━━━━━━━━━━━━━━━━━━━━━━\u001b[0m \u001b[32m58.3/58.3 kB\u001b[0m \u001b[31m5.9 MB/s\u001b[0m eta \u001b[36m0:00:00\u001b[0m\n",
            "\u001b[?25hRequirement already satisfied: numpy>=1.21.6 in /usr/local/lib/python3.10/dist-packages (from chromadb) (1.22.4)\n",
            "Collecting posthog>=2.4.0 (from chromadb)\n",
            "  Downloading posthog-3.0.1-py2.py3-none-any.whl (37 kB)\n",
            "Requirement already satisfied: typing-extensions>=4.5.0 in /usr/local/lib/python3.10/dist-packages (from chromadb) (4.6.3)\n",
            "Collecting pulsar-client>=3.1.0 (from chromadb)\n",
            "  Downloading pulsar_client-3.2.0-cp310-cp310-manylinux_2_17_x86_64.manylinux2014_x86_64.whl (5.3 MB)\n",
            "\u001b[2K     \u001b[90m━━━━━━━━━━━━━━━━━━━━━━━━━━━━━━━━━━━━━━━━\u001b[0m \u001b[32m5.3/5.3 MB\u001b[0m \u001b[31m63.7 MB/s\u001b[0m eta \u001b[36m0:00:00\u001b[0m\n",
            "\u001b[?25hCollecting onnxruntime>=1.14.1 (from chromadb)\n",
            "  Downloading onnxruntime-1.15.1-cp310-cp310-manylinux_2_17_x86_64.manylinux2014_x86_64.whl (5.9 MB)\n",
            "\u001b[2K     \u001b[90m━━━━━━━━━━━━━━━━━━━━━━━━━━━━━━━━━━━━━━━━\u001b[0m \u001b[32m5.9/5.9 MB\u001b[0m \u001b[31m68.9 MB/s\u001b[0m eta \u001b[36m0:00:00\u001b[0m\n",
            "\u001b[?25hCollecting tokenizers>=0.13.2 (from chromadb)\n",
            "  Downloading tokenizers-0.13.3-cp310-cp310-manylinux_2_17_x86_64.manylinux2014_x86_64.whl (7.8 MB)\n",
            "\u001b[2K     \u001b[90m━━━━━━━━━━━━━━━━━━━━━━━━━━━━━━━━━━━━━━━━\u001b[0m \u001b[32m7.8/7.8 MB\u001b[0m \u001b[31m68.5 MB/s\u001b[0m eta \u001b[36m0:00:00\u001b[0m\n",
            "\u001b[?25hRequirement already satisfied: tqdm>=4.65.0 in /usr/local/lib/python3.10/dist-packages (from chromadb) (4.65.0)\n",
            "Collecting overrides>=7.3.1 (from chromadb)\n",
            "  Downloading overrides-7.3.1-py3-none-any.whl (17 kB)\n",
            "Requirement already satisfied: certifi in /usr/local/lib/python3.10/dist-packages (from clickhouse-connect>=0.5.7->chromadb) (2023.5.7)\n",
            "Requirement already satisfied: urllib3>=1.26 in /usr/local/lib/python3.10/dist-packages (from clickhouse-connect>=0.5.7->chromadb) (1.26.16)\n",
            "Requirement already satisfied: pytz in /usr/local/lib/python3.10/dist-packages (from clickhouse-connect>=0.5.7->chromadb) (2022.7.1)\n",
            "Collecting zstandard (from clickhouse-connect>=0.5.7->chromadb)\n",
            "  Downloading zstandard-0.21.0-cp310-cp310-manylinux_2_17_x86_64.manylinux2014_x86_64.whl (2.7 MB)\n",
            "\u001b[2K     \u001b[90m━━━━━━━━━━━━━━━━━━━━━━━━━━━━━━━━━━━━━━━━\u001b[0m \u001b[32m2.7/2.7 MB\u001b[0m \u001b[31m63.9 MB/s\u001b[0m eta \u001b[36m0:00:00\u001b[0m\n",
            "\u001b[?25hCollecting lz4 (from clickhouse-connect>=0.5.7->chromadb)\n",
            "  Downloading lz4-4.3.2-cp310-cp310-manylinux_2_17_x86_64.manylinux2014_x86_64.whl (1.3 MB)\n",
            "\u001b[2K     \u001b[90m━━━━━━━━━━━━━━━━━━━━━━━━━━━━━━━━━━━━━━━━\u001b[0m \u001b[32m1.3/1.3 MB\u001b[0m \u001b[31m64.1 MB/s\u001b[0m eta \u001b[36m0:00:00\u001b[0m\n",
            "\u001b[?25hCollecting starlette<0.28.0,>=0.27.0 (from fastapi>=0.85.1->chromadb)\n",
            "  Downloading starlette-0.27.0-py3-none-any.whl (66 kB)\n",
            "\u001b[2K     \u001b[90m━━━━━━━━━━━━━━━━━━━━━━━━━━━━━━━━━━━━━━━━\u001b[0m \u001b[32m67.0/67.0 kB\u001b[0m \u001b[31m6.4 MB/s\u001b[0m eta \u001b[36m0:00:00\u001b[0m\n",
            "\u001b[?25hCollecting coloredlogs (from onnxruntime>=1.14.1->chromadb)\n",
            "  Downloading coloredlogs-15.0.1-py2.py3-none-any.whl (46 kB)\n",
            "\u001b[2K     \u001b[90m━━━━━━━━━━━━━━━━━━━━━━━━━━━━━━━━━━━━━━━━\u001b[0m \u001b[32m46.0/46.0 kB\u001b[0m \u001b[31m4.7 MB/s\u001b[0m eta \u001b[36m0:00:00\u001b[0m\n",
            "\u001b[?25hRequirement already satisfied: flatbuffers in /usr/local/lib/python3.10/dist-packages (from onnxruntime>=1.14.1->chromadb) (23.5.26)\n",
            "Requirement already satisfied: packaging in /usr/local/lib/python3.10/dist-packages (from onnxruntime>=1.14.1->chromadb) (23.1)\n",
            "Requirement already satisfied: protobuf in /usr/local/lib/python3.10/dist-packages (from onnxruntime>=1.14.1->chromadb) (3.20.3)\n",
            "Requirement already satisfied: sympy in /usr/local/lib/python3.10/dist-packages (from onnxruntime>=1.14.1->chromadb) (1.11.1)\n",
            "Requirement already satisfied: python-dateutil>=2.8.1 in /usr/local/lib/python3.10/dist-packages (from pandas>=1.3->chromadb) (2.8.2)\n",
            "Requirement already satisfied: six>=1.5 in /usr/local/lib/python3.10/dist-packages (from posthog>=2.4.0->chromadb) (1.16.0)\n",
            "Collecting monotonic>=1.5 (from posthog>=2.4.0->chromadb)\n",
            "  Downloading monotonic-1.6-py2.py3-none-any.whl (8.2 kB)\n",
            "Collecting backoff>=1.10.0 (from posthog>=2.4.0->chromadb)\n",
            "  Downloading backoff-2.2.1-py3-none-any.whl (15 kB)\n",
            "Requirement already satisfied: charset-normalizer<4,>=2 in /usr/local/lib/python3.10/dist-packages (from requests>=2.28->chromadb) (2.0.12)\n",
            "Requirement already satisfied: idna<4,>=2.5 in /usr/local/lib/python3.10/dist-packages (from requests>=2.28->chromadb) (3.4)\n",
            "Requirement already satisfied: click>=7.0 in /usr/local/lib/python3.10/dist-packages (from uvicorn[standard]>=0.18.3->chromadb) (8.1.3)\n",
            "Collecting h11>=0.8 (from uvicorn[standard]>=0.18.3->chromadb)\n",
            "  Downloading h11-0.14.0-py3-none-any.whl (58 kB)\n",
            "\u001b[2K     \u001b[90m━━━━━━━━━━━━━━━━━━━━━━━━━━━━━━━━━━━━━━━━\u001b[0m \u001b[32m58.3/58.3 kB\u001b[0m \u001b[31m5.8 MB/s\u001b[0m eta \u001b[36m0:00:00\u001b[0m\n",
            "\u001b[?25hCollecting httptools>=0.5.0 (from uvicorn[standard]>=0.18.3->chromadb)\n",
            "  Downloading httptools-0.5.0-cp310-cp310-manylinux_2_5_x86_64.manylinux1_x86_64.manylinux_2_17_x86_64.manylinux2014_x86_64.whl (414 kB)\n",
            "\u001b[2K     \u001b[90m━━━━━━━━━━━━━━━━━━━━━━━━━━━━━━━━━━━━━━\u001b[0m \u001b[32m414.1/414.1 kB\u001b[0m \u001b[31m34.7 MB/s\u001b[0m eta \u001b[36m0:00:00\u001b[0m\n",
            "\u001b[?25hCollecting python-dotenv>=0.13 (from uvicorn[standard]>=0.18.3->chromadb)\n",
            "  Downloading python_dotenv-1.0.0-py3-none-any.whl (19 kB)\n",
            "Requirement already satisfied: pyyaml>=5.1 in /usr/local/lib/python3.10/dist-packages (from uvicorn[standard]>=0.18.3->chromadb) (6.0)\n",
            "Collecting uvloop!=0.15.0,!=0.15.1,>=0.14.0 (from uvicorn[standard]>=0.18.3->chromadb)\n",
            "  Downloading uvloop-0.17.0-cp310-cp310-manylinux_2_17_x86_64.manylinux2014_x86_64.whl (4.1 MB)\n",
            "\u001b[2K     \u001b[90m━━━━━━━━━━━━━━━━━━━━━━━━━━━━━━━━━━━━━━━━\u001b[0m \u001b[32m4.1/4.1 MB\u001b[0m \u001b[31m84.4 MB/s\u001b[0m eta \u001b[36m0:00:00\u001b[0m\n",
            "\u001b[?25hCollecting watchfiles>=0.13 (from uvicorn[standard]>=0.18.3->chromadb)\n",
            "  Downloading watchfiles-0.19.0-cp37-abi3-manylinux_2_17_x86_64.manylinux2014_x86_64.whl (1.3 MB)\n",
            "\u001b[2K     \u001b[90m━━━━━━━━━━━━━━━━━━━━━━━━━━━━━━━━━━━━━━━━\u001b[0m \u001b[32m1.3/1.3 MB\u001b[0m \u001b[31m41.3 MB/s\u001b[0m eta \u001b[36m0:00:00\u001b[0m\n",
            "\u001b[?25hCollecting websockets>=10.4 (from uvicorn[standard]>=0.18.3->chromadb)\n",
            "  Downloading websockets-11.0.3-cp310-cp310-manylinux_2_5_x86_64.manylinux1_x86_64.manylinux_2_17_x86_64.manylinux2014_x86_64.whl (129 kB)\n",
            "\u001b[2K     \u001b[90m━━━━━━━━━━━━━━━━━━━━━━━━━━━━━━━━━━━━━━\u001b[0m \u001b[32m129.9/129.9 kB\u001b[0m \u001b[31m13.5 MB/s\u001b[0m eta \u001b[36m0:00:00\u001b[0m\n",
            "\u001b[?25hRequirement already satisfied: anyio<5,>=3.4.0 in /usr/local/lib/python3.10/dist-packages (from starlette<0.28.0,>=0.27.0->fastapi>=0.85.1->chromadb) (3.7.0)\n",
            "Collecting humanfriendly>=9.1 (from coloredlogs->onnxruntime>=1.14.1->chromadb)\n",
            "  Downloading humanfriendly-10.0-py2.py3-none-any.whl (86 kB)\n",
            "\u001b[2K     \u001b[90m━━━━━━━━━━━━━━━━━━━━━━━━━━━━━━━━━━━━━━━━\u001b[0m \u001b[32m86.8/86.8 kB\u001b[0m \u001b[31m9.0 MB/s\u001b[0m eta \u001b[36m0:00:00\u001b[0m\n",
            "\u001b[?25hRequirement already satisfied: mpmath>=0.19 in /usr/local/lib/python3.10/dist-packages (from sympy->onnxruntime>=1.14.1->chromadb) (1.3.0)\n",
            "Requirement already satisfied: sniffio>=1.1 in /usr/local/lib/python3.10/dist-packages (from anyio<5,>=3.4.0->starlette<0.28.0,>=0.27.0->fastapi>=0.85.1->chromadb) (1.3.0)\n",
            "Requirement already satisfied: exceptiongroup in /usr/local/lib/python3.10/dist-packages (from anyio<5,>=3.4.0->starlette<0.28.0,>=0.27.0->fastapi>=0.85.1->chromadb) (1.1.1)\n",
            "Building wheels for collected packages: hnswlib\n",
            "  Building wheel for hnswlib (pyproject.toml) ... \u001b[?25l\u001b[?25hdone\n",
            "  Created wheel for hnswlib: filename=hnswlib-0.7.0-cp310-cp310-linux_x86_64.whl size=2119862 sha256=f494f7c71878b33fb3e8a508b72b16f87ffd7ce1f3304d0b9beea0911e61d2de\n",
            "  Stored in directory: /root/.cache/pip/wheels/8a/ae/ec/235a682e0041fbaeee389843670581ec6c66872db856dfa9a4\n",
            "Successfully built hnswlib\n",
            "Installing collected packages: tokenizers, monotonic, zstandard, websockets, uvloop, requests, python-dotenv, pulsar-client, overrides, lz4, humanfriendly, httptools, hnswlib, h11, backoff, watchfiles, uvicorn, starlette, posthog, coloredlogs, clickhouse-connect, onnxruntime, fastapi, chromadb\n",
            "  Attempting uninstall: requests\n",
            "    Found existing installation: requests 2.27.1\n",
            "    Uninstalling requests-2.27.1:\n",
            "      Successfully uninstalled requests-2.27.1\n",
            "\u001b[31mERROR: pip's dependency resolver does not currently take into account all the packages that are installed. This behaviour is the source of the following dependency conflicts.\n",
            "google-colab 1.0.0 requires requests==2.27.1, but you have requests 2.31.0 which is incompatible.\u001b[0m\u001b[31m\n",
            "\u001b[0mSuccessfully installed backoff-2.2.1 chromadb-0.3.26 clickhouse-connect-0.6.4 coloredlogs-15.0.1 fastapi-0.99.1 h11-0.14.0 hnswlib-0.7.0 httptools-0.5.0 humanfriendly-10.0 lz4-4.3.2 monotonic-1.6 onnxruntime-1.15.1 overrides-7.3.1 posthog-3.0.1 pulsar-client-3.2.0 python-dotenv-1.0.0 requests-2.31.0 starlette-0.27.0 tokenizers-0.13.3 uvicorn-0.22.0 uvloop-0.17.0 watchfiles-0.19.0 websockets-11.0.3 zstandard-0.21.0\n",
            "Collecting azure-storage-blob\n",
            "  Downloading azure_storage_blob-12.16.0-py3-none-any.whl (387 kB)\n",
            "\u001b[2K     \u001b[90m━━━━━━━━━━━━━━━━━━━━━━━━━━━━━━━━━━━━━━━\u001b[0m \u001b[32m388.0/388.0 kB\u001b[0m \u001b[31m7.5 MB/s\u001b[0m eta \u001b[36m0:00:00\u001b[0m\n",
            "\u001b[?25hCollecting azure-core<2.0.0,>=1.26.0 (from azure-storage-blob)\n",
            "  Downloading azure_core-1.27.1-py3-none-any.whl (174 kB)\n",
            "\u001b[2K     \u001b[90m━━━━━━━━━━━━━━━━━━━━━━━━━━━━━━━━━━━━━━\u001b[0m \u001b[32m174.5/174.5 kB\u001b[0m \u001b[31m16.5 MB/s\u001b[0m eta \u001b[36m0:00:00\u001b[0m\n",
            "\u001b[?25hCollecting cryptography>=2.1.4 (from azure-storage-blob)\n",
            "  Downloading cryptography-41.0.1-cp37-abi3-manylinux_2_28_x86_64.whl (4.3 MB)\n",
            "\u001b[2K     \u001b[90m━━━━━━━━━━━━━━━━━━━━━━━━━━━━━━━━━━━━━━━━\u001b[0m \u001b[32m4.3/4.3 MB\u001b[0m \u001b[31m36.2 MB/s\u001b[0m eta \u001b[36m0:00:00\u001b[0m\n",
            "\u001b[?25hRequirement already satisfied: typing-extensions>=4.0.1 in /usr/local/lib/python3.10/dist-packages (from azure-storage-blob) (4.6.3)\n",
            "Collecting isodate>=0.6.1 (from azure-storage-blob)\n",
            "  Downloading isodate-0.6.1-py2.py3-none-any.whl (41 kB)\n",
            "\u001b[2K     \u001b[90m━━━━━━━━━━━━━━━━━━━━━━━━━━━━━━━━━━━━━━━━\u001b[0m \u001b[32m41.7/41.7 kB\u001b[0m \u001b[31m4.1 MB/s\u001b[0m eta \u001b[36m0:00:00\u001b[0m\n",
            "\u001b[?25hRequirement already satisfied: requests>=2.18.4 in /usr/local/lib/python3.10/dist-packages (from azure-core<2.0.0,>=1.26.0->azure-storage-blob) (2.31.0)\n",
            "Requirement already satisfied: six>=1.11.0 in /usr/local/lib/python3.10/dist-packages (from azure-core<2.0.0,>=1.26.0->azure-storage-blob) (1.16.0)\n",
            "Requirement already satisfied: cffi>=1.12 in /usr/local/lib/python3.10/dist-packages (from cryptography>=2.1.4->azure-storage-blob) (1.15.1)\n",
            "Requirement already satisfied: pycparser in /usr/local/lib/python3.10/dist-packages (from cffi>=1.12->cryptography>=2.1.4->azure-storage-blob) (2.21)\n",
            "Requirement already satisfied: charset-normalizer<4,>=2 in /usr/local/lib/python3.10/dist-packages (from requests>=2.18.4->azure-core<2.0.0,>=1.26.0->azure-storage-blob) (2.0.12)\n",
            "Requirement already satisfied: idna<4,>=2.5 in /usr/local/lib/python3.10/dist-packages (from requests>=2.18.4->azure-core<2.0.0,>=1.26.0->azure-storage-blob) (3.4)\n",
            "Requirement already satisfied: urllib3<3,>=1.21.1 in /usr/local/lib/python3.10/dist-packages (from requests>=2.18.4->azure-core<2.0.0,>=1.26.0->azure-storage-blob) (1.26.16)\n",
            "Requirement already satisfied: certifi>=2017.4.17 in /usr/local/lib/python3.10/dist-packages (from requests>=2.18.4->azure-core<2.0.0,>=1.26.0->azure-storage-blob) (2023.5.7)\n",
            "Installing collected packages: isodate, cryptography, azure-core, azure-storage-blob\n",
            "Successfully installed azure-core-1.27.1 azure-storage-blob-12.16.0 cryptography-41.0.1 isodate-0.6.1\n",
            "Collecting tiktoken\n",
            "  Downloading tiktoken-0.4.0-cp310-cp310-manylinux_2_17_x86_64.manylinux2014_x86_64.whl (1.7 MB)\n",
            "\u001b[2K     \u001b[90m━━━━━━━━━━━━━━━━━━━━━━━━━━━━━━━━━━━━━━━━\u001b[0m \u001b[32m1.7/1.7 MB\u001b[0m \u001b[31m20.0 MB/s\u001b[0m eta \u001b[36m0:00:00\u001b[0m\n",
            "\u001b[?25hRequirement already satisfied: regex>=2022.1.18 in /usr/local/lib/python3.10/dist-packages (from tiktoken) (2022.10.31)\n",
            "Requirement already satisfied: requests>=2.26.0 in /usr/local/lib/python3.10/dist-packages (from tiktoken) (2.31.0)\n",
            "Requirement already satisfied: charset-normalizer<4,>=2 in /usr/local/lib/python3.10/dist-packages (from requests>=2.26.0->tiktoken) (2.0.12)\n",
            "Requirement already satisfied: idna<4,>=2.5 in /usr/local/lib/python3.10/dist-packages (from requests>=2.26.0->tiktoken) (3.4)\n",
            "Requirement already satisfied: urllib3<3,>=1.21.1 in /usr/local/lib/python3.10/dist-packages (from requests>=2.26.0->tiktoken) (1.26.16)\n",
            "Requirement already satisfied: certifi>=2017.4.17 in /usr/local/lib/python3.10/dist-packages (from requests>=2.26.0->tiktoken) (2023.5.7)\n",
            "Installing collected packages: tiktoken\n",
            "Successfully installed tiktoken-0.4.0\n"
          ]
        }
      ],
      "source": [
        "!pip install langchain\n",
        "!pip install openai\n",
        "!pip install chromadb\n",
        "!pip install azure-storage-blob\n",
        "!pip install tiktoken"
      ]
    },
    {
      "cell_type": "code",
      "execution_count": null,
      "metadata": {
        "colab": {
          "base_uri": "https://localhost:8080/"
        },
        "id": "BZzoO1V2W1r8",
        "outputId": "fde608ab-c33f-4bfd-ff49-203d4643f5ac"
      },
      "outputs": [
        {
          "name": "stdout",
          "output_type": "stream",
          "text": [
            "Looking in indexes: https://pkgs.dev.azure.com/azure-sdk/public/_packaging/azure-sdk-for-python/pypi/simple/\n",
            "Collecting azure-search-documents==11.4.0a20230509004\n",
            "  Downloading https://pkgs.dev.azure.com/azure-sdk/29ec6040-b234-4e31-b139-33dc4287b756/_packaging/3572dbf9-b5ef-433b-9137-fc4d7768e7cc/pypi/download/azure-search-documents/11.4a20230509004/azure_search_documents-11.4.0a20230509004-py3-none-any.whl (304 kB)\n",
            "\u001b[2K     \u001b[90m━━━━━━━━━━━━━━━━━━━━━━━━━━━━━━━━━━━━━━━\u001b[0m \u001b[32m304.5/304.5 kB\u001b[0m \u001b[31m3.3 MB/s\u001b[0m eta \u001b[36m0:00:00\u001b[0m\n",
            "\u001b[?25hRequirement already satisfied: azure-core<2.0.0,>=1.24.0 in /usr/local/lib/python3.10/dist-packages (from azure-search-documents==11.4.0a20230509004) (1.27.1)\n",
            "Collecting azure-common~=1.1 (from azure-search-documents==11.4.0a20230509004)\n",
            "  Downloading https://pkgs.dev.azure.com/azure-sdk/29ec6040-b234-4e31-b139-33dc4287b756/_packaging/3572dbf9-b5ef-433b-9137-fc4d7768e7cc/pypi/download/azure-common/1.1.28/azure_common-1.1.28-py2.py3-none-any.whl (14 kB)\n",
            "Requirement already satisfied: isodate>=0.6.0 in /usr/local/lib/python3.10/dist-packages (from azure-search-documents==11.4.0a20230509004) (0.6.1)\n",
            "Requirement already satisfied: requests>=2.18.4 in /usr/local/lib/python3.10/dist-packages (from azure-core<2.0.0,>=1.24.0->azure-search-documents==11.4.0a20230509004) (2.31.0)\n",
            "Requirement already satisfied: six>=1.11.0 in /usr/local/lib/python3.10/dist-packages (from azure-core<2.0.0,>=1.24.0->azure-search-documents==11.4.0a20230509004) (1.16.0)\n",
            "Requirement already satisfied: typing-extensions>=4.3.0 in /usr/local/lib/python3.10/dist-packages (from azure-core<2.0.0,>=1.24.0->azure-search-documents==11.4.0a20230509004) (4.6.3)\n",
            "Requirement already satisfied: charset-normalizer<4,>=2 in /usr/local/lib/python3.10/dist-packages (from requests>=2.18.4->azure-core<2.0.0,>=1.24.0->azure-search-documents==11.4.0a20230509004) (2.0.12)\n",
            "Requirement already satisfied: idna<4,>=2.5 in /usr/local/lib/python3.10/dist-packages (from requests>=2.18.4->azure-core<2.0.0,>=1.24.0->azure-search-documents==11.4.0a20230509004) (3.4)\n",
            "Requirement already satisfied: urllib3<3,>=1.21.1 in /usr/local/lib/python3.10/dist-packages (from requests>=2.18.4->azure-core<2.0.0,>=1.24.0->azure-search-documents==11.4.0a20230509004) (1.26.16)\n",
            "Requirement already satisfied: certifi>=2017.4.17 in /usr/local/lib/python3.10/dist-packages (from requests>=2.18.4->azure-core<2.0.0,>=1.24.0->azure-search-documents==11.4.0a20230509004) (2023.5.7)\n",
            "Installing collected packages: azure-common, azure-search-documents\n",
            "Successfully installed azure-common-1.1.28 azure-search-documents-11.4.0a20230509004\n",
            "Collecting azure-identity\n",
            "  Downloading azure_identity-1.13.0-py3-none-any.whl (151 kB)\n",
            "\u001b[2K     \u001b[90m━━━━━━━━━━━━━━━━━━━━━━━━━━━━━━━━━━━━━━━\u001b[0m \u001b[32m151.6/151.6 kB\u001b[0m \u001b[31m2.7 MB/s\u001b[0m eta \u001b[36m0:00:00\u001b[0m\n",
            "\u001b[?25hRequirement already satisfied: azure-core<2.0.0,>=1.11.0 in /usr/local/lib/python3.10/dist-packages (from azure-identity) (1.27.1)\n",
            "Requirement already satisfied: cryptography>=2.5 in /usr/local/lib/python3.10/dist-packages (from azure-identity) (41.0.1)\n",
            "Collecting msal<2.0.0,>=1.20.0 (from azure-identity)\n",
            "  Downloading msal-1.22.0-py2.py3-none-any.whl (90 kB)\n",
            "\u001b[2K     \u001b[90m━━━━━━━━━━━━━━━━━━━━━━━━━━━━━━━━━━━━━━━━\u001b[0m \u001b[32m90.0/90.0 kB\u001b[0m \u001b[31m9.4 MB/s\u001b[0m eta \u001b[36m0:00:00\u001b[0m\n",
            "\u001b[?25hCollecting msal-extensions<2.0.0,>=0.3.0 (from azure-identity)\n",
            "  Downloading msal_extensions-1.0.0-py2.py3-none-any.whl (19 kB)\n",
            "Requirement already satisfied: six>=1.12.0 in /usr/local/lib/python3.10/dist-packages (from azure-identity) (1.16.0)\n",
            "Requirement already satisfied: requests>=2.18.4 in /usr/local/lib/python3.10/dist-packages (from azure-core<2.0.0,>=1.11.0->azure-identity) (2.31.0)\n",
            "Requirement already satisfied: typing-extensions>=4.3.0 in /usr/local/lib/python3.10/dist-packages (from azure-core<2.0.0,>=1.11.0->azure-identity) (4.6.3)\n",
            "Requirement already satisfied: cffi>=1.12 in /usr/local/lib/python3.10/dist-packages (from cryptography>=2.5->azure-identity) (1.15.1)\n",
            "Collecting PyJWT[crypto]<3,>=1.0.0 (from msal<2.0.0,>=1.20.0->azure-identity)\n",
            "  Downloading PyJWT-2.7.0-py3-none-any.whl (22 kB)\n",
            "Collecting portalocker<3,>=1.0 (from msal-extensions<2.0.0,>=0.3.0->azure-identity)\n",
            "  Downloading portalocker-2.7.0-py2.py3-none-any.whl (15 kB)\n",
            "Requirement already satisfied: pycparser in /usr/local/lib/python3.10/dist-packages (from cffi>=1.12->cryptography>=2.5->azure-identity) (2.21)\n",
            "Requirement already satisfied: charset-normalizer<4,>=2 in /usr/local/lib/python3.10/dist-packages (from requests>=2.18.4->azure-core<2.0.0,>=1.11.0->azure-identity) (2.0.12)\n",
            "Requirement already satisfied: idna<4,>=2.5 in /usr/local/lib/python3.10/dist-packages (from requests>=2.18.4->azure-core<2.0.0,>=1.11.0->azure-identity) (3.4)\n",
            "Requirement already satisfied: urllib3<3,>=1.21.1 in /usr/local/lib/python3.10/dist-packages (from requests>=2.18.4->azure-core<2.0.0,>=1.11.0->azure-identity) (1.26.16)\n",
            "Requirement already satisfied: certifi>=2017.4.17 in /usr/local/lib/python3.10/dist-packages (from requests>=2.18.4->azure-core<2.0.0,>=1.11.0->azure-identity) (2023.5.7)\n",
            "Installing collected packages: PyJWT, portalocker, msal, msal-extensions, azure-identity\n",
            "Successfully installed PyJWT-2.7.0 azure-identity-1.13.0 msal-1.22.0 msal-extensions-1.0.0 portalocker-2.7.0\n"
          ]
        }
      ],
      "source": [
        "!pip install --index-url=https://pkgs.dev.azure.com/azure-sdk/public/_packaging/azure-sdk-for-python/pypi/simple/ azure-search-documents==11.4.0a20230509004\n",
        "!pip install azure-identity"
      ]
    },
    {
      "cell_type": "code",
      "execution_count": null,
      "metadata": {
        "id": "6aCTusoZwpBK"
      },
      "outputs": [],
      "source": [
        "import os\n",
        "from langchain.retrievers import AzureCognitiveSearchRetriever\n",
        "from langchain.embeddings import OpenAIEmbeddings\n",
        "from langchain.vectorstores import Chroma\n",
        "from langchain.llms import AzureOpenAI\n",
        "from langchain.chains import RetrievalQA\n",
        "from langchain.vectorstores.azuresearch import AzureSearch"
      ]
    },
    {
      "cell_type": "code",
      "execution_count": null,
      "metadata": {
        "id": "e6U5cwWcw2PY"
      },
      "outputs": [],
      "source": [
        "os.environ[\"AZURE_COGNITIVE_SEARCH_SERVICE_NAME\"] = \"acs-openai-test-1\"\n",
        "os.environ[\"AZURE_COGNITIVE_SEARCH_INDEX_NAME\"] =\"azureblob-index-embeddings\"\n",
        "os.environ[\"AZURE_COGNITIVE_SEARCH_API_KEY\"] = \"\"\n",
        "\n",
        "os.environ[\"OPENAI_API_TYPE\"] = \"azure\"\n",
        "os.environ[\"OPENAI_API_VERSION\"] = \"2023-03-15-preview\"\n",
        "os.environ[\"OPENAI_API_BASE\"] = \"https://testnew.openai.azure.com/\"\n",
        "os.environ[\"OPENAI_API_KEY\"] = \"\""
      ]
    },
    {
      "cell_type": "code",
      "execution_count": null,
      "metadata": {
        "colab": {
          "base_uri": "https://localhost:8080/"
        },
        "id": "sJRT5Ig0Rpvm",
        "outputId": "8d120fc9-3374-4df5-f823-1a3c5c48f772"
      },
      "outputs": [
        {
          "name": "stdout",
          "output_type": "stream",
          "text": [
            "[-0.003158408682793379, 0.011094409972429276, -0.0040013170801103115, -0.011747414246201515, -0.0010153218172490597, 0.010781234130263329, -0.010368109680712223, -0.005297331139445305, -0.009881687350571156, -0.02616015262901783, 0.020376399159431458, 0.022575292736291885, -0.007522876374423504, 0.01728462427854538, -0.006003641523420811, 0.01912369765341282, 0.02125595696270466, -0.015645449981093407, 0.007669468875974417, -0.018364081159234047, -0.0006909018848091364, -0.006416766904294491, -0.01098113413900137, 0.017950955778360367, -0.02213551290333271, -0.003076783148571849, 0.01437942124903202, -0.029984891414642334, 0.01852400042116642, -0.007916011847555637, 0.010068260133266449, -0.019456863403320312, -0.003688141703605652, -0.024241119623184204, -0.005530546884983778, 0.003824739484116435, -0.005653818137943745, -0.029451826587319374, 0.018603960052132607, -0.016618292778730392, 0.00752953952178359, 0.012420408427715302, -0.0009903343161568046, -0.010721264407038689, 0.01000162772834301, -0.012560337781906128, 0.033529773354530334, -0.02699972875416279, -0.00792933814227581, 0.029025375843048096, 0.019696742296218872, -0.002077286597341299, -0.02739952877163887, -0.008775578811764717, -0.006213536020368338, 0.0019939953926950693, -0.00738294655457139, 0.02798589877784252, 0.006829892285168171, -0.009315306320786476, -0.02248200587928295, 0.010468059219419956, -0.013546507805585861, -0.011094409972429276, -0.004887537565082312, -0.008275830186903477, -0.005823732353746891, 0.011114399880170822, 0.006276837550103664, 0.004434432368725538, 0.01056800875812769, 0.012480378150939941, 0.005337310954928398, 0.005393948871642351, 0.008988804183900356, 0.004261186346411705, -0.022681904956698418, -0.013233331963419914, 0.011201023124158382, -0.005753767676651478, 0.00982838124036789, -0.024401038885116577, -0.00858234241604805, 0.007829388603568077, 0.0025037385057657957, 0.007549529429525137, 0.005747104529291391, 0.02817247249186039, -0.02290845662355423, -0.015525510534644127, -0.008182544261217117, 0.02005656063556671, 0.003568202257156372, 0.012786890380084515, -0.01645837351679802, 0.03155743330717087, 0.013506527990102768, 0.030437996610999107, -0.006240189075469971, -0.049681633710861206, -0.003728121519088745, -0.0013001782353967428, -0.007063108030706644, 0.003524890635162592, -0.034835781902074814, -0.009062101133167744, 0.021975593641400337, -0.007236354053020477, 0.015485530719161034, -0.008295820094645023, -0.01644504815340042, 0.005060783587396145, -0.006390113849192858, -0.0361151359975338, 0.015618797391653061, 0.005653818137943745, 0.006503389682620764, -0.02189563401043415, -0.010248169302940369, 0.0010503041557967663, 0.0006350966868922114, 0.016938133165240288, 0.02651997096836567, -0.027506140992045403, 0.010548018850386143, 0.013273311778903008, -0.00882222130894661, -0.041872236877679825, -0.0064933947287499905, -0.005567194893956184, 0.019137024879455566, 0.02148250862956047, 0.014192848466336727, 0.01751117780804634, -0.023348236456513405, 0.03734118491411209, -0.04040630906820297, 0.024774184450507164, -0.0432048961520195, -0.00840909592807293, 0.008309146389365196, 0.027372874319553375, -0.019150350242853165, -0.016964785754680634, 0.010288150049746037, 0.01399294938892126, 0.008262503892183304, -0.024840816855430603, 0.012493705376982689, -0.021056057885289192, 0.0031051021069288254, 0.0017724402714520693, 0.0177643820643425, 0.0025603766553103924, 0.01556549035012722, 0.03147747367620468, 0.003858056152239442, -0.009548522531986237, -0.01800426095724106, -0.019616782665252686, 0.0031034364365041256, 0.022162167355418205, 0.009568512439727783, 0.0018540658056735992, 0.023454848676919937, 0.03467586264014244, 0.004004648886620998, 0.007669468875974417, -0.0016133537283167243, -0.01541889738291502, -0.02502739056944847, 0.024760857224464417, -0.02538720890879631, 0.00764947896823287, -0.02017650008201599, 0.014299461618065834, 0.00718971062451601, 0.003481579013168812, -0.004424437414854765, -0.004054623655974865, -0.03390291705727577, 0.016844846308231354, 0.0147925466299057, 0.03185061737895012, -0.017004765570163727, -0.0069365049712359905, 0.024241119623184204, -0.009541858918964863, 0.001388467033393681, -0.0046343314461410046, 0.02314833737909794, 0.021935613825917244, -0.006290163844823837, -0.014805872924625874, -0.7023661136627197, -0.016351761296391487, 0.004261186346411705, -0.017311276867985725, 0.022175492718815804, 0.031370859593153, 0.024640917778015137, 0.0020939449314028025, -0.005986983422189951, 0.021855654194951057, -0.02266857773065567, -0.012700267136096954, -0.00920203048735857, -0.013206679373979568, -0.014139542356133461, -0.02314833737909794, -0.016951458528637886, -0.003324991324916482, -0.017604462802410126, 0.013106729835271835, 0.014979119412600994, 0.01547220442444086, -0.015712084248661995, -0.016711579635739326, 0.0005126583855599165, 0.00893549807369709, 0.013100066222250462, -0.006123581435531378, 0.017484523355960846, 0.016884826123714447, -0.026240112259984016, -0.0035215590614825487, -0.0009320303797721863, 0.008535698987543583, 0.033236585557460785, -0.0020672916434705257, -0.014472708106040955, -0.02504071593284607, 0.016604967415332794, 0.0009203695808537304, -0.01680486649274826, -0.00034961552591994405, 0.004830899182707071, -0.001729128765873611, -0.004571030382066965, -0.0024737536441534758, 0.01883051171898842, 0.0003673149331007153, 0.027452833950519562, 0.017684422433376312, -0.0165783129632473, -0.0005447255098260939, 0.006663309410214424, -0.003518227254971862, 0.0010453066788613796, -0.01042141579091549, 0.02160244807600975, 0.007756092119961977, 0.01083454117178917, 0.016604967415332794, -0.0011510866461321712, 0.011860691010951996, -0.005657149478793144, -0.0168714988976717, -0.02894541621208191, -0.0074962228536605835, -0.02077619917690754, 0.022535312920808792, 0.0010594661580398679, -0.01899043098092079, -0.003758106380701065, 0.012520357966423035, -0.010261496528983116, -0.019723394885659218, 0.020749544724822044, 0.015485530719161034, 0.009761747904121876, -0.00994832068681717, -0.00935528613626957, 0.016778212040662766, 0.0037014682311564684, 0.003621508600190282, -0.014366094954311848, -0.01541889738291502, 0.010847867466509342, -0.020283114165067673, -0.04611010104417801, -0.012960136868059635, -0.0066999574191868305, 0.013386588543653488, 0.02160244807600975, 0.0014384419191628695, -0.00795599166303873, -0.00046601518988609314, 0.00890884455293417, -0.0028002557810395956, 0.001188567839562893, 0.003934684209525585, 0.030091505497694016, -0.0019306938629597425, 0.0015000775456428528, 0.002447100356221199, 0.0006804904551245272, 0.011740750633180141, 0.02112269029021263, 0.005224034655839205, 0.0036481618881225586, 0.024467671290040016, 0.018270794302225113, -0.00849571917206049, -0.007169720716774464, -0.00899546779692173, -0.009535195305943489, 0.0015650447458028793, -0.016071902588009834, -0.03416945040225983, 0.00798930786550045, 0.011241002939641476, 0.002340487437322736, 0.0033899585250765085, 0.014059582725167274, 0.017724402248859406, 0.013299965299665928, -0.0016316778492182493, 0.004584356676787138, -0.0024887460749596357, 0.0039746640250086784, -0.019430210813879967, -0.017204664647579193, -0.009701778180897236, -0.019456863403320312, -0.0017857669154182076, 0.0337163470685482, -0.014166195876896381, 0.0077027855440974236, 0.0023038391955196857, 0.003831402864307165, -0.005277340766042471, 0.021349243819713593, -0.009748421609401703, -0.013020106591284275, 0.0133132915943861, -0.006963158026337624, -0.009068763814866543, -0.011953976936638355, -0.02230875939130783, -0.018017588183283806, -0.0030268083792179823, 0.0009944989578798413, 0.009941657073795795, -0.02206888049840927, 0.0014101228443905711, -0.010128229856491089, -0.0058470540679991245, -0.008095921017229557, -0.011081083677709103, -0.01704474538564682, -0.026293419301509857, 0.0010411420371383429, -0.0014725913060829043, -0.008648975752294064, 0.01757781021296978, -0.006223530974239111, 0.0011360942153260112, -0.026533298194408417, -0.018310774117708206, -0.03302336111664772, 0.03318328037858009, -0.009988300502300262, -0.033876266330480576, -0.0183507539331913, 0.005207376088947058, -0.013473211787641048, -0.0020423042587935925, 0.005070778541266918, -0.010587998665869236, -0.0156854297965765, 0.007862704806029797, 0.01032812986522913, -0.021349243819713593, -0.004967497196048498, 0.0034749158658087254, 0.012227172963321209, 0.0020706234499812126, 0.011760740540921688, 0.01505907904356718, 0.013479874469339848, 0.007049781270325184, -0.012600317597389221, 0.002543718321248889, 0.008002634160220623, 0.003303335513919592, -0.014659280888736248, 0.00932196993380785, -0.0077027855440974236, 0.019856661558151245, -0.02971835993230343, 0.01042141579091549, 0.012886839918792248, 0.02384132146835327, 0.022588618099689484, 0.008655638433992863, 0.003888041013851762, -0.022748537361621857, 0.00016585394041612744, -0.035422153770923615, -0.013126719743013382, -0.002710300963371992, 0.013533181510865688, 0.006286832503974438, 0.012886839918792248, -0.01757781021296978, -0.02468089759349823, 0.017364583909511566, 0.02154914289712906, 0.005447255447506905, -0.010128229856491089, -0.0028219115920364857, -0.0068032387644052505, -0.002025645924732089, 0.006739937234669924, 0.004847557749599218, 0.012520357966423035, -0.0072763338685035706, -0.016258474439382553, 0.011507535353302956, 0.028598923236131668, 0.03262356296181679, 0.023001743480563164, -0.02414783276617527, -0.018390733748674393, 0.002598690567538142, 0.0008878859807737172, 0.0012443730374798179, 0.003168403636664152, 0.010474721901118755, 0.022402046248316765, -0.01941688358783722, 0.02875884249806404, 0.0003606516111176461, 0.011480881832540035, 0.018857166171073914, 0.028625577688217163, -0.00849571917206049, 0.022921783849596977, -0.00012087659706594422, 0.02817247249186039, 0.008575678803026676, -0.004051291849464178, 0.03153077885508537, -0.010707938112318516, 0.0018573974957689643, 0.0009944989578798413, 0.004204547964036465, 0.032463643699884415, -0.026853136718273163, -0.013399914838373661, 0.0019190331222489476, 0.014326115138828754, 0.031157635152339935, 0.022215472534298897, 0.005020803771913052, -0.002633672906085849, 0.0012277147034183145, 0.023188317194581032, -0.004537713713943958, -0.013226669281721115, 0.003406616859138012, -0.019976601004600525, -0.013040096499025822, -0.005637159571051598, -0.0014459381345659494, 0.0180575679987669, 0.0024820826947689056, 0.024640917778015137, 0.010581335052847862, 0.025906946510076523, 0.012020610272884369, 0.01645837351679802, 0.0014925813302397728, -0.009102080948650837, -0.02242869883775711, 0.0006725777639076114, 0.012207183055579662, 0.012280479073524475, -0.011687444522976875, -0.010228179395198822, 0.004657653160393238, -0.007462906651198864, 0.006500058341771364, 0.0040013170801103115, -1.1660791642498225e-05, 0.01709805242717266, -0.023161662742495537, -5.312427310855128e-05, 0.0159786157310009, 0.008835548534989357, -0.005557199940085411, -0.010148219764232635, -0.007816062308847904, 0.011201023124158382, -0.00757618248462677, 0.008795568719506264, 0.006203541066497564, 0.020149847492575645, 0.0002575785620138049, -0.002617014804854989, -0.012953473255038261, -0.013466548174619675, -0.01030147634446621, 0.018017588183283806, 0.0038114129565656185, -0.014006276614964008, -0.0059803202748298645, 0.01556549035012722, -0.0056971292942762375, 0.0015317281940951943, 0.013319955207407475, 0.01681819185614586, 0.012826870195567608, -0.015352264977991581, -0.0068498821929097176, -0.018097547814249992, 0.010721264407038689, 0.04882873222231865, 0.04315159097313881, 0.0025637082289904356, -0.010941154323518276, 0.003691473277285695, -0.01936357654631138, -0.026959748938679695, -0.013499864377081394, 0.006393445190042257, -0.0021755704656243324, -0.007856042124330997, -0.004321156069636345, 0.016285128891468048, 0.0013526517432183027, 0.016618292778730392, 0.00711641414090991, -0.0014392748707905412, -0.0024820826947689056, -0.009448572993278503, -0.012260489165782928, 0.0029385194648057222, 0.0077027855440974236, 0.0076294890604913235, 0.0033932903315871954, 0.012073916383087635, -0.021349243819713593, 0.00772277545183897, 0.001691647688858211, 0.0002557045081630349, -0.02036307379603386, -0.014152868650853634, 0.01923030987381935, 0.010101577267050743, 0.018097547814249992, -0.0006234358879737556, 0.03286344185471535, -0.0044477591291069984, -0.01573873683810234, 0.007789408788084984, 0.004840894136577845, 0.009222020395100117, 0.004571030382066965, -0.003391624428331852, -0.008269166573882103, -0.00712974090129137, 0.00024820826365612447, -0.016604967415332794, 0.003399953478947282, -0.008662302047014236, -0.007556192576885223, 0.012080579996109009, -0.017737729474902153, -0.0012060590088367462, -0.01544555090367794, 0.028732189908623695, 0.02326827682554722, 0.004401115700602531, 0.006843218579888344, -0.0021672414150089025, -0.017564482986927032, -0.0298782791942358, -0.006749932188540697, -0.01136760599911213, -0.009301980026066303, -0.011380932293832302, -0.03041134402155876, -0.02349482849240303, -0.013333282433450222, -0.02017650008201599, 0.0037381164729595184, 0.010987796820700169, -0.017591137439012527, -0.024760857224464417, -0.016231821849942207, 0.0289987213909626, -0.013952969573438168, 0.0005209874943830073, 0.013106729835271835, 0.001535892835818231, 0.022588618099689484, -0.010861193761229515, -0.0224953331053257, 0.005863712169229984, -0.02414783276617527, -0.005843722261488438, 0.0168581735342741, -0.0039713322184979916, 0.006753263995051384, -0.002751946682110429, 0.01042141579091549, -0.006043621338903904, -0.0024654243607074022, -0.004880873952060938, -0.029371866956353188, 0.016351761296391487, -0.00872893538326025, 0.0019939953926950693, 0.007442916743457317, -0.00866896566003561, -0.004154573194682598, -0.015538837760686874, -0.001521733240224421, -0.009128733538091183, 0.001610854989849031, 0.020749544724822044, -0.019030410796403885, -0.013373262248933315, 0.016911478713154793, -0.023294929414987564, -0.00770944869145751, -0.010488049127161503, -0.018137527629733086, 0.009601828642189503, -0.02000325545668602, 0.0023937937803566456, 0.017417890951037407, -0.007442916743457317, 0.02194894105195999, -0.01030147634446621, -0.030198117718100548, 7.584720151498914e-05, -0.009808391332626343, 0.011094409972429276, 0.03563537821173668, 0.02206888049840927, 0.029211947694420815, -0.00876225158572197, -0.0030484639573842287, -0.014206175692379475, 0.007909348234534264, -0.005074109882116318, 0.0011727424571290612, -0.00779607193544507, -0.004184558056294918, -0.018843838945031166, -0.011447565630078316, -0.001529229455627501, 0.013646457344293594, -0.005264014471322298, -0.010661294683814049, -0.01505907904356718, 0.013673110865056515, 0.011394258588552475, -0.009168713353574276, -0.025720374658703804, -0.02982497215270996, -0.02165575511753559, 0.010108239948749542, -0.02060295268893242, 0.0008845542906783521, 0.021096037700772285, 0.0003396205429453403, -0.011647464707493782, -0.004904195666313171, 0.015818696469068527, -0.029371866956353188, -0.004824236035346985, 0.006163561251014471, 0.016231821849942207, 0.027119668200612068, 0.022681904956698418, -0.01163413841277361, 0.011707434430718422, 0.019869988784193993, -0.0034249410964548588, 0.009635144844651222, -0.00944190938025713, -0.013779724016785622, -0.016378413885831833, 0.0025637082289904356, 0.010008290410041809, 0.00675992714241147, 0.014486034400761127, -0.00941525585949421, 0.015485530719161034, 0.00900213047862053, -0.0016783210448920727, 0.0010244838194921613, -0.004670979920774698, -0.023508155718445778, -0.011907333508133888, 0.017417890951037407, -0.008628985844552517, 0.016551660373806953, -0.013639794662594795, -0.020389726385474205, 0.024547630921006203, 0.004644326400011778, 0.015698757022619247, 0.015045752748847008, 0.01859063282608986, -0.005986983422189951, 0.0007916844333522022, 0.0011752411955967546, 0.005747104529291391, -0.012340448796749115, 0.017471197992563248, -0.022215472534298897, -0.01505907904356718, 0.025080695748329163, 0.0010053267469629645, 0.011334288865327835, -0.00848905649036169, 0.014699260704219341, 0.011847363784909248, 0.004257854539901018, 0.010148219764232635, 0.005030798725783825, -0.010767907835543156, 0.006743269041180611, -0.0236814022064209, -0.031504128128290176, -0.0027719365898519754, -0.00801596138626337, 0.0159786157310009, 0.012300468981266022, -0.012140549719333649, 0.012200519442558289, -0.02113601751625538, -0.013393252156674862, 0.004514391999691725, -0.0007025626837275922, 0.049628328531980515, 0.007536202669143677, 0.005323984194546938, 0.01751117780804634, 0.0005526382010430098, -0.024707550182938576, 0.01723131723701954, -0.018364081159234047, 0.0014717584708705544, 0.04037965461611748, 0.025893619284033775, -0.01704474538564682, -0.013606477528810501, -0.00773610221222043, 0.024534305557608604, 0.013326618820428848, -0.017950955778360367, -0.01781768910586834, 0.019443536177277565, -0.002728625200688839, -0.005277340766042471, -0.007569519337266684, -0.04011312127113342, 0.015085732564330101, -0.0007675299420952797, -0.003831402864307165, -0.02206888049840927, -0.0016899817856028676, -0.022588618099689484, 0.00732297683134675, -0.036195095628499985, 0.01993662118911743, 0.011894007213413715, -0.0289987213909626, -0.007876032032072544, 0.0018640607595443726, -0.03286344185471535, 0.0014317785389721394, -0.0001593988563399762, 0.02846565656363964, -0.010747917927801609, -0.0015908650821074843, 0.011227676644921303, 0.008529036305844784, -0.017244644463062286, 0.007029791362583637, -0.0024487662594765425, 0.026293419301509857, -0.01399294938892126, -0.011021113954484463, -0.00037626875564455986, 0.006300158798694611, 0.00846240296959877, -0.0037414482794702053, -0.002617014804854989, -0.002217216184362769, -0.008595668710768223, 0.0039146943017840385, -0.0022521985229104757, 0.018750552088022232, -0.0013176694046705961, -0.022855151444673538, -0.011407585814595222, -0.006263510789722204, -0.013979623094201088, -0.008742261677980423, -0.0147925466299057, -0.026240112259984016, -0.014246155507862568, 0.005870375316590071, 0.001669991877861321, 0.021709062159061432, 0.00997497420758009, -0.014406074769794941, 0.02154914289712906, 0.027852632105350494, -0.023694727569818497, -0.0009420253336429596, -0.006356797181069851, -5.944921213085763e-05, -0.007616162765771151, 0.002901871223002672, 0.006876535248011351, -0.009801727719604969, 0.027452833950519562, -0.014152868650853634, -0.024174485355615616, -0.036728162318468094, -0.005860380362719297, 0.015512184239923954, -0.012793553993105888, -0.0024937435518950224, -0.0054305968806147575, 0.0006709119770675898, 0.01869724690914154, 0.02497408352792263, -0.012200519442558289, 0.019390230998396873, -0.004587688483297825, -0.0018057568231597543, 0.005710456054657698, -0.024001240730285645, -0.0072030373848974705, 0.008988804183900356, -0.0016566652338951826, 0.00902878399938345, -0.017964281141757965, -0.017950955778360367, 0.007063108030706644, 0.02273521199822426, 0.0026203463785350323, -0.015232325531542301, -0.03035803698003292, -0.0004576860519591719, -0.0049475072883069515, -0.001862394972704351, 0.00757618248462677, -0.008589006029069424, -0.021042730659246445, 0.0004306163755245507, -0.011854027397930622, 0.005647154524922371, -0.008628985844552517, 0.0052140397019684315, -0.016831519082188606, -0.011880680918693542, -0.033476464450359344, -0.020962771028280258, 0.0015800371766090393, 0.007689458783715963, 0.015458877198398113, -0.01517901849001646, -0.027199627831578255, -0.007422926370054483, -0.04048626869916916, -0.020043235272169113, -0.01721799187362194, -0.001014488865621388, 0.016938133165240288, 0.01645837351679802, -0.012160539627075195, 0.03203719109296799, 0.006903188303112984, 0.03331654518842697, -0.020522993057966232, -0.019430210813879967, 0.024534305557608604, -0.01059466227889061, 0.00726300710812211, 0.004221206530928612, -0.010461395606398582, -0.021349243819713593, 0.022468678653240204, 0.0023488164879381657, 0.00923534668982029, 0.021042730659246445, 0.004810909274965525, -0.02822577767074108, -0.008682291954755783, 0.01859063282608986, 0.0011410916922613978, 0.0033066673204302788, -0.0005917851813137531, -0.007123077753931284, 0.003501569153741002, 0.0036548252683132887, 0.000372104172129184, -0.0023554798681288958, -0.004674311727285385, 0.004730949643999338, -0.0043877894058823586, 0.0022005578503012657, -0.033822957426309586, -0.006120249629020691, -0.01000162772834301, -0.01645837351679802, 0.009895014576613903, -0.014139542356133461, -0.005670476239174604, 0.03355642408132553, 0.0039013675414025784, -0.012473715469241142, -0.011887343600392342, 0.0201231949031353, -0.013873009942471981, -0.005813737399876118, 0.0035348855890333652, -0.011414248496294022, 0.0016133537283167243, -0.0008570681675337255, -0.0008274997235275805, -0.015112385153770447, 0.002357145771384239, -0.004654321353882551, -0.006696626078337431, -0.01829744689166546, 0.0022871808614581823, 0.014486034400761127, -0.025733700022101402, -0.012666950933635235, -0.020629605278372765, 0.02017650008201599, 0.0005101596470922232, -0.005104094743728638, -0.009881687350571156, -0.010221516713500023, 0.014779220335185528, 0.02390795387327671, -0.013513191603124142, 0.0008241680916398764, 0.013566497713327408, 0.014419401064515114, -0.0036481618881225586, 0.008382443338632584, 0.2319897711277008, 0.005717119202017784, 0.01733793132007122, 0.03243698924779892, -0.006416766904294491, 0.03366303816437721, 0.0075428662821650505, -0.010101577267050743, -0.008415759541094303, 0.021389223635196686, 0.016245149075984955, 0.014565994031727314, -0.005157401319593191, 0.005254019517451525, -0.002037306781858206, -0.0019356913398951292, -0.02314833737909794, -0.021709062159061432, -0.03520892560482025, -0.016711579635739326, 0.0011485879076644778, -0.022002248093485832, 0.019137024879455566, -0.010961144231259823, 0.014605973847210407, -0.016205167397856712, -0.019989928230643272, -0.0016983109526336193, 0.021615775302052498, 0.02088281139731407, -0.013593151234090328, 0.0012893503298982978, 0.012740247882902622, -0.0039713322184979916, -0.03131755441427231, -0.005627164617180824, 0.030517956241965294, -0.003758106380701065, 0.02557378076016903, -0.00842908676713705, 0.006250184029340744, -0.024334406480193138, 0.006446751765906811, -0.014326115138828754, 0.004461085423827171, 0.026946423575282097, 0.0011027776636183262, -0.015485530719161034, 0.0011869019363075495, 0.001221884391270578, -0.020629605278372765, -0.001829078420996666, 0.019256964325904846, 0.0014559330884367228, 0.017724402248859406, -0.015338937751948833, 0.018430713564157486, -0.0014534343499690294, 0.011234339326620102, 0.0039713322184979916, -0.00842908676713705, 0.009868361055850983, -0.023867974057793617, 0.026013558730483055, -0.021295936778187752, 0.008262503892183304, -0.029211947694420815, -0.012380428612232208, -0.001425115275196731, -0.01050803903490305, 0.003055127337574959, -0.0064367568120360374, 0.01871057227253914, 0.0061135864816606045, -0.02124262973666191, -0.009608492255210876, 0.020669585093855858, 0.02409452572464943, 0.02698640339076519, 0.015658777207136154, -0.01965676248073578, -0.000673827133141458, -0.015485530719161034, -0.03265021741390228, -0.021215977147221565, -0.03363638371229172, -0.010607988573610783, -0.0035415489692240953, 0.0010269825579598546, -0.023174989968538284, -0.019216984510421753, -0.016884826123714447, -0.007063108030706644, -0.014672607183456421, 0.01184070110321045, 0.016658272594213486, -0.00860899593681097, 0.026266764849424362, 0.007049781270325184, 0.012373764999210835, -0.03544880449771881, 0.04533715546131134, 0.01857730560004711, 0.006006973329931498, 0.006929841823875904, 0.005157401319593191, -0.015045752748847008, -0.008988804183900356, -0.0008270832477137446, -0.0008987138280645013, 0.006133576389402151, -0.004727617837488651, 0.010554681532084942, -0.020989423617720604, 0.0014151203213259578, 0.01632510870695114, 0.0036548252683132887, -0.011667454615235329, 0.011047766543924809, -0.014899159781634808, -0.00724968034774065, 0.0019823345355689526, -0.013779724016785622, 0.0042078797705471516, -0.010794561356306076, -0.008682291954755783, -0.01699143834412098, -0.008415759541094303, 0.016525007784366608, -0.019909968599677086, 0.009608492255210876, -0.0006575853331014514, 0.017684422433376312, 0.00045102275907993317, -0.01529895793646574, -0.0018340758979320526, 0.006020300090312958, 0.01723131723701954, -0.02763940766453743, 0.011314298957586288, 0.01723131723701954, 0.001929028076119721, -0.00789602193981409, -0.0028718863613903522, -0.00982838124036789, -0.0147925466299057, 0.0355021134018898, -0.018217487260699272, -0.0039713322184979916, -0.01633843407034874, -0.022575292736291885, -0.009541858918964863, 0.01411288883537054, 0.016138534992933273, 0.0367015078663826, -0.012753574177622795, -0.011001124046742916, -0.03656824305653572, 0.024014566093683243, -0.007302986923605204, -0.038913726806640625, 0.005124084651470184, 0.03504900634288788, -0.02141587622463703, -0.0069365049712359905, -0.009108743630349636, -0.1745253950357437, 0.014486034400761127, 0.0027152984403073788, -0.013626467436552048, 0.023188317194581032, -0.005583852995187044, 0.03981993719935417, 0.0023454849142581224, 0.011347616091370583, 0.005723782815039158, -0.0018307442078366876, -0.01764444261789322, -0.02006988786160946, -0.006383450236171484, -0.005627164617180824, 0.0028602255042642355, -0.021455856040120125, -0.007995971478521824, 0.014152868650853634, 0.012800217606127262, 0.009881687350571156, -0.014272809028625488, 0.026120172813534737, -0.018217487260699272, 0.0029451826121658087, -0.004944175481796265, -0.010827877558767796, 0.021269284188747406, -0.001584201818332076, 0.0069365049712359905, 0.008115910924971104, 0.011407585814595222, 0.015072405338287354, 0.011907333508133888, 0.012860187329351902, 0.004557703621685505, 0.029265254735946655, -0.00046559874317608774, -0.008202534168958664, 0.011287646368145943, -0.0017641111044213176, 0.012680277228355408, -0.0012718591606244445, -0.020029908046126366, 0.004171231761574745, 0.019443536177277565, 0.036488283425569534, 9.620152559364215e-05, 0.014592647552490234, -0.01669825240969658, 0.013093402609229088, -0.027119668200612068, -0.01157416868954897, -0.005993646569550037, 0.016538333147764206, 0.008842211216688156, -0.021282609552145004, 0.010248169302940369, -0.003131755394861102, -0.005177391227334738, 0.010607988573610783, -0.01651168055832386, 0.002858559601008892, 0.0013060086639598012, -0.0039713322184979916, -0.018017588183283806, -0.031983885914087296, 0.007356293499469757, -0.00017574478988535702, 0.006196877453476191, 0.0003977162705268711, -0.020149847492575645, -0.0037747647147625685, 0.006606671027839184, 0.004297834355384111, 0.004631000105291605, -0.012726920656859875, 0.020376399159431458, -0.012507031671702862, 0.0017091388581320643, -0.0036381669342517853, 0.017324604094028473, 0.002372138202190399, 0.00934862345457077, -0.0008299984619952738, 0.005387285724282265, -0.009835044853389263, -2.6783380235428922e-05, 0.002413783920928836, -0.010474721901118755, 0.02593359909951687, -0.02971835993230343, -0.013333282433450222, -0.01752450317144394, -1.2246433470863849e-05, 0.022295432165265083, 0.0011894006747752428, 0.0005942839197814465, 0.0010269825579598546, 0.003498237347230315, -0.0034149461425840855, -0.011320962570607662, -0.03001154586672783, 0.018084222450852394, 0.04786921292543411, 0.001147755072452128, -0.00973509531468153, 0.0147925466299057, 0.04472413286566734, 0.0029784992802888155, -0.03699469193816185, 1.1153234481753316e-05, 0.006396776996552944, 0.017857668921351433, 0.024894123896956444, 0.03350311890244484, 0.005673808045685291, -0.016205167397856712, -0.0027602759655565023, 0.011127726174890995, 0.04523054510354996, 0.00016856090223882347, -0.024867471307516098, 0.021402548998594284, 0.0013751405058428645, -0.009328632615506649, -0.08976810425519943, -0.030144810676574707, 0.02533390186727047, 0.049868207424879074, -0.005463913548737764, 0.03496904671192169, 0.00042332836892455816, 0.022122187539935112, -0.0028968737460672855, 0.0006134409341029823, -0.009128733538091183, -0.009388603270053864, -0.028199125081300735, -0.010994460433721542, 0.0073363035917282104, 0.005360632203519344, 0.00956184882670641, -0.0053473059087991714, -0.017964281141757965, 0.03078448958694935, 0.00048517220420762897, -0.005257350858300924, 0.00711641414090991, -0.024827491492033005, -0.007682795636355877, -0.007482896558940411, -0.02851896360516548, 0.026773177087306976, 0.004311161115765572, -0.0029568434692919254, -0.023588115349411964, -0.016738232225179672, 0.012280479073524475, -0.015072405338287354, -0.0021122691687196493, 0.013133382424712181, -0.03632836416363716, -0.012280479073524475, 0.03416945040225983, -0.011094409972429276, 0.008322473615407944, 0.02894541621208191, -0.007289660628885031, -0.05237361043691635, 0.0014192848466336727, -0.010021617636084557, 0.004877542611211538, 0.013146709650754929, -0.007476232945919037, -0.02390795387327671, -0.02296176366508007, 0.011027776636183262, -0.023641422390937805, 0.005807074252516031, 0.010528028942644596, 0.000825833878479898, 0.015458877198398113, 0.023228297010064125, -0.011287646368145943, 0.00032421163632534444, -0.022348739206790924, -0.0031150970607995987, -0.008855538442730904, 0.01847069337964058, -0.018803859129548073, 0.01006159745156765, -0.01615186221897602, 0.003584860358387232, 0.008029287680983543, -0.011061093769967556, 0.004644326400011778, 0.0006188548286445439, -0.010454731993377209, 0.0004158321535214782, -0.017604462802410126, -0.0006542537012137473, -0.03480912744998932, -0.034062836319208145, 0.01977670192718506, -0.003868051106110215, -0.016058575361967087, -0.015285631641745567, 4.776239438797347e-05, -0.011374268680810928, 0.014899159781634808, 0.016844846308231354, 0.0038480611983686686, 0.0021156007423996925, 0.02982497215270996, -0.040273040533065796, 0.010587998665869236, 0.003958005923777819, 0.012533685192465782, -0.029211947694420815, -0.0222021471709013, 0.008662302047014236, 0.01911037042737007, -0.0048142410814762115, 0.020203154534101486, -0.002661992097273469, -0.04256521910429001, -0.020736219361424446, -0.06119583174586296, 0.020256459712982178, -0.0033299888018518686, -0.038860421627759933, -0.00705644441768527, 0.006856545340269804, -0.011700770817697048, -0.017671097069978714, -0.012293805368244648, 0.010581335052847862, -0.02272188477218151, 0.006190214306116104, 0.0024870801717042923, -0.00944190938025713, -0.010341456159949303, -0.012880177237093449, 0.03766102343797684, 0.006183551158756018, 0.012447061948478222, 0.016085227951407433, 0.007003138307482004, -0.025840314105153084, 0.005870375316590071, 0.00816255435347557, -0.01721799187362194, 0.014752566814422607, -0.014859179966151714, -0.0014051253674551845, -0.03379630669951439, -0.005170728079974651, -0.002537054941058159, -0.03747445344924927, -0.001440107706002891, 0.0017074730712920427, -0.008688955567777157, 0.012207183055579662, -0.01423282828181982, 0.03574199229478836, 0.013173362240195274, 0.016245149075984955, -0.006516716443002224, -0.045603688806295395, 0.0144993606954813, -0.02592027373611927, -0.015392244793474674, 0.03531553968787193, -0.03118428774178028, 0.011594158597290516, 0.041099291294813156, 0.006296827457845211, 0.026146825402975082, 0.008395769633352757, -0.030971061438322067, -0.010961144231259823, 0.019043738022446632, -0.004354472737759352, 0.011580831371247768, 0.005224034655839205, 0.004754271358251572, -0.010554681532084942, 0.034915741533041, -0.002883547218516469, 0.0165783129632473, 0.010821213945746422, 0.0014667609939351678, 0.021469183266162872, -0.011747414246201515, -0.0006238523637875915, 0.00778274517506361, -0.02492077648639679, -0.018364081159234047, -0.012733584269881248, 0.0015558827435597777, 0.017204664647579193, 0.031237594783306122, 0.020336419343948364, 0.006026963237673044, 0.008575678803026676, -0.0010453066788613796, 0.02556045539677143, 0.0331566259264946, 0.0059803202748298645, -0.03289009630680084, 0.014712586998939514, 0.014992445707321167, 0.009835044853389263, -0.005297331139445305, 0.009941657073795795, -0.012487041763961315, 0.0008349959389306605, -0.01989664137363434, 0.013473211787641048, 0.009895014576613903, 0.003784759668633342, -0.018750552088022232, -0.02337488904595375, 0.005827064160257578, -0.0014367761323228478, 0.03243698924779892, 0.023801341652870178, 0.013026770204305649, 0.023748034611344337, -0.001625014585442841, -0.014392748475074768, -0.010727928020060062, 0.009268662892282009, -0.019563475623726845, -0.041339170187711716, -0.0067466008476912975, 0.012420408427715302, -0.0002298841718584299, -0.010647968389093876, 0.006073606666177511, 0.012233835645020008, -0.00997497420758009, -0.000403546669986099, -0.00825584027916193, 0.011314298957586288, -0.031983885914087296, 0.026240112259984016, -0.01036144606769085, 0.013126719743013382, 0.034409329295158386, -0.0036348351277410984, 0.01959013007581234, -0.0005884534912183881, 0.020203154534101486, -0.012053926475346088, 0.0023321581538766623, 0.011054430156946182, -0.0011027776636183262, 0.018617285415530205, -0.024347731843590736, -0.018097547814249992, -0.0037780962884426117, -0.006323480512946844, -0.018137527629733086, 0.020549645647406578, -0.0008420757367275655, 0.055012281984090805, 0.008069267496466637, -0.03006485104560852, 0.011001124046742916, 0.007096424233168364, 0.021642427891492844, 0.017417890951037407, 0.011347616091370583, -0.011967303231358528, 0.00724968034774065, 0.03683477267622948, 0.00964847207069397, -0.0020456360653042793, -0.03177065774798393, -0.03989989683032036, 0.0149391395971179, -0.0055072251707315445, 0.007442916743457317, -0.005913686938583851, 0.004404447507113218, 0.012973463162779808, 0.019043738022446632, 0.008055941201746464, 0.006423430051654577, -0.023095030337572098, -0.0024087862111628056, 0.03201053664088249, -0.029131988063454628, -0.007742765359580517, -0.011860691010951996, 0.021335916593670845, 0.01071460172533989, -0.01899043098092079, -0.02841235138475895, 0.015218998305499554, 0.003225041786208749, -0.006193546112626791, -0.010428079403936863, 0.00739627331495285, -0.006166892591863871, 0.022868476808071136, 0.039206910878419876, -0.019216984510421753, 0.0018607291858643293, -0.01036144606769085, -0.014406074769794941, -0.020336419343948364, 0.012780227698385715, -0.019083717837929726]\n"
          ]
        }
      ],
      "source": [
        "from langchain.embeddings import OpenAIEmbeddings\n",
        "\n",
        "embeddings = OpenAIEmbeddings(deployment=\"embedding-ada-test-ishita\")\n",
        "text = \"This is a test document.\"\n",
        "query_result = embeddings.embed_query(text)\n",
        "print(query_result)"
      ]
    },
    {
      "cell_type": "code",
      "execution_count": null,
      "metadata": {
        "colab": {
          "base_uri": "https://localhost:8080/"
        },
        "id": "bXl2u7K2Fsd3",
        "outputId": "7e927b47-12e6-46e0-b9b0-7a2cf88b0023"
      },
      "outputs": [
        {
          "name": "stdout",
          "output_type": "stream",
          "text": [
            "Enter your query: dominic\n"
          ]
        }
      ],
      "source": [
        "query = input(\"Enter your query: \")"
      ]
    },
    {
      "cell_type": "code",
      "execution_count": null,
      "metadata": {
        "id": "fDhQ0VNAYpDg"
      },
      "outputs": [],
      "source": [
        "!pip install sentence_transformers > /dev/null"
      ]
    },
    {
      "cell_type": "code",
      "execution_count": null,
      "metadata": {
        "colab": {
          "base_uri": "https://localhost:8080/",
          "height": 381
        },
        "id": "pBuierNGxEdq",
        "outputId": "205fe853-9275-41ed-a31e-0514a3f43280"
      },
      "outputs": [
        {
          "ename": "TypeError",
          "evalue": "ignored",
          "output_type": "error",
          "traceback": [
            "\u001b[0;31m---------------------------------------------------------------------------\u001b[0m",
            "\u001b[0;31mTypeError\u001b[0m                                 Traceback (most recent call last)",
            "\u001b[0;32m<ipython-input-12-4faf5fbbc943>\u001b[0m in \u001b[0;36m<cell line: 12>\u001b[0;34m()\u001b[0m\n\u001b[1;32m     10\u001b[0m     \u001b[0membedding_function\u001b[0m\u001b[0;34m=\u001b[0m\u001b[0membeddings\u001b[0m\u001b[0;34m\u001b[0m\u001b[0;34m\u001b[0m\u001b[0m\n\u001b[1;32m     11\u001b[0m )\n\u001b[0;32m---> 12\u001b[0;31m \u001b[0mdocs\u001b[0m \u001b[0;34m=\u001b[0m \u001b[0mvector_store\u001b[0m\u001b[0;34m.\u001b[0m\u001b[0mhybrid_search\u001b[0m\u001b[0;34m(\u001b[0m\u001b[0;34m\"cmav tool\"\u001b[0m\u001b[0;34m)\u001b[0m\u001b[0;34m\u001b[0m\u001b[0;34m\u001b[0m\u001b[0m\n\u001b[0m\u001b[1;32m     13\u001b[0m \u001b[0;31m#r1 = AzureCognitiveSearchRetriever(content_key=\"content\")\u001b[0m\u001b[0;34m\u001b[0m\u001b[0;34m\u001b[0m\u001b[0m\n\u001b[1;32m     14\u001b[0m \u001b[0;31m#retriever = r1.as_retriever()\u001b[0m\u001b[0;34m\u001b[0m\u001b[0;34m\u001b[0m\u001b[0m\n",
            "\u001b[0;32m/usr/local/lib/python3.10/dist-packages/langchain/vectorstores/azuresearch.py\u001b[0m in \u001b[0;36mhybrid_search\u001b[0;34m(self, query, k, **kwargs)\u001b[0m\n\u001b[1;32m    323\u001b[0m             \u001b[0mList\u001b[0m\u001b[0;34m[\u001b[0m\u001b[0mDocument\u001b[0m\u001b[0;34m]\u001b[0m\u001b[0;34m:\u001b[0m \u001b[0mA\u001b[0m \u001b[0mlist\u001b[0m \u001b[0mof\u001b[0m \u001b[0mdocuments\u001b[0m \u001b[0mthat\u001b[0m \u001b[0mare\u001b[0m \u001b[0mmost\u001b[0m \u001b[0msimilar\u001b[0m \u001b[0mto\u001b[0m \u001b[0mthe\u001b[0m \u001b[0mquery\u001b[0m \u001b[0mtext\u001b[0m\u001b[0;34m.\u001b[0m\u001b[0;34m\u001b[0m\u001b[0;34m\u001b[0m\u001b[0m\n\u001b[1;32m    324\u001b[0m         \"\"\"\n\u001b[0;32m--> 325\u001b[0;31m         docs_and_scores = self.hybrid_search_with_score(\n\u001b[0m\u001b[1;32m    326\u001b[0m             \u001b[0mquery\u001b[0m\u001b[0;34m,\u001b[0m \u001b[0mk\u001b[0m\u001b[0;34m=\u001b[0m\u001b[0mk\u001b[0m\u001b[0;34m,\u001b[0m \u001b[0mfilters\u001b[0m\u001b[0;34m=\u001b[0m\u001b[0mkwargs\u001b[0m\u001b[0;34m.\u001b[0m\u001b[0mget\u001b[0m\u001b[0;34m(\u001b[0m\u001b[0;34m\"filters\"\u001b[0m\u001b[0;34m,\u001b[0m \u001b[0;32mNone\u001b[0m\u001b[0;34m)\u001b[0m\u001b[0;34m\u001b[0m\u001b[0;34m\u001b[0m\u001b[0m\n\u001b[1;32m    327\u001b[0m         )\n",
            "\u001b[0;32m/usr/local/lib/python3.10/dist-packages/langchain/vectorstores/azuresearch.py\u001b[0m in \u001b[0;36mhybrid_search_with_score\u001b[0;34m(self, query, k, filters)\u001b[0m\n\u001b[1;32m    346\u001b[0m             vector=Vector(\n\u001b[1;32m    347\u001b[0m                 value=np.array(\n\u001b[0;32m--> 348\u001b[0;31m                     \u001b[0mself\u001b[0m\u001b[0;34m.\u001b[0m\u001b[0membedding_function\u001b[0m\u001b[0;34m(\u001b[0m\u001b[0mquery\u001b[0m\u001b[0;34m)\u001b[0m\u001b[0;34m,\u001b[0m \u001b[0mdtype\u001b[0m\u001b[0;34m=\u001b[0m\u001b[0mnp\u001b[0m\u001b[0;34m.\u001b[0m\u001b[0mfloat32\u001b[0m\u001b[0;34m\u001b[0m\u001b[0;34m\u001b[0m\u001b[0m\n\u001b[0m\u001b[1;32m    349\u001b[0m                 ).tolist(),\n\u001b[1;32m    350\u001b[0m                 \u001b[0mk\u001b[0m\u001b[0;34m=\u001b[0m\u001b[0mk\u001b[0m\u001b[0;34m,\u001b[0m\u001b[0;34m\u001b[0m\u001b[0;34m\u001b[0m\u001b[0m\n",
            "\u001b[0;31mTypeError\u001b[0m: 'HuggingFaceEmbeddings' object is not callable"
          ]
        }
      ],
      "source": [
        "from langchain.vectorstores.azuresearch import AzureSearchVectorStoreRetriever, AzureSearch\n",
        "from langchain.embeddings.sentence_transformer import SentenceTransformerEmbeddings\n",
        "\n",
        "embeddings = SentenceTransformerEmbeddings(model_name=\"all-MiniLM-L6-v2\")\n",
        "\n",
        "vector_store = AzureSearch(\n",
        "    azure_search_endpoint=\"https://acs-openai-test-1.search.windows.net\",\n",
        "    azure_search_key=\"\",\n",
        "    index_name=\"azureblob-index-embeddings\",\n",
        "    embedding_function=embeddings\n",
        ")\n",
        "docs = vector_store.hybrid_search(\"cmav tool\")\n",
        "#r1 = AzureCognitiveSearchRetriever(content_key=\"content\")\n",
        "#retriever = r1.as_retriever()\n",
        "#docs = retriever.get_relevant_documents(content_key=\"content\")"
      ]
    },
    {
      "cell_type": "code",
      "execution_count": null,
      "metadata": {
        "id": "HrTgkdkDTGBW"
      },
      "outputs": [],
      "source": [
        "#Store vector db\n",
        "from langchain.vectorstores import Chroma\n",
        "from langchain.text_splitter import CharacterTextSplitter\n",
        "\n",
        "text_splitter = CharacterTextSplitter(chunk_size=1000, chunk_overlap=0)\n",
        "docs = text_splitter.split_documents(docs)\n",
        "vectordb = Chroma.from_documents(documents=docs, embedding=embeddings, persist_directory='Store')"
      ]
    },
    {
      "cell_type": "code",
      "execution_count": null,
      "metadata": {
        "colab": {
          "base_uri": "https://localhost:8080/"
        },
        "id": "LI3ynU6ApSMJ",
        "outputId": "b33ded4d-a058-4053-ab62-c5f447a7df36"
      },
      "outputs": [
        {
          "data": {
            "text/plain": [
              "['EEID\\tFull Name\\tJob Title\\tDepartment\\tBusiness Unit\\tGender\\tEthnicity\\tAge\\tHire Date\\tAnnual Salary\\tBonus %\\tCountry\\tCity\\tExit Date\\n\\tE02387\\tEmily Davis\\tSr. Manger\\tIT\\tResearch & Development\\tFemale\\tBlack\\t55\\t4/8/2016\\t$141,604 \\t15%\\tUnited States\\tSeattle\\t10/16/2021\\n\\tE04105\\tTheodore Dinh\\tTechnical Architect\\tIT\\tManufacturing\\tMale\\tAsian\\t59\\t11/29/1997\\t$99,975 \\t0%\\tChina\\tChongqing\\t\\n\\tE02572\\tLuna Sanders\\tDirector\\tFinance\\tSpeciality Products\\tFemale\\tCaucasian\\t50\\t10/26/2006\\t$163,099 \\t20%\\tUnited States\\tChicago\\t\\n\\tE02832\\tPenelope Jordan\\tComputer Systems Manager\\tIT\\tManufacturing\\tFemale\\tCaucasian\\t26\\t9/27/2019\\t$84,913 \\t7%\\tUnited States\\tChicago\\t\\n\\tE01639\\tAustin Vo\\tSr. Analyst\\tFinance\\tManufacturing\\tMale\\tAsian\\t55\\t11/20/1995\\t$95,409 \\t0%\\tUnited States\\tPhoenix\\t\\n\\tE00644\\tJoshua Gupta\\tAccount Representative\\tSales\\tCorporate\\tMale\\tAsian\\t57\\t1/24/2017\\t$50,994 \\t0%\\tChina\\tChongqing\\t\\n\\tE01550\\tRuby Barnes\\tManager\\tIT\\tCorporate\\tFemale\\tCaucasian\\t27\\t7/1/2020\\t$119,746 \\t10%\\tUnited States\\tPhoenix\\t\\n\\tE04332\\tLuke Martin\\tAnalyst\\tFinance\\tManufacturing\\tMale\\tBlack\\t25\\t5/16/2020\\t$41,336 \\t0%\\tUnited States\\tMiami\\t5/20/2021\\n\\tE04533\\tEaston Bailey\\tManager\\tAccounting\\tManufacturing\\tMale\\tCaucasian\\t29\\t1/25/2019\\t$113,527 \\t6%\\tUnited States\\tAustin\\t\\n\\tE03838\\tMadeline Walker\\tSr. Analyst\\tFinance\\tSpeciality Products\\tFemale\\tCaucasian\\t34\\t6/13/2018\\t$77,203 \\t0%\\tUnited States\\tChicago\\t\\n\\tE00591\\tSavannah Ali\\tSr. Manger\\tHuman Resources\\tManufacturing\\tFemale\\tAsian\\t36\\t2/11/2009\\t$157,333 \\t15%\\tUnited States\\tMiami\\t\\n\\tE03344\\tCamila Rogers\\tControls Engineer\\tEngineering\\tSpeciality Products\\tFemale\\tCaucasian\\t27\\t10/21/2021\\t$109,851 \\t0%\\tUnited States\\tSeattle\\t\\n\\tE00530\\tEli Jones\\tManager\\tHuman Resources\\tManufacturing\\tMale\\tCaucasian\\t59\\t3/14/1999\\t$105,086 \\t9%\\tUnited States\\tAustin\\t\\n\\tE04239\\tEverleigh Ng\\tSr. Manger\\tFinance\\tResearch & Development\\tFemale\\tAsian\\t51\\t6/10/2021\\t$146,742 \\t10%\\tChina\\tShanghai\\t\\n\\tE03496\\tRobert Yang\\tSr. Analyst\\tAccounting\\tSpeciality Products\\tMale\\tAsian\\t31\\t11/4/2017\\t$97,078 \\t0%\\tUnited States\\tAustin\\t3/9/2020\\n\\tE00549\\tIsabella Xi\\tVice President\\tMarketing\\tResearch & Development\\tFemale\\tAsian\\t41\\t3/13/2013\\t$249,270 \\t30%\\tUnited States\\tSeattle\\t\\n\\tE00163\\tBella Powell\\tDirector\\tFinance\\tResearch & Development\\tFemale\\tBlack\\t65\\t3/4/2002\\t$175,837 \\t20%\\tUnited States\\tPhoenix\\t\\n\\tE00884\\tCamila Silva\\tSr. Manger\\tMarketing\\tSpeciality Products\\tFemale\\tLatino\\t64\\t12/1/2003\\t$154,828 \\t13%\\tUnited States\\tSeattle\\t\\n\\tE04116\\tDavid Barnes\\tDirector\\tIT\\tCorporate\\tMale\\tCaucasian\\t64\\t11/3/2013\\t$186,503 \\t24%\\tUnited States\\tColumbus\\t\\n\\tE04625\\tAdam Dang\\tDirector\\tSales\\tResearch & Development\\tMale\\tAsian\\t45\\t7/9/2002\\t$166,331 \\t18%\\tChina\\tChongqing\\t\\n\\tE03680\\tElias Alvarado\\tSr. Manger\\tIT\\tManufacturing\\tMale\\tLatino\\t56\\t1/9/2012\\t$146,140 \\t10%\\tBrazil\\tManaus\\t\\n\\tE04732\\tEva Rivera\\tDirector\\tSales\\tManufacturing\\tFemale\\tLatino\\t36\\t4/2/2021\\t$151,703 \\t21%\\tUnited States\\tMiami\\t\\n\\tE03484\\tLogan Rivera\\tDirector\\tIT\\tResearch & Development\\tMale\\tLatino\\t59\\t5/24/2002\\t$172,787 \\t28%\\tBrazil\\tRio de Janerio\\t\\n\\tE00671\\tLeonardo Dixon\\tAnalyst\\tSales\\tSpeciality Products\\tMale\\tCaucasian\\t37\\t9/5/2019\\t$49,998 \\t0%\\tUnited States\\tSeattle\\t\\n\\tE02071\\tMateo Her\\tVice President\\tSales\\tSpeciality Products\\tMale\\tAsian\\t44\\t3/2/2014\\t$207,172 \\t31%\\tChina\\tChongqing\\t\\n\\tE02206\\tJose Henderson\\tDirector\\tHuman Resources\\tSpeciality Products\\tMale\\tBlack\\t41\\t4/17/2015\\t$152,239 \\t23%\\tUnited States\\tColumbus\\t\\n\\tE04545\\tAbigail Mejia\\tQuality Engineer\\tEngineering\\tCorporate\\tFemale\\tLatino\\t56\\t2/5/2005\\t$98,581 \\t0%\\tBrazil\\tRio de Janerio\\t\\n\\tE00154\\tWyatt Chin\\tVice President\\tEngineering\\tSpeciality Products\\tMale\\tAsian\\t43\\t6/7/2004\\t$246,231 \\t31%\\tUnited States\\tSeattle\\t\\n\\tE03343\\tCarson Lu\\tEngineering Manager\\tEngineering\\tSpeciality Products\\tMale\\tAsian\\t64\\t12/4/1996\\t$99,354 \\t12%\\tChina\\tBeijing\\t\\n\\tE00304\\tDylan Choi\\tVice President\\tIT\\tCorporate\\tMale\\tAsian\\t63\\t5/11/2012\\t$231,141 \\t34%\\tChina\\tBeijing\\t\\n\\tE02594\\tEzekiel Kumar\\tIT Coordinator\\tIT\\tResearch & Development\\tMale\\tAsian\\t28\\t6/25/2017\\t$54,775 \\t0%\\tUnited States\\tColumbus\\t\\n\\tE00402\\tDominic Guzman\\tAnalyst\\tFinance\\tManufacturing\\tMale\\tLatino\\t65\\t5/16/2004\\t$55,499 \\t0%\\tBrazil\\tManaus\\t\\n\\tE01994\\tAngel Powell\\tAnalyst II\\tSales\\tResearch & Development\\tMale\\tCaucasian\\t61\\t7/11/2008\\t$66,521 \\t0%\\tUnited States\\tSeattle\\t\\n\\tE03549\\tMateo Vu\\tAccount Representative\\tSales\\tSpeciality Products\\tMale\\tAsian\\t30\\t9/29/2016\\t$59,100 \\t0%\\tChina\\tChongqing\\t\\n\\tE03247\\tCaroline Jenkins\\tAnalyst\\tFinance\\tResearch & Development\\tFemale\\tCaucasian\\t27\\t5/6/2018\\t$49,011 \\t0%\\tUnited States\\tChicago\\t\\n\\tE02074\\tNora Brown\\tEnterprise Architect\\tIT\\tManufacturing\\tFemale\\tCaucasian\\t32\\t2/11/2014\\t$99,575 \\t0%\\tUnited States\\tAustin\\t\\n\\tE04152\\tAdeline Huang\\tControls Engineer\\tEngineering\\tManufacturing\\tFemale\\tAsian\\t34\\t12/16/2019\\t$99,989 \\t0%\\tChina\\tChengdu\\t\\n\\tE01628\\tJackson Perry\\tVice President\\tMarketing\\tResearch & Development\\tMale\\tCaucasian\\t27\\t10/20/2019\\t$256,420 \\t30%\\tUnited States\\tPhoenix\\t\\n\\tE04285\\tRiley Padilla\\tTechnical Architect\\tIT\\tManufacturing\\tFemale\\tLatino\\t35\\t5/15/2013\\t$78,940 \\t0%\\tUnited States\\tMiami']"
            ]
          },
          "execution_count": 24,
          "metadata": {},
          "output_type": "execute_result"
        }
      ],
      "source": [
        "[docs[0].page_content]"
      ]
    },
    {
      "cell_type": "code",
      "execution_count": null,
      "metadata": {
        "colab": {
          "base_uri": "https://localhost:8080/",
          "height": 329
        },
        "id": "TftTfgRVom9-",
        "outputId": "371f7815-2c02-45b6-9967-4b2ee0488dc6"
      },
      "outputs": [
        {
          "ename": "InvalidRequestError",
          "evalue": "ignored",
          "output_type": "error",
          "traceback": [
            "\u001b[0;31m---------------------------------------------------------------------------\u001b[0m",
            "\u001b[0;31mInvalidRequestError\u001b[0m                       Traceback (most recent call last)",
            "\u001b[0;32m<ipython-input-18-dd4301713d6e>\u001b[0m in \u001b[0;36m<cell line: 1>\u001b[0;34m()\u001b[0m\n\u001b[0;32m----> 1\u001b[0;31m \u001b[0mdoc_result\u001b[0m \u001b[0;34m=\u001b[0m \u001b[0membeddings\u001b[0m\u001b[0;34m.\u001b[0m\u001b[0membed_documents\u001b[0m\u001b[0;34m(\u001b[0m\u001b[0;34m[\u001b[0m\u001b[0mdocs\u001b[0m\u001b[0;34m[\u001b[0m\u001b[0;36m0\u001b[0m\u001b[0;34m]\u001b[0m\u001b[0;34m.\u001b[0m\u001b[0mpage_content\u001b[0m\u001b[0;34m]\u001b[0m\u001b[0;34m)\u001b[0m\u001b[0;34m\u001b[0m\u001b[0;34m\u001b[0m\u001b[0m\n\u001b[0m",
            "\u001b[0;32m/usr/local/lib/python3.10/dist-packages/langchain/embeddings/openai.py\u001b[0m in \u001b[0;36membed_documents\u001b[0;34m(self, texts, chunk_size)\u001b[0m\n\u001b[1;32m    450\u001b[0m         \u001b[0;31m# NOTE: to keep things simple, we assume the list may contain texts longer\u001b[0m\u001b[0;34m\u001b[0m\u001b[0;34m\u001b[0m\u001b[0m\n\u001b[1;32m    451\u001b[0m         \u001b[0;31m#       than the maximum context and use length-safe embedding function.\u001b[0m\u001b[0;34m\u001b[0m\u001b[0;34m\u001b[0m\u001b[0m\n\u001b[0;32m--> 452\u001b[0;31m         \u001b[0;32mreturn\u001b[0m \u001b[0mself\u001b[0m\u001b[0;34m.\u001b[0m\u001b[0m_get_len_safe_embeddings\u001b[0m\u001b[0;34m(\u001b[0m\u001b[0mtexts\u001b[0m\u001b[0;34m,\u001b[0m \u001b[0mengine\u001b[0m\u001b[0;34m=\u001b[0m\u001b[0mself\u001b[0m\u001b[0;34m.\u001b[0m\u001b[0mdeployment\u001b[0m\u001b[0;34m)\u001b[0m\u001b[0;34m\u001b[0m\u001b[0;34m\u001b[0m\u001b[0m\n\u001b[0m\u001b[1;32m    453\u001b[0m \u001b[0;34m\u001b[0m\u001b[0m\n\u001b[1;32m    454\u001b[0m     async def aembed_documents(\n",
            "\u001b[0;32m/usr/local/lib/python3.10/dist-packages/langchain/embeddings/openai.py\u001b[0m in \u001b[0;36m_get_len_safe_embeddings\u001b[0;34m(self, texts, engine, chunk_size)\u001b[0m\n\u001b[1;32m    300\u001b[0m         \u001b[0m_chunk_size\u001b[0m \u001b[0;34m=\u001b[0m \u001b[0mchunk_size\u001b[0m \u001b[0;32mor\u001b[0m \u001b[0mself\u001b[0m\u001b[0;34m.\u001b[0m\u001b[0mchunk_size\u001b[0m\u001b[0;34m\u001b[0m\u001b[0;34m\u001b[0m\u001b[0m\n\u001b[1;32m    301\u001b[0m         \u001b[0;32mfor\u001b[0m \u001b[0mi\u001b[0m \u001b[0;32min\u001b[0m \u001b[0mrange\u001b[0m\u001b[0;34m(\u001b[0m\u001b[0;36m0\u001b[0m\u001b[0;34m,\u001b[0m \u001b[0mlen\u001b[0m\u001b[0;34m(\u001b[0m\u001b[0mtokens\u001b[0m\u001b[0;34m)\u001b[0m\u001b[0;34m,\u001b[0m \u001b[0m_chunk_size\u001b[0m\u001b[0;34m)\u001b[0m\u001b[0;34m:\u001b[0m\u001b[0;34m\u001b[0m\u001b[0;34m\u001b[0m\u001b[0m\n\u001b[0;32m--> 302\u001b[0;31m             response = embed_with_retry(\n\u001b[0m\u001b[1;32m    303\u001b[0m                 \u001b[0mself\u001b[0m\u001b[0;34m,\u001b[0m\u001b[0;34m\u001b[0m\u001b[0;34m\u001b[0m\u001b[0m\n\u001b[1;32m    304\u001b[0m                 \u001b[0minput\u001b[0m\u001b[0;34m=\u001b[0m\u001b[0mtokens\u001b[0m\u001b[0;34m[\u001b[0m\u001b[0mi\u001b[0m \u001b[0;34m:\u001b[0m \u001b[0mi\u001b[0m \u001b[0;34m+\u001b[0m \u001b[0m_chunk_size\u001b[0m\u001b[0;34m]\u001b[0m\u001b[0;34m,\u001b[0m\u001b[0;34m\u001b[0m\u001b[0;34m\u001b[0m\u001b[0m\n",
            "\u001b[0;32m/usr/local/lib/python3.10/dist-packages/langchain/embeddings/openai.py\u001b[0m in \u001b[0;36membed_with_retry\u001b[0;34m(embeddings, **kwargs)\u001b[0m\n\u001b[1;32m     95\u001b[0m         \u001b[0;32mreturn\u001b[0m \u001b[0membeddings\u001b[0m\u001b[0;34m.\u001b[0m\u001b[0mclient\u001b[0m\u001b[0;34m.\u001b[0m\u001b[0mcreate\u001b[0m\u001b[0;34m(\u001b[0m\u001b[0;34m**\u001b[0m\u001b[0mkwargs\u001b[0m\u001b[0;34m)\u001b[0m\u001b[0;34m\u001b[0m\u001b[0;34m\u001b[0m\u001b[0m\n\u001b[1;32m     96\u001b[0m \u001b[0;34m\u001b[0m\u001b[0m\n\u001b[0;32m---> 97\u001b[0;31m     \u001b[0;32mreturn\u001b[0m \u001b[0m_embed_with_retry\u001b[0m\u001b[0;34m(\u001b[0m\u001b[0;34m**\u001b[0m\u001b[0mkwargs\u001b[0m\u001b[0;34m)\u001b[0m\u001b[0;34m\u001b[0m\u001b[0;34m\u001b[0m\u001b[0m\n\u001b[0m\u001b[1;32m     98\u001b[0m \u001b[0;34m\u001b[0m\u001b[0m\n\u001b[1;32m     99\u001b[0m \u001b[0;34m\u001b[0m\u001b[0m\n",
            "\u001b[0;32m/usr/local/lib/python3.10/dist-packages/tenacity/__init__.py\u001b[0m in \u001b[0;36mwrapped_f\u001b[0;34m(*args, **kw)\u001b[0m\n\u001b[1;32m    287\u001b[0m         \u001b[0;34m@\u001b[0m\u001b[0mfunctools\u001b[0m\u001b[0;34m.\u001b[0m\u001b[0mwraps\u001b[0m\u001b[0;34m(\u001b[0m\u001b[0mf\u001b[0m\u001b[0;34m)\u001b[0m\u001b[0;34m\u001b[0m\u001b[0;34m\u001b[0m\u001b[0m\n\u001b[1;32m    288\u001b[0m         \u001b[0;32mdef\u001b[0m \u001b[0mwrapped_f\u001b[0m\u001b[0;34m(\u001b[0m\u001b[0;34m*\u001b[0m\u001b[0margs\u001b[0m\u001b[0;34m:\u001b[0m \u001b[0mt\u001b[0m\u001b[0;34m.\u001b[0m\u001b[0mAny\u001b[0m\u001b[0;34m,\u001b[0m \u001b[0;34m**\u001b[0m\u001b[0mkw\u001b[0m\u001b[0;34m:\u001b[0m \u001b[0mt\u001b[0m\u001b[0;34m.\u001b[0m\u001b[0mAny\u001b[0m\u001b[0;34m)\u001b[0m \u001b[0;34m->\u001b[0m \u001b[0mt\u001b[0m\u001b[0;34m.\u001b[0m\u001b[0mAny\u001b[0m\u001b[0;34m:\u001b[0m\u001b[0;34m\u001b[0m\u001b[0;34m\u001b[0m\u001b[0m\n\u001b[0;32m--> 289\u001b[0;31m             \u001b[0;32mreturn\u001b[0m \u001b[0mself\u001b[0m\u001b[0;34m(\u001b[0m\u001b[0mf\u001b[0m\u001b[0;34m,\u001b[0m \u001b[0;34m*\u001b[0m\u001b[0margs\u001b[0m\u001b[0;34m,\u001b[0m \u001b[0;34m**\u001b[0m\u001b[0mkw\u001b[0m\u001b[0;34m)\u001b[0m\u001b[0;34m\u001b[0m\u001b[0;34m\u001b[0m\u001b[0m\n\u001b[0m\u001b[1;32m    290\u001b[0m \u001b[0;34m\u001b[0m\u001b[0m\n\u001b[1;32m    291\u001b[0m         \u001b[0;32mdef\u001b[0m \u001b[0mretry_with\u001b[0m\u001b[0;34m(\u001b[0m\u001b[0;34m*\u001b[0m\u001b[0margs\u001b[0m\u001b[0;34m:\u001b[0m \u001b[0mt\u001b[0m\u001b[0;34m.\u001b[0m\u001b[0mAny\u001b[0m\u001b[0;34m,\u001b[0m \u001b[0;34m**\u001b[0m\u001b[0mkwargs\u001b[0m\u001b[0;34m:\u001b[0m \u001b[0mt\u001b[0m\u001b[0;34m.\u001b[0m\u001b[0mAny\u001b[0m\u001b[0;34m)\u001b[0m \u001b[0;34m->\u001b[0m \u001b[0mWrappedFn\u001b[0m\u001b[0;34m:\u001b[0m\u001b[0;34m\u001b[0m\u001b[0;34m\u001b[0m\u001b[0m\n",
            "\u001b[0;32m/usr/local/lib/python3.10/dist-packages/tenacity/__init__.py\u001b[0m in \u001b[0;36m__call__\u001b[0;34m(self, fn, *args, **kwargs)\u001b[0m\n\u001b[1;32m    377\u001b[0m         \u001b[0mretry_state\u001b[0m \u001b[0;34m=\u001b[0m \u001b[0mRetryCallState\u001b[0m\u001b[0;34m(\u001b[0m\u001b[0mretry_object\u001b[0m\u001b[0;34m=\u001b[0m\u001b[0mself\u001b[0m\u001b[0;34m,\u001b[0m \u001b[0mfn\u001b[0m\u001b[0;34m=\u001b[0m\u001b[0mfn\u001b[0m\u001b[0;34m,\u001b[0m \u001b[0margs\u001b[0m\u001b[0;34m=\u001b[0m\u001b[0margs\u001b[0m\u001b[0;34m,\u001b[0m \u001b[0mkwargs\u001b[0m\u001b[0;34m=\u001b[0m\u001b[0mkwargs\u001b[0m\u001b[0;34m)\u001b[0m\u001b[0;34m\u001b[0m\u001b[0;34m\u001b[0m\u001b[0m\n\u001b[1;32m    378\u001b[0m         \u001b[0;32mwhile\u001b[0m \u001b[0;32mTrue\u001b[0m\u001b[0;34m:\u001b[0m\u001b[0;34m\u001b[0m\u001b[0;34m\u001b[0m\u001b[0m\n\u001b[0;32m--> 379\u001b[0;31m             \u001b[0mdo\u001b[0m \u001b[0;34m=\u001b[0m \u001b[0mself\u001b[0m\u001b[0;34m.\u001b[0m\u001b[0miter\u001b[0m\u001b[0;34m(\u001b[0m\u001b[0mretry_state\u001b[0m\u001b[0;34m=\u001b[0m\u001b[0mretry_state\u001b[0m\u001b[0;34m)\u001b[0m\u001b[0;34m\u001b[0m\u001b[0;34m\u001b[0m\u001b[0m\n\u001b[0m\u001b[1;32m    380\u001b[0m             \u001b[0;32mif\u001b[0m \u001b[0misinstance\u001b[0m\u001b[0;34m(\u001b[0m\u001b[0mdo\u001b[0m\u001b[0;34m,\u001b[0m \u001b[0mDoAttempt\u001b[0m\u001b[0;34m)\u001b[0m\u001b[0;34m:\u001b[0m\u001b[0;34m\u001b[0m\u001b[0;34m\u001b[0m\u001b[0m\n\u001b[1;32m    381\u001b[0m                 \u001b[0;32mtry\u001b[0m\u001b[0;34m:\u001b[0m\u001b[0;34m\u001b[0m\u001b[0;34m\u001b[0m\u001b[0m\n",
            "\u001b[0;32m/usr/local/lib/python3.10/dist-packages/tenacity/__init__.py\u001b[0m in \u001b[0;36miter\u001b[0;34m(self, retry_state)\u001b[0m\n\u001b[1;32m    312\u001b[0m         \u001b[0mis_explicit_retry\u001b[0m \u001b[0;34m=\u001b[0m \u001b[0mfut\u001b[0m\u001b[0;34m.\u001b[0m\u001b[0mfailed\u001b[0m \u001b[0;32mand\u001b[0m \u001b[0misinstance\u001b[0m\u001b[0;34m(\u001b[0m\u001b[0mfut\u001b[0m\u001b[0;34m.\u001b[0m\u001b[0mexception\u001b[0m\u001b[0;34m(\u001b[0m\u001b[0;34m)\u001b[0m\u001b[0;34m,\u001b[0m \u001b[0mTryAgain\u001b[0m\u001b[0;34m)\u001b[0m\u001b[0;34m\u001b[0m\u001b[0;34m\u001b[0m\u001b[0m\n\u001b[1;32m    313\u001b[0m         \u001b[0;32mif\u001b[0m \u001b[0;32mnot\u001b[0m \u001b[0;34m(\u001b[0m\u001b[0mis_explicit_retry\u001b[0m \u001b[0;32mor\u001b[0m \u001b[0mself\u001b[0m\u001b[0;34m.\u001b[0m\u001b[0mretry\u001b[0m\u001b[0;34m(\u001b[0m\u001b[0mretry_state\u001b[0m\u001b[0;34m)\u001b[0m\u001b[0;34m)\u001b[0m\u001b[0;34m:\u001b[0m\u001b[0;34m\u001b[0m\u001b[0;34m\u001b[0m\u001b[0m\n\u001b[0;32m--> 314\u001b[0;31m             \u001b[0;32mreturn\u001b[0m \u001b[0mfut\u001b[0m\u001b[0;34m.\u001b[0m\u001b[0mresult\u001b[0m\u001b[0;34m(\u001b[0m\u001b[0;34m)\u001b[0m\u001b[0;34m\u001b[0m\u001b[0;34m\u001b[0m\u001b[0m\n\u001b[0m\u001b[1;32m    315\u001b[0m \u001b[0;34m\u001b[0m\u001b[0m\n\u001b[1;32m    316\u001b[0m         \u001b[0;32mif\u001b[0m \u001b[0mself\u001b[0m\u001b[0;34m.\u001b[0m\u001b[0mafter\u001b[0m \u001b[0;32mis\u001b[0m \u001b[0;32mnot\u001b[0m \u001b[0;32mNone\u001b[0m\u001b[0;34m:\u001b[0m\u001b[0;34m\u001b[0m\u001b[0;34m\u001b[0m\u001b[0m\n",
            "\u001b[0;32m/usr/lib/python3.10/concurrent/futures/_base.py\u001b[0m in \u001b[0;36mresult\u001b[0;34m(self, timeout)\u001b[0m\n\u001b[1;32m    449\u001b[0m                     \u001b[0;32mraise\u001b[0m \u001b[0mCancelledError\u001b[0m\u001b[0;34m(\u001b[0m\u001b[0;34m)\u001b[0m\u001b[0;34m\u001b[0m\u001b[0;34m\u001b[0m\u001b[0m\n\u001b[1;32m    450\u001b[0m                 \u001b[0;32melif\u001b[0m \u001b[0mself\u001b[0m\u001b[0;34m.\u001b[0m\u001b[0m_state\u001b[0m \u001b[0;34m==\u001b[0m \u001b[0mFINISHED\u001b[0m\u001b[0;34m:\u001b[0m\u001b[0;34m\u001b[0m\u001b[0;34m\u001b[0m\u001b[0m\n\u001b[0;32m--> 451\u001b[0;31m                     \u001b[0;32mreturn\u001b[0m \u001b[0mself\u001b[0m\u001b[0;34m.\u001b[0m\u001b[0m__get_result\u001b[0m\u001b[0;34m(\u001b[0m\u001b[0;34m)\u001b[0m\u001b[0;34m\u001b[0m\u001b[0;34m\u001b[0m\u001b[0m\n\u001b[0m\u001b[1;32m    452\u001b[0m \u001b[0;34m\u001b[0m\u001b[0m\n\u001b[1;32m    453\u001b[0m                 \u001b[0mself\u001b[0m\u001b[0;34m.\u001b[0m\u001b[0m_condition\u001b[0m\u001b[0;34m.\u001b[0m\u001b[0mwait\u001b[0m\u001b[0;34m(\u001b[0m\u001b[0mtimeout\u001b[0m\u001b[0;34m)\u001b[0m\u001b[0;34m\u001b[0m\u001b[0;34m\u001b[0m\u001b[0m\n",
            "\u001b[0;32m/usr/lib/python3.10/concurrent/futures/_base.py\u001b[0m in \u001b[0;36m__get_result\u001b[0;34m(self)\u001b[0m\n\u001b[1;32m    401\u001b[0m         \u001b[0;32mif\u001b[0m \u001b[0mself\u001b[0m\u001b[0;34m.\u001b[0m\u001b[0m_exception\u001b[0m\u001b[0;34m:\u001b[0m\u001b[0;34m\u001b[0m\u001b[0;34m\u001b[0m\u001b[0m\n\u001b[1;32m    402\u001b[0m             \u001b[0;32mtry\u001b[0m\u001b[0;34m:\u001b[0m\u001b[0;34m\u001b[0m\u001b[0;34m\u001b[0m\u001b[0m\n\u001b[0;32m--> 403\u001b[0;31m                 \u001b[0;32mraise\u001b[0m \u001b[0mself\u001b[0m\u001b[0;34m.\u001b[0m\u001b[0m_exception\u001b[0m\u001b[0;34m\u001b[0m\u001b[0;34m\u001b[0m\u001b[0m\n\u001b[0m\u001b[1;32m    404\u001b[0m             \u001b[0;32mfinally\u001b[0m\u001b[0;34m:\u001b[0m\u001b[0;34m\u001b[0m\u001b[0;34m\u001b[0m\u001b[0m\n\u001b[1;32m    405\u001b[0m                 \u001b[0;31m# Break a reference cycle with the exception in self._exception\u001b[0m\u001b[0;34m\u001b[0m\u001b[0;34m\u001b[0m\u001b[0m\n",
            "\u001b[0;32m/usr/local/lib/python3.10/dist-packages/tenacity/__init__.py\u001b[0m in \u001b[0;36m__call__\u001b[0;34m(self, fn, *args, **kwargs)\u001b[0m\n\u001b[1;32m    380\u001b[0m             \u001b[0;32mif\u001b[0m \u001b[0misinstance\u001b[0m\u001b[0;34m(\u001b[0m\u001b[0mdo\u001b[0m\u001b[0;34m,\u001b[0m \u001b[0mDoAttempt\u001b[0m\u001b[0;34m)\u001b[0m\u001b[0;34m:\u001b[0m\u001b[0;34m\u001b[0m\u001b[0;34m\u001b[0m\u001b[0m\n\u001b[1;32m    381\u001b[0m                 \u001b[0;32mtry\u001b[0m\u001b[0;34m:\u001b[0m\u001b[0;34m\u001b[0m\u001b[0;34m\u001b[0m\u001b[0m\n\u001b[0;32m--> 382\u001b[0;31m                     \u001b[0mresult\u001b[0m \u001b[0;34m=\u001b[0m \u001b[0mfn\u001b[0m\u001b[0;34m(\u001b[0m\u001b[0;34m*\u001b[0m\u001b[0margs\u001b[0m\u001b[0;34m,\u001b[0m \u001b[0;34m**\u001b[0m\u001b[0mkwargs\u001b[0m\u001b[0;34m)\u001b[0m\u001b[0;34m\u001b[0m\u001b[0;34m\u001b[0m\u001b[0m\n\u001b[0m\u001b[1;32m    383\u001b[0m                 \u001b[0;32mexcept\u001b[0m \u001b[0mBaseException\u001b[0m\u001b[0;34m:\u001b[0m  \u001b[0;31m# noqa: B902\u001b[0m\u001b[0;34m\u001b[0m\u001b[0;34m\u001b[0m\u001b[0m\n\u001b[1;32m    384\u001b[0m                     \u001b[0mretry_state\u001b[0m\u001b[0;34m.\u001b[0m\u001b[0mset_exception\u001b[0m\u001b[0;34m(\u001b[0m\u001b[0msys\u001b[0m\u001b[0;34m.\u001b[0m\u001b[0mexc_info\u001b[0m\u001b[0;34m(\u001b[0m\u001b[0;34m)\u001b[0m\u001b[0;34m)\u001b[0m  \u001b[0;31m# type: ignore[arg-type]\u001b[0m\u001b[0;34m\u001b[0m\u001b[0;34m\u001b[0m\u001b[0m\n",
            "\u001b[0;32m/usr/local/lib/python3.10/dist-packages/langchain/embeddings/openai.py\u001b[0m in \u001b[0;36m_embed_with_retry\u001b[0;34m(**kwargs)\u001b[0m\n\u001b[1;32m     93\u001b[0m     \u001b[0;34m@\u001b[0m\u001b[0mretry_decorator\u001b[0m\u001b[0;34m\u001b[0m\u001b[0;34m\u001b[0m\u001b[0m\n\u001b[1;32m     94\u001b[0m     \u001b[0;32mdef\u001b[0m \u001b[0m_embed_with_retry\u001b[0m\u001b[0;34m(\u001b[0m\u001b[0;34m**\u001b[0m\u001b[0mkwargs\u001b[0m\u001b[0;34m:\u001b[0m \u001b[0mAny\u001b[0m\u001b[0;34m)\u001b[0m \u001b[0;34m->\u001b[0m \u001b[0mAny\u001b[0m\u001b[0;34m:\u001b[0m\u001b[0;34m\u001b[0m\u001b[0;34m\u001b[0m\u001b[0m\n\u001b[0;32m---> 95\u001b[0;31m         \u001b[0;32mreturn\u001b[0m \u001b[0membeddings\u001b[0m\u001b[0;34m.\u001b[0m\u001b[0mclient\u001b[0m\u001b[0;34m.\u001b[0m\u001b[0mcreate\u001b[0m\u001b[0;34m(\u001b[0m\u001b[0;34m**\u001b[0m\u001b[0mkwargs\u001b[0m\u001b[0;34m)\u001b[0m\u001b[0;34m\u001b[0m\u001b[0;34m\u001b[0m\u001b[0m\n\u001b[0m\u001b[1;32m     96\u001b[0m \u001b[0;34m\u001b[0m\u001b[0m\n\u001b[1;32m     97\u001b[0m     \u001b[0;32mreturn\u001b[0m \u001b[0m_embed_with_retry\u001b[0m\u001b[0;34m(\u001b[0m\u001b[0;34m**\u001b[0m\u001b[0mkwargs\u001b[0m\u001b[0;34m)\u001b[0m\u001b[0;34m\u001b[0m\u001b[0;34m\u001b[0m\u001b[0m\n",
            "\u001b[0;32m/usr/local/lib/python3.10/dist-packages/openai/api_resources/embedding.py\u001b[0m in \u001b[0;36mcreate\u001b[0;34m(cls, *args, **kwargs)\u001b[0m\n\u001b[1;32m     31\u001b[0m         \u001b[0;32mwhile\u001b[0m \u001b[0;32mTrue\u001b[0m\u001b[0;34m:\u001b[0m\u001b[0;34m\u001b[0m\u001b[0;34m\u001b[0m\u001b[0m\n\u001b[1;32m     32\u001b[0m             \u001b[0;32mtry\u001b[0m\u001b[0;34m:\u001b[0m\u001b[0;34m\u001b[0m\u001b[0;34m\u001b[0m\u001b[0m\n\u001b[0;32m---> 33\u001b[0;31m                 \u001b[0mresponse\u001b[0m \u001b[0;34m=\u001b[0m \u001b[0msuper\u001b[0m\u001b[0;34m(\u001b[0m\u001b[0;34m)\u001b[0m\u001b[0;34m.\u001b[0m\u001b[0mcreate\u001b[0m\u001b[0;34m(\u001b[0m\u001b[0;34m*\u001b[0m\u001b[0margs\u001b[0m\u001b[0;34m,\u001b[0m \u001b[0;34m**\u001b[0m\u001b[0mkwargs\u001b[0m\u001b[0;34m)\u001b[0m\u001b[0;34m\u001b[0m\u001b[0;34m\u001b[0m\u001b[0m\n\u001b[0m\u001b[1;32m     34\u001b[0m \u001b[0;34m\u001b[0m\u001b[0m\n\u001b[1;32m     35\u001b[0m                 \u001b[0;31m# If a user specifies base64, we'll just return the encoded string.\u001b[0m\u001b[0;34m\u001b[0m\u001b[0;34m\u001b[0m\u001b[0m\n",
            "\u001b[0;32m/usr/local/lib/python3.10/dist-packages/openai/api_resources/abstract/engine_api_resource.py\u001b[0m in \u001b[0;36mcreate\u001b[0;34m(cls, api_key, api_base, api_type, request_id, api_version, organization, **params)\u001b[0m\n\u001b[1;32m    151\u001b[0m         )\n\u001b[1;32m    152\u001b[0m \u001b[0;34m\u001b[0m\u001b[0m\n\u001b[0;32m--> 153\u001b[0;31m         response, _, api_key = requestor.request(\n\u001b[0m\u001b[1;32m    154\u001b[0m             \u001b[0;34m\"post\"\u001b[0m\u001b[0;34m,\u001b[0m\u001b[0;34m\u001b[0m\u001b[0;34m\u001b[0m\u001b[0m\n\u001b[1;32m    155\u001b[0m             \u001b[0murl\u001b[0m\u001b[0;34m,\u001b[0m\u001b[0;34m\u001b[0m\u001b[0;34m\u001b[0m\u001b[0m\n",
            "\u001b[0;32m/usr/local/lib/python3.10/dist-packages/openai/api_requestor.py\u001b[0m in \u001b[0;36mrequest\u001b[0;34m(self, method, url, params, headers, files, stream, request_id, request_timeout)\u001b[0m\n\u001b[1;32m    296\u001b[0m             \u001b[0mrequest_timeout\u001b[0m\u001b[0;34m=\u001b[0m\u001b[0mrequest_timeout\u001b[0m\u001b[0;34m,\u001b[0m\u001b[0;34m\u001b[0m\u001b[0;34m\u001b[0m\u001b[0m\n\u001b[1;32m    297\u001b[0m         )\n\u001b[0;32m--> 298\u001b[0;31m         \u001b[0mresp\u001b[0m\u001b[0;34m,\u001b[0m \u001b[0mgot_stream\u001b[0m \u001b[0;34m=\u001b[0m \u001b[0mself\u001b[0m\u001b[0;34m.\u001b[0m\u001b[0m_interpret_response\u001b[0m\u001b[0;34m(\u001b[0m\u001b[0mresult\u001b[0m\u001b[0;34m,\u001b[0m \u001b[0mstream\u001b[0m\u001b[0;34m)\u001b[0m\u001b[0;34m\u001b[0m\u001b[0;34m\u001b[0m\u001b[0m\n\u001b[0m\u001b[1;32m    299\u001b[0m         \u001b[0;32mreturn\u001b[0m \u001b[0mresp\u001b[0m\u001b[0;34m,\u001b[0m \u001b[0mgot_stream\u001b[0m\u001b[0;34m,\u001b[0m \u001b[0mself\u001b[0m\u001b[0;34m.\u001b[0m\u001b[0mapi_key\u001b[0m\u001b[0;34m\u001b[0m\u001b[0;34m\u001b[0m\u001b[0m\n\u001b[1;32m    300\u001b[0m \u001b[0;34m\u001b[0m\u001b[0m\n",
            "\u001b[0;32m/usr/local/lib/python3.10/dist-packages/openai/api_requestor.py\u001b[0m in \u001b[0;36m_interpret_response\u001b[0;34m(self, result, stream)\u001b[0m\n\u001b[1;32m    698\u001b[0m         \u001b[0;32melse\u001b[0m\u001b[0;34m:\u001b[0m\u001b[0;34m\u001b[0m\u001b[0;34m\u001b[0m\u001b[0m\n\u001b[1;32m    699\u001b[0m             return (\n\u001b[0;32m--> 700\u001b[0;31m                 self._interpret_response_line(\n\u001b[0m\u001b[1;32m    701\u001b[0m                     \u001b[0mresult\u001b[0m\u001b[0;34m.\u001b[0m\u001b[0mcontent\u001b[0m\u001b[0;34m.\u001b[0m\u001b[0mdecode\u001b[0m\u001b[0;34m(\u001b[0m\u001b[0;34m\"utf-8\"\u001b[0m\u001b[0;34m)\u001b[0m\u001b[0;34m,\u001b[0m\u001b[0;34m\u001b[0m\u001b[0;34m\u001b[0m\u001b[0m\n\u001b[1;32m    702\u001b[0m                     \u001b[0mresult\u001b[0m\u001b[0;34m.\u001b[0m\u001b[0mstatus_code\u001b[0m\u001b[0;34m,\u001b[0m\u001b[0;34m\u001b[0m\u001b[0;34m\u001b[0m\u001b[0m\n",
            "\u001b[0;32m/usr/local/lib/python3.10/dist-packages/openai/api_requestor.py\u001b[0m in \u001b[0;36m_interpret_response_line\u001b[0;34m(self, rbody, rcode, rheaders, stream)\u001b[0m\n\u001b[1;32m    761\u001b[0m         \u001b[0mstream_error\u001b[0m \u001b[0;34m=\u001b[0m \u001b[0mstream\u001b[0m \u001b[0;32mand\u001b[0m \u001b[0;34m\"error\"\u001b[0m \u001b[0;32min\u001b[0m \u001b[0mresp\u001b[0m\u001b[0;34m.\u001b[0m\u001b[0mdata\u001b[0m\u001b[0;34m\u001b[0m\u001b[0;34m\u001b[0m\u001b[0m\n\u001b[1;32m    762\u001b[0m         \u001b[0;32mif\u001b[0m \u001b[0mstream_error\u001b[0m \u001b[0;32mor\u001b[0m \u001b[0;32mnot\u001b[0m \u001b[0;36m200\u001b[0m \u001b[0;34m<=\u001b[0m \u001b[0mrcode\u001b[0m \u001b[0;34m<\u001b[0m \u001b[0;36m300\u001b[0m\u001b[0;34m:\u001b[0m\u001b[0;34m\u001b[0m\u001b[0;34m\u001b[0m\u001b[0m\n\u001b[0;32m--> 763\u001b[0;31m             raise self.handle_error_response(\n\u001b[0m\u001b[1;32m    764\u001b[0m                 \u001b[0mrbody\u001b[0m\u001b[0;34m,\u001b[0m \u001b[0mrcode\u001b[0m\u001b[0;34m,\u001b[0m \u001b[0mresp\u001b[0m\u001b[0;34m.\u001b[0m\u001b[0mdata\u001b[0m\u001b[0;34m,\u001b[0m \u001b[0mrheaders\u001b[0m\u001b[0;34m,\u001b[0m \u001b[0mstream_error\u001b[0m\u001b[0;34m=\u001b[0m\u001b[0mstream_error\u001b[0m\u001b[0;34m\u001b[0m\u001b[0;34m\u001b[0m\u001b[0m\n\u001b[1;32m    765\u001b[0m             )\n",
            "\u001b[0;31mInvalidRequestError\u001b[0m: Too many inputs. The max number of inputs is 1.  We hope to increase the number of inputs per request soon. Please contact us through an Azure support request at: https://go.microsoft.com/fwlink/?linkid=2213926 for further questions."
          ]
        }
      ],
      "source": [
        "doc_result = embeddings.embed_documents([docs[0].page_content])"
      ]
    },
    {
      "cell_type": "code",
      "execution_count": null,
      "metadata": {
        "id": "r5bt1YLsUMal"
      },
      "outputs": [],
      "source": [
        "doc_embeddings = embeddings.embed_documents([text])"
      ]
    },
    {
      "cell_type": "code",
      "execution_count": null,
      "metadata": {
        "colab": {
          "base_uri": "https://localhost:8080/"
        },
        "id": "FhERk86Q-uSu",
        "outputId": "7ecb27ff-d5c8-46cd-8410-b1161c5821a5"
      },
      "outputs": [
        {
          "name": "stdout",
          "output_type": "stream",
          "text": [
            "The Black Americans in the United States have faced many unique issues. One of the matters that have prevailed in many years is that of crime with violence. Essentially, this has not only been an issue in the United States but has also been a prominent problem in South Africa. On reflection, criminal violence has been the worst problem that the two countries have faced in the last two decades. The number of firearms available in the Black American market was exceedingly high. It is evident that the rate of acquisition of weapons among the black American community is the largest factor that causes the huge crime rate. In the early part of the 1980’s, most of the crimes charged for were related to the use of firearms (Bennett and Fraser 94). Surprisingly, 46% of the number of murders that were committed during this period were as a result of the use of fire weapons. Instead of the problem being dealt with, the percentage of these deaths increased up to seventy one (Bennett and Fraser 95). Considerably, this exceeds the number of homicides that were reported by whites by 17% (Bennett and Fraser 95). The increase in this number of cases can be largely attributed to the high increase of weapons available in the black market in most parts of Southern America. Therefore, it is due to the poor monitoring of the illegal sales of arms that the number of homicides increased.\n",
            "The rate of violence in the Black American communities was exceedingly high. When compared to other countries, the number of violence cases in the United States among the Black Americans was surprisingly superior. For instance, it exceeded the number of those in both Germany and France by twenty-eight times (Bennett and Fraser 92). Astonishingly, these crimes were reported to be committed by members of the population aged between fifteen and twenty four years (Bennett and Fraser 92). Additionally, in all the arrests made for these crimes, a percentage of twenty had a participant who was eighteen years and below (Bennett and Fraser 92). These statistics means that, practically, a fifth of the violent crimes in the United States involved an underage Black American citizen. In 1995, the count of violence cases in the United States by Black Americans was ten times more than that in Canada (Bennett and Fraser 92). Clearly, this is a very huge difference considering that the two countries neighbor one another. That shows that the number of crimes carried out by the Black American population was tremendous. The high crime rate among Black Americans mostly targeted the young male populace in the United States. In 1990, most of homicidal cases were discovered to target Black American males by the Centers for Disease Control (CDC) (Bennett and Fraser 94). For every 27 men, one was likely to become a victim of homicide (95). Additionally, the highest number of these cases involved men between the ages of fifteen and twenty-four years. The number of crime victims within this age was around one hundred and thirty two out of one hundred thousand youths (Bennett and Fraser 95). Among these crimes, most of them ended up in deaths and fatal or permanent injuries. It is important to mention that these crimes were mostly gang-related (Bennett and Fraser 95). Therefore, this suggests that a majority of the crimes were due to cases of drug smuggling, robbery, gang fights, and issues involving initiation into the particular gangs as male youth are the highest targets for criminal gangs. The rate of criminal violence in South Africa is also very high. Similar to the black American society, South Africa was among the top countries worldwide in terms of violent crimes. In the later part of the 1990’s, South Africa had a murder record of sixty out of every one hundred thousand people (CSVR3). Although the numbers decreased in the period between 2008 and 2009 up to thirty nine per one hundred thousand people, it still was very high if compared to other nations. Additionally, robbery by violence was another act of violent crime that was very prominent in the country (CSVR3). In the year 2000, South Africa recorded the highest number of car robberies in the world (CSVR3): 87% of these robberies were done at gun point. Similar to the Black Americans, violent crime was very prominent in South Africa. The number of firearms among the citizens in South Africa was high. The white populace in South Africa was allowed to own guns. In the 1990s there were a lot of conflicts between the White South Africans and the indigenous population in the country (CSVR4). This saw to it that ownership of guns by the whites for purposes of self-protection was legalized. Consequently, this saw to it that the circulation of guns in South Africa was doubled. These guns were also given to the black allies in order to help support the apartheid rule (CSVR4). The illegal acquisition of arms in the black market also multiplied during this period as whites who had the ability to own guns sold them to criminal mobs in the country (CSVR6). This is very similar to the situation in the black American population as in both cases guns were the weapon that was used in most of the robbery and murder cases. For instance, in 2000, guns were the main weapons used to rob cars in South Africa making it the region with the highest number of car robberies. Discrimination was a large factor that led to the high crime levels. In South Africa, there was a lot of colonial oppression in the 1980’s and 1990’s (CSVR5). The colonists residing in the country did not offer important job opportunities to the black populace in the country. Unfortunately, this caused poverty among the indigenous Africans, later resorting to indulgence in other means of earning; theft (CSVR5). Many criminal gangs were formed and they antagonized the well-off occupants of the country. On reflection, this situation was very similar to that of the Black Americans. In the 1990’s, most of the Black Americans were not employed in the lucrative jobs in the United States (Bennett and Fraser 100). This discrimination resorted in violent crime in both countries. There were some measures that could have been taken be to solve the crisis in these areas. One of the measures would have been to provide cheap or free health care and education to the areas that were most affected by poverty. This would have reduced the living cost for the black American community and the people of South Africa, and thus, improving their living standards and reducing the number of robbery cases. Additionally, the governments of both regions would have done regular expeditions in search of weapons owned without a license. Another remedy would be to eradicate the criminal groups in the United States and South Africa as that would reduce cases of crime and the number of youths being initiated into the security in urban centers where most of these crimes took place. With these measures in place, the rate of violent crimes would not have been so imminent on the Black Americans and South Africans. Considerably, the surge of criminal violence has been the worst problem that has been faced by the Black Americans and in South Africa. This is evident from the tremendous number of murders and violent crimes that occurred in South Africa and United States due to the pilferage of firearms.\n",
            "Works Cited Bennett, Daniel, and Mark W. Fraser. “Urban Violence among African American Males: Integrating Family, Neighborhood, and Peer Perspectives.” The Journal of Sociology & Social Welfare, vol. 27, no. 3, ser. 7, Sept. 2000, pp. 93–117. 7, scholarworks.wmich.edu/cgi/viewcontent.cgi?referer=&httpsredir=1&referer=https://www.googl e.com&httpsredir=1&article=2666&context=jssw. CSVR. Why Does South Africa Have Such High Rates of Violent Crime?, 7 Apr. 2009, www.csvr.org.za/docs/study/7.unique_about_SA.pdf.\n",
            "\n",
            "Crime with Violence in USA and SA.docx\n"
          ]
        }
      ],
      "source": [
        "#document= Document(page_content)\n",
        "page_content = docs[0].page_content\n",
        "\n",
        "file_path = docs[0].metadata['metadata_storage_name']\n",
        "print(page_content)\n",
        "print(file_path)"
      ]
    },
    {
      "cell_type": "code",
      "execution_count": null,
      "metadata": {
        "id": "AfHm5oiWCuJZ"
      },
      "outputs": [],
      "source": [
        "import os\n"
      ]
    },
    {
      "cell_type": "code",
      "execution_count": null,
      "metadata": {
        "colab": {
          "base_uri": "https://localhost:8080/",
          "height": 70
        },
        "id": "TAbzMFYPCN_z",
        "outputId": "271f49dc-3dac-487e-e9ce-1defd9dd4acc"
      },
      "outputs": [
        {
          "name": "stderr",
          "output_type": "stream",
          "text": [
            "WARNING:langchain.chat_models.openai:Warning: model not found. Using cl100k_base encoding.\n"
          ]
        },
        {
          "data": {
            "application/vnd.google.colaboratory.intrinsic+json": {
              "type": "string"
            },
            "text/plain": [
              "'Dominic Guzman is an analyst in the finance department of a manufacturing company. He is a male of Latino ethnicity. He has been with the company since May 16, 2004, and his salary is $55,499. He is based in Manaus, Brazil.'"
            ]
          },
          "execution_count": 26,
          "metadata": {},
          "output_type": "execute_result"
        }
      ],
      "source": [
        "\n",
        "from langchain.chat_models import AzureChatOpenAI\n",
        "from langchain.chains import RetrievalQAWithSourcesChain\n",
        "\n",
        "qa = RetrievalQA.from_chain_type(AzureChatOpenAI(deployment_name=\"testgptturbo\",model_name=\"gpt-35-turbo-16k\", temperature=0, max_tokens=3000), chain_type=\"map_reduce\", retriever=retriever)\n",
        "\n",
        "qa.run(query)\n",
        "\n",
        "\n"
      ]
    },
    {
      "cell_type": "code",
      "execution_count": null,
      "metadata": {
        "colab": {
          "base_uri": "https://localhost:8080/"
        },
        "id": "zPgF-tOjMJY3",
        "outputId": "69798122-79fb-4fd3-e0b5-9f451bf8e8d4"
      },
      "outputs": [
        {
          "name": "stdout",
          "output_type": "stream",
          "text": [
            "Answer: I'm sorry, I need more context to provide an accurate response. Can you please provide more information about who Dominic Guzman is or what you would like to know about him?\n"
          ]
        }
      ],
      "source": [
        "import openai\n",
        "\n",
        "response = openai.ChatCompletion.create(\n",
        "  engine=\"test1\",\n",
        "  messages = [{\"role\":\"system\",\"content\":\"You are an AI assistant that helps people find information. Limit tokens to 2000.\"},{\"role\": \"user\", \"content\": query}],\n",
        "  temperature=0,\n",
        "  max_tokens=800,\n",
        "  top_p=1,\n",
        "  frequency_penalty=0,\n",
        "  presence_penalty=0,\n",
        "  stop=None)\n",
        "\n",
        "answer = response.choices[0].message.content\n",
        "print(\"Answer:\", answer)"
      ]
    }
  ],
  "metadata": {
    "colab": {
      "provenance": []
    },
    "kernelspec": {
      "display_name": "Python 3",
      "name": "python3"
    },
    "language_info": {
      "name": "python"
    }
  },
  "nbformat": 4,
  "nbformat_minor": 0
}
