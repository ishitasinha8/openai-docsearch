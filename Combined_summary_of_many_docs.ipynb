{
  "cells": [
    {
      "cell_type": "code",
      "execution_count": null,
      "metadata": {
        "colab": {
          "base_uri": "https://localhost:8080/"
        },
        "id": "CrAZW52pfIdC",
        "outputId": "2fe6d833-7090-452e-a864-d657d73f1c4a"
      },
      "outputs": [
        {
          "name": "stdout",
          "output_type": "stream",
          "text": [
            "\u001b[2K     \u001b[90m━━━━━━━━━━━━━━━━━━━━━━━━━━━━━━━━━━━━━━━━\u001b[0m \u001b[32m73.6/73.6 kB\u001b[0m \u001b[31m5.9 MB/s\u001b[0m eta \u001b[36m0:00:00\u001b[0m\n",
            "\u001b[?25hCollecting azure-storage-blob\n",
            "  Downloading azure_storage_blob-12.17.0-py3-none-any.whl (388 kB)\n",
            "\u001b[2K     \u001b[90m━━━━━━━━━━━━━━━━━━━━━━━━━━━━━━━━━━━━━━\u001b[0m \u001b[32m388.0/388.0 kB\u001b[0m \u001b[31m16.7 MB/s\u001b[0m eta \u001b[36m0:00:00\u001b[0m\n",
            "\u001b[?25h"
          ]
        }
      ],
      "source": [
        "!pip install openai -q\n",
        "!pip install azure-storage-blob\n",
        "!pip install langchain\n",
        "!pip install tiktoken\n",
        "!pip install unstructured"
      ]
    },
    {
      "cell_type": "code",
      "execution_count": null,
      "metadata": {
        "id": "wmy21aYhcifm"
      },
      "outputs": [],
      "source": [
        "import openai\n",
        "from langchain.document_loaders import AzureBlobStorageContainerLoader\n",
        "import numpy as np\n",
        "import os"
      ]
    },
    {
      "cell_type": "code",
      "execution_count": null,
      "metadata": {
        "id": "wX6v3SLNlgXY"
      },
      "outputs": [],
      "source": [
        "openai.api_key = \"\"\n",
        "openai.api_base = \"https://testnew.openai.azure.com/\" # your endpoint should look like the following https://YOUR_RESOURCE_NAME.openai.azure.com/\n",
        "openai.api_type = 'azure'\n",
        "openai.api_version = '2022-12-01' # this may change in the future\n",
        "\n",
        "deployment_name = 'ishita-davinci-test-3'"
      ]
    },
    {
      "cell_type": "code",
      "execution_count": null,
      "metadata": {
        "colab": {
          "base_uri": "https://localhost:8080/"
        },
        "id": "UYWeM4fTnHwj",
        "outputId": "0bd9d808-c6a3-433a-9489-43e5c715a952"
      },
      "outputs": [
        {
          "name": "stdout",
          "output_type": "stream",
          "text": [
            "Sending a test completion job\n",
            "Write a tagline for an ice cream shop. \"The Coolest Treat in Town!\"\n"
          ]
        }
      ],
      "source": [
        "print('Sending a test completion job')\n",
        "start_phrase = 'Write a tagline for an ice cream shop. '\n",
        "response = openai.Completion.create(engine=deployment_name, prompt=start_phrase, max_tokens=10)\n",
        "text = response['choices'][0]['text'].replace('\\n', '').replace(' .', '.').strip()\n",
        "print(start_phrase+text)"
      ]
    },
    {
      "cell_type": "code",
      "execution_count": null,
      "metadata": {
        "colab": {
          "base_uri": "https://localhost:8080/",
          "height": 243
        },
        "id": "eLfFJ-SscOUI",
        "outputId": "decfd420-b91d-4208-ff1e-bfbb14ea3c05"
      },
      "outputs": [
        {
          "name": "stderr",
          "output_type": "stream",
          "text": [
            "[nltk_data] Downloading package punkt to /root/nltk_data...\n",
            "[nltk_data]   Unzipping tokenizers/punkt.zip.\n",
            "[nltk_data] Downloading package averaged_perceptron_tagger to\n",
            "[nltk_data]     /root/nltk_data...\n",
            "[nltk_data]   Unzipping taggers/averaged_perceptron_tagger.zip.\n"
          ]
        },
        {
          "name": "stdout",
          "output_type": "stream",
          "text": [
            "You have 4 documents in your data\n"
          ]
        },
        {
          "data": {
            "application/vnd.google.colaboratory.intrinsic+json": {
              "type": "string"
            },
            "text/plain": [
              "'    Status Timefra me:\\n    10-Jul-2023 to 16-Jul-2023\\n    Status Submitted on:\\n    11-Jul-2023\\n    Submitted Ev\\n    Sareun Maur\\n\\nAll dates are as per the preferred tuliezone (TJTC-05-100)\\n\\nProject name\\n\\nSRN\\': BofA GBAM - Quartz Migration_C .6908326161\\n\\nExecutive Status Summary\\nStatus AMBER as on 10th July 2023.\\n\\nTotal Quartz release progress is at 89%\\n\\nMilestones re-baselined to Mid Aug - dueto platform carp incidents (Azcopy, DNS etc) - Overall status continuesto be Amber till the positive validation of defect remediations and workarounds; ETA 5/30\\n\\nBegan scale testing for data free pilot on a 10k node grid\\n\\nExecutive Summary:\\n\\nThe key priority of this project is to provide Bank of America v.17h a delivery team focused on the build out of the Azure infrastructure components required :c hos: Quartz and to help scale the Azure infrastructure to meet Quartz\\'s scale requirements.\\n\\nInitial scope areas are:\\n\\nAssist with finalizing the overall Architecture of Quartz Framework in Azure and identify all the subsystems necessary to build out a complete environment.\\n\\nConduct a series of Proof of Concepts (PoCs)to build, evaluate and finalize the design options for each subsystem.\\n\\nAssist with creation of a Minimal Viable Product (MVP) of Quartz manually, before any automation is done to prove and validate the concept.\\n\\nAssist with base configuration for VM\\'s and other Azure resources\\n\\nAssist with subscription design, VLAN Design, Subnet Design\\n\\n5. Assist with networking and establish network paths for egress/ingress and connectivity to other BoA data centers (using Fast path)\\n\\nAssist with baseline security control identification and implementation for a Secure by Default) posture\\n\\nAssist with implementing mutually agreed Observability Controls, Backup, DR and Resiliency features\\n\\nIdentify the minimal set of Compliance Controls that need to be implemented for Quartz\\n\\nAssist with compliance as code on minimal set of controls we need to implement for MVP\\n\\nDesign and develop automation code for Quartz Provisioning/Deprovisioning and Management using Terraform and RestAPIs (where necessary).\\n\\nAssist with integrating the automation with BoA\\'s CLOUD BRIDGE implementation.\\n\\nAssist with testing Quartz for functional requirement and non-functional requirements at scale.\\n\\nWork completed last period:\\n\\n1. Define and deploy N5G\\'s on new corp subscriptions - 1343 & 1439 - completed.\\n\\n2. Load balancer template changes on quartz for subnets other than compute 1400- awaiting testing confirmation on corp2 (corp2 handover ETA 6115)\\n\\n3. Serial console is not supported when storage a cc has firewall enabled - CRPE-2507 - still not resolved\\n\\n4. Scaleset automation and testing -\\n\\nUpdated script to verify vmss is SSHable.\\n\\nAdding functionality in test script to create summary report\\n\\nOngoing testing of Flex SS and coordination with CB\\n\\n5. Repave approach and config script-work sessions with Gops+ Robert to formalize implementation and inventory of resources 1. Plan to create a \\'backup\\' VMSS in alternate A2 to combat failures and scale up\\n\\n6. Complete janitor process for mow log cleanup and container images\\n\\nPost D1\\n\\n1. KV (Secrets to Certs) - Begun looking at Post Dayl code impact analysis for using certs instead of secrets Work planned for upcoming period:\\n\\n1. Continue to validate corp setup/validations\\n\\n2. Update confluence for D1 design elements  0.ZPlatiorm-395 - Ongoing\\n\\n3. Continue progress on repave approach and scripting\\n\\n4. Review Post Dl backlog\\n\\nKey Risks/Issues/Watch Items:\\n\\n[I-2875] AZ Copy failures (503 error)-Triage in progress. Compared python sdk vs azcopy sync vs azure functions. Recommended az copy sync with deletes written in python for 01.\\n\\n[R-2875] Serial console access- \\'VMAccessForLinuf has been added to approved list; tested reset password is working for sample resource but not for \"rg-eus2-d-gis-test-001\\'; waitinf for the release to retest and remediate.\\n\\n[1-2877] VMSS concerns (deletion, resizing, registration with CM DB, WA agent)\\n\\n[W-2741] NSG rules aligned at VM level instead at subnet level. Not D1 critical - converted to D2 watch item.\\n\\n[W-2911] DNS concerns for quartz on Azure - ECP clips team created playbook to manually update DNS registration as workaround. Plant to leverage blue ct cloud resolver for real time DNS discovery across any CSP.\\n\\nConsolidated Project Financial Summary\\t\\n\\n                        Contract Amounts    Actual Amounts    Est. To Complete\\nLabor Revenue (USD)     3,755,700.00        3,006,345.95      785,595.00\\nExpense Revenue  (USD)  200,100.00          51,144.60         150,491.52\\nHours                   10,759.00           8,624.77          2,285.50    Status Timefra me:\\n    17-Jul-2023 to 23-Jul-2023\\n    Status Submitted on:\\n    18-Jul-2023\\n    Submitted Ev\\n    Sareun Maur\\n\\nAll dates are as per the preferred tuliezone (TJTC-05-100)\\n\\nProject name\\n\\nSRN\\': BofA GBAM - Quartz Migration_C .6908326161\\n\\nExecutive Status Summary\\nStatus AMBER as on 18th July 2023.\\n\\nTotal Quartz release progress is at 91%\\n\\nMilestones re-baselined to Mid Aug - dueto platform carp incidents (Azcopy, DNS etc) - Overall status continuesto be Amber till the positive validation of defect remediations and workarounds; ETA 5/30\\n\\nBegan scale testing for data free pilot on a 10k node grid\\n\\nExecutive Summary:\\n\\nThe key priority of this project is to provide Bank of America v.17h a delivery team focused on the build out of the Azure infrastructure components required :c hos: Quartz and to help scale the Azure infrastructure to meet Quartz\\'s scale requirements.\\n\\nInitial scope areas are:\\n\\nAssist with finalizing the overall Architecture of Quartz Framework in Azure and identify all the subsystems necessary to build out a complete environment.\\n\\nConduct a series of Proof of Concepts (PoCs)to build, evaluate and finalize the design options for each subsystem.\\n\\nAssist with creation of a Minimal Viable Product (MVP) of Quartz manually, before any automation is done to prove and validate the concept.\\n\\nAssist with base configuration for VM\\'s and other Azure resources\\n\\nAssist with subscription design, VLAN Design, Subnet Design\\n\\n5. Assist with networking and establish network paths for egress/ingress and connectivity to other BoA data centers (using Fast path)\\n\\nAssist with baseline security control identification and implementation for a Secure by Default) posture\\n\\nAssist with implementing mutually agreed Observability Controls, Backup, DR and Resiliency features\\n\\nIdentify the minimal set of Compliance Controls that need to be implemented for Quartz\\n\\nAssist with compliance as code on minimal set of controls we need to implement for MVP\\n\\nDesign and develop automation code for Quartz Provisioning/Deprovisioning and Management using Terraform and RestAPIs (where necessary).\\n\\nAssist with integrating the automation with BoA\\'s CLOUD BRIDGE implementation.\\n\\nAssist with testing Quartz for functional requirement and non-functional requirements at scale.\\n\\nWork completed last period:\\n\\n1. Define and deploy N5G\\'s on new corp subscriptions - 1343 & 1439 - completed.\\n\\n2. Load balancer template changes on quartz for subnets other than compute 1400- testing confirmation on corp2 completed (corp2 handover ETA 6115)\\n\\n3. Serial console is not supported when storage a cc has firewall enabled - CRPE-2507 - is now resolved\\n\\n4. Scaleset automation and testing -\\n\\nUpdated script to verify vmss is SSHable.\\n\\nAdding functionality in test script to create summary report\\n\\nOngoing testing of Flex SS and coordination with CB\\n\\n5. Repave approach and config script-work sessions with Gops+ Robert to formalize implementation and inventory of resources 1. Plan to create a \\'backup\\' VMSS in alternate A2 to combat failures and scale up\\n\\n6. Complete janitor process for mow log cleanup and container images\\n\\n7. Work completed on corp setup/validations\\n\\n8. Updated confluence for D1 design elements  0.ZPlatiorm-395\\n\\nPost D1\\n\\n1. KV (Secrets to Certs) - Begun looking at Post Dayl code impact analysis for using certs instead of secrets Work planned for upcoming period:\\n\\n1. Continue progress on repave approach and scripting\\n\\n2. Review Post Dl backlog\\n\\nKey Risks/Issues/Watch Items:\\n\\n[I-2875] AZ Copy failures (503 error)-Triage in progress. Compared python sdk vs azcopy sync vs azure functions. Recommended az copy sync with deletes written in python for 01.\\n\\n[R-2875] Serial console access- \\'VMAccessForLinuf has been added to approved list; tested reset password is working for sample resource but not for \"rg-eus2-d-gis-test-001\\'; waitinf for the release to retest and remediate.\\n\\n[1-2877] VMSS concerns (deletion, resizing, registration with CM DB, WA agent)\\n\\n[W-2741] NSG rules aligned at VM level instead at subnet level. Not D1 critical - converted to D2 watch item.\\n\\n[W-2911] DNS concerns for quartz on Azure - ECP clips team created playbook to manually update DNS registration as workaround. Plant to leverage blue ct cloud resolver for real time DNS discovery across any CSP.\\n\\nConsolidated Project Financial Summary\\n\\n                        Contract Amounts    Actual Amounts    Est. To Complete\\nLabor Revenue (USD)     3,755,700.00        3,026,345.95      783,595.00\\nExpense Revenue  (USD)  200,100.00          61,144.60         140,491.52\\nHours                   10,759.00           8,724.77          2,185.50    Status Timefra me:\\n    24-Jul-2023 to 30-Jul-2023\\n    Status Submitted on:\\n    25-Jul-2023\\n    Submitted Ev\\n    Sareun Maur\\n\\nAll dates are as per the preferred tuliezone (TJTC-05-100)\\n\\nProject name\\n\\nSRN\\': BofA GBAM - Quartz Migration_C .6908326161\\n\\nExecutive Status Summary\\nStatus AMBER as on 10th July 2023.\\n\\nTotal Quartz release progress is at 94%\\n\\nMilestones re-baselined to Mid Aug - dueto platform carp incidents (Azcopy, DNS etc) - Overall status continues to be Amber till the positive validation of defect remediations and workarounds; ETA 5/30\\n\\nBegan scale testing for data free pilot on a 10k node grid\\n\\nExecutive Summary:\\n\\nThe key priority of this project is to provide Bank of America v.17h a delivery team focused on the build out of the Azure infrastructure components required :c hos: Quartz and to help scale the Azure infrastructure to meet Quartz\\'s scale requirements.\\n\\nInitial scope areas are:\\n\\nAssist with finalizing the overall Architecture of Quartz Framework in Azure and identify all the subsystems necessary to build out a complete environment.\\n\\nConduct a series of Proof of Concepts (PoCs)to build, evaluate and finalize the design options for each subsystem.\\n\\nAssist with creation of a Minimal Viable Product (MVP) of Quartz manually, before any automation is done to prove and validate the concept.\\n\\nAssist with base configuration for VM\\'s and other Azure resources\\n\\nAssist with subscription design, VLAN Design, Subnet Design\\n\\n5. Assist with networking and establish network paths for egress/ingress and connectivity to other BoA data centers (using Fast path)\\n\\nAssist with baseline security control identification and implementation for a Secure by Default) posture\\n\\nAssist with implementing mutually agreed Observability Controls, Backup, DR and Resiliency features\\n\\nIdentify the minimal set of Compliance Controls that need to be implemented for Quartz\\n\\nAssist with compliance as code on minimal set of controls we need to implement for MVP\\n\\nDesign and develop automation code for Quartz Provisioning/Deprovisioning and Management using Terraform and RestAPIs (where necessary).\\n\\nAssist with integrating the automation with BoA\\'s CLOUD BRIDGE implementation.\\n\\nAssist with testing Quartz for functional requirement and non-functional requirements at scale.\\n\\nWork completed last period:\\n\\n1. Define and deploy N5G\\'s on new corp subscriptions - 1343 & 1439 - completed.\\n\\n2. Load balancer template changes on quartz for subnets other than compute 1400- awaiting testing confirmation on corp2 (corp2 handover ETA 6115)\\n\\n3. Serial console is not supported when storage a cc has firewall enabled - CRPE-2507 - still not resolved\\n\\n4. Scaleset automation and testing -\\n\\nUpdated script to verify vmss is SSHable.\\n\\nAdding functionality in test script to create summary report\\n\\nOngoing testing of Flex SS and coordination with CB\\n\\n5. Repave approach and config script-work sessions with Gops+ Robert to formalize implementation and inventory of resources 1. Plan to create a \\'backup\\' VMSS in alternate A2 to combat failures and scale up\\n\\n6. Complete janitor process for mow log cleanup and container images\\n\\n7. Work completed on corp setup/validations\\n\\n8. Updated confluence for D1 design elements  0.ZPlatiorm-395\\n\\n9. Progress on repave approach and scripting\\n\\n10. AZ Copy failures resolved\\n\\nPost D1\\n\\n1. KV (Secrets to Certs) - Begun looking at Post Dayl code impact analysis for using certs instead of secrets Work planned for upcoming period:\\n\\n1. Review Post Dl backlog\\n\\nKey Risks/Issues/Watch Items:\\n\\n[R-2875] Serial console access- \\'VMAccessForLinuf has been added to approved list; tested reset password is working for sample resource but not for \"rg-eus2-d-gis-test-001\\'; waitinf for the release to retest and remediate.\\n\\n[1-2877] VMSS concerns (deletion, resizing, registration with CM DB, WA agent)\\n\\n[W-2741] NSG rules aligned at VM level instead at subnet level. Not D1 critical - converted to D2 watch item.\\n\\n[W-2911] DNS concerns for quartz on Azure - ECP clips team created playbook to manually update DNS registration as workaround. Plant to leverage blue ct cloud resolver for real time DNS discovery across any CSP.\\n\\nConsolidated Project Financial Summary\\t\\n\\n                        Contract Amounts    Actual Amounts    Est. To Complete\\nLabor Revenue (USD)     3,755,700.00        3,036,345.95      782,595.00\\nExpense Revenue  (USD)  200,100.00          71,144.60         130,491.52\\nHours                   10,759.00           8,824.77          2,085.50    Status Timefra me:\\n    31-Jul-2023 to 6-Aug-2023\\n    Status Submitted on:\\n    1-Aug-2023\\n    Submitted Ev\\n    Sareun Maur\\n\\nAll dates are as per the preferred tuliezone (TJTC-05-100)\\n\\nProject name\\n\\nSRN\\': BofA GBAM - Quartz Migration_C .6908326161\\n\\nExecutive Status Summary\\nStatus AMBER as on 1st Aug 2023.\\n\\nTotal Quartz release progress is at 95%\\n\\nMilestones re-baselined to Mid Aug - dueto platform carp incidents (Azcopy, DNS etc) - Overall status continues to be Amber till the positive validation of defect remediations and workarounds; ETA 5/30\\n\\nBegan scale testing for data free pilot on a 10k node grid\\n\\nExecutive Summary:\\n\\nThe key priority of this project is to provide Bank of America v.17h a delivery team focused on the build out of the Azure infrastructure components required :c hos: Quartz and to help scale the Azure infrastructure to meet Quartz\\'s scale requirements.\\n\\nInitial scope areas are:\\n\\nAssist with finalizing the overall Architecture of Quartz Framework in Azure and identify all the subsystems necessary to build out a complete environment.\\n\\nConduct a series of Proof of Concepts (PoCs)to build, evaluate and finalize the design options for each subsystem.\\n\\nAssist with creation of a Minimal Viable Product (MVP) of Quartz manually, before any automation is done to prove and validate the concept.\\n\\nAssist with base configuration for VM\\'s and other Azure resources\\n\\nAssist with subscription design, VLAN Design, Subnet Design\\n\\n5. Assist with networking and establish network paths for egress/ingress and connectivity to other BoA data centers (using Fast path)\\n\\nAssist with baseline security control identification and implementation for a Secure by Default) posture\\n\\nAssist with implementing mutually agreed Observability Controls, Backup, DR and Resiliency features\\n\\nIdentify the minimal set of Compliance Controls that need to be implemented for Quartz\\n\\nAssist with compliance as code on minimal set of controls we need to implement for MVP\\n\\nDesign and develop automation code for Quartz Provisioning/Deprovisioning and Management using Terraform and RestAPIs (where necessary).\\n\\nAssist with integrating the automation with BoA\\'s CLOUD BRIDGE implementation.\\n\\nAssist with testing Quartz for functional requirement and non-functional requirements at scale.\\n\\nWork completed last period:\\n\\n1. Define and deploy N5G\\'s on new corp subscriptions - 1343 & 1439 - completed.\\n\\n2. Load balancer template changes on quartz for subnets other than compute 1400- awaiting testing confirmation on corp2 (corp2 handover ETA 6115)\\n\\n3. Serial console is not supported when storage a cc has firewall enabled - CRPE-2507 is resolved\\n\\n4. Scaleset automation and testing -\\n\\nUpdated script to verify vmss is SSHable.\\n\\nAdding functionality in test script to create summary report\\n\\nOngoing testing of Flex SS and coordination with CB\\n\\n5. Repave approach and config script-work sessions with Gops+ Robert to formalize implementation and inventory of resources 1. Plan to create a \\'backup\\' VMSS in alternate A2 to combat failures and scale up\\n\\n6. Complete janitor process for mow log cleanup and container images\\n\\n7. Work completed on corp setup/validations\\n\\n8. Updated confluence for D1 design elements  0.ZPlatiorm-395\\n\\n9. Progress on repave approach and scripting\\n\\n10. AZ Copy failures resolved\\n\\n11. [R-2875] Serial console access- \\'VMAccessForLinuf has been added to approved list; tested reset password is working for sample resource and also for \"rg-eus2-d-gis-test-001\\'\\n\\nPost D1\\n\\n1. KV (Secrets to Certs) - Begun looking at Post Dayl code impact analysis for using certs instead of secrets Work planned for upcoming period:\\n\\n1. Review Post Dl backlog\\n\\nKey Risks/Issues/Watch Items:\\n\\n[1-2877] VMSS concerns (deletion, resizing, registration with CM DB, WA agent)\\n\\n[W-2741] NSG rules aligned at VM level instead at subnet level. Not D1 critical - converted to D2 watch item.\\n\\n[W-2911] DNS concerns for quartz on Azure - ECP clips team created playbook to manually update DNS registration as workaround. Plant to leverage blue ct cloud resolver for real time DNS discovery across any CSP.\\n\\nConsolidated Project Financial Summary\\t\\n\\n                        Contract Amounts    Actual Amounts    Est. To Complete\\nLabor Revenue (USD)     3,755,700.00        3,037,345.95      781,595.00\\nExpense Revenue  (USD)  200,100.00          71,144.60         130,491.52\\nHours                   10,759.00           8,924.77          1,985.50'"
            ]
          },
          "execution_count": 4,
          "metadata": {},
          "output_type": "execute_result"
        }
      ],
      "source": [
        "loaders = AzureBlobStorageContainerLoader(conn_str=\"DefaultEndpointsProtocol=https;AccountName=openaiblob1\",container=\"statusreport\")\n",
        "documents = loaders.load()\n",
        "print(f'You have {len(documents)} documents in your data')\n",
        "\n",
        "text_to_summarize2=''\n",
        "for doc in documents:\n",
        "  text_to_summarize2 += doc.page_content\n",
        "text_to_summarize2"
      ]
    },
    {
      "cell_type": "code",
      "execution_count": null,
      "metadata": {
        "colab": {
          "base_uri": "https://localhost:8080/"
        },
        "id": "JDm_n9w3xR2M",
        "outputId": "f56ed23f-9889-4a8c-99e0-9bbdbb8bccd3"
      },
      "outputs": [
        {
          "name": "stdout",
          "output_type": "stream",
          "text": [
            "2944\n",
            "2 1472\n"
          ]
        }
      ],
      "source": [
        "import math\n",
        "\n",
        "words = text_to_summarize2.split(\" \")\n",
        "print(len(words))\n",
        "split_len = len(words)//2500 + 1\n",
        "chunks = np.array_split(words, split_len)\n",
        "print(len(chunks), len(chunks[0]))"
      ]
    },
    {
      "cell_type": "code",
      "execution_count": null,
      "metadata": {
        "colab": {
          "base_uri": "https://localhost:8080/"
        },
        "id": "n3jJnHbmxZUZ",
        "outputId": "8761b44c-ffe9-414c-fb49-eb469c00485a"
      },
      "outputs": [
        {
          "name": "stdout",
          "output_type": "stream",
          "text": [
            "160\n"
          ]
        }
      ],
      "source": [
        "count=0\n",
        "def recursive_summarize(text_to_summarize, target_word_count=500):\n",
        "    words = text_to_summarize.split(\" \")\n",
        "    split_len = len(words)//2500 + 1\n",
        "    chunks = np.array_split(words, split_len)\n",
        "    #chunks = np.array_split(words, 1)\n",
        "    summary_responses = []\n",
        "    full_summary = \"\"\n",
        "\n",
        "    for chunk in chunks:\n",
        "        sentences = ' '.join(list(chunk))\n",
        "        prompt = f\"Below are three weekly status reports for Project name. Extract the key project completion trends, key changes between each, Project Financial Summary: #Start of Report{sentences}#End of Report\"\n",
        "        response = openai.Completion.create(\n",
        "            engine=deployment_name,\n",
        "            prompt=prompt,\n",
        "            temperature=0.3,\n",
        "            max_tokens=150,\n",
        "            top_p=1,\n",
        "            frequency_penalty=0,\n",
        "            presence_penalty=1\n",
        "        )\n",
        "\n",
        "        response_text = response[\"choices\"][0][\"text\"]\n",
        "        summary_responses.append(response_text+'\\n\\n')\n",
        "\n",
        "    full_summary = \"\".join(summary_responses)\n",
        "    word_count = len(full_summary.split())\n",
        "    print(word_count)\n",
        "    if word_count > target_word_count:\n",
        "    #     print(++count)\n",
        "        return recursive_summarize(full_summary, target_word_count)\n",
        "\n",
        "    return full_summary\n",
        "\n",
        "#Summary of each doc\n",
        "#no_of_docs = len(text_to_summarize2)\n",
        "#final_summary = []\n",
        "#for i in range(no_of_docs):\n",
        "  # initial_text_to_summarize = text_to_summarize2\n",
        "  # final_summary.append(recursive_summarize(initial_text_to_summarize, target_word_count=50))\n",
        "\n",
        "# Example usage\n",
        "initial_text_to_summarize = text_to_summarize2\n",
        "final_summary = recursive_summarize(initial_text_to_summarize, target_word_count=500)"
      ]
    },
    {
      "cell_type": "markdown",
      "metadata": {
        "id": "L2MP_qZmVlus"
      },
      "source": [
        "### YE CORRECT HAI"
      ]
    },
    {
      "cell_type": "code",
      "execution_count": null,
      "metadata": {
        "colab": {
          "base_uri": "https://localhost:8080/"
        },
        "id": "jhGTOILsSMXU",
        "outputId": "e7b87f9a-a5b2-41ab-ebfe-6c9f0beb0f2f"
      },
      "outputs": [
        {
          "name": "stdout",
          "output_type": "stream",
          "text": [
            "You have 3 documents in your data\n",
            "SRV_ BofA GBAM - Quartz Migration_C.6908326161_11-Jul-2023 (1).docx\n",
            "SRV_ BofA GBAM - Quartz Migration_C.6908326161_11-Jul-2023 (2).docx\n",
            "SRV_ BofA GBAM - Quartz Migration_C.6908326161_11-Jul-2023 (3).docx\n",
            "\n",
            "\n",
            "All dates are as per the preferred tuliezone (TJTC-05-100)\n",
            "Project name\n",
            "SRN': BofA GBAM - Quartz Migration_C .6908326161\n",
            "\n",
            "Total Quartz release progress is at 89%\n",
            "Milestones re-baselined to Mid Aug - dueto platform carp incidents (Azcopy, DNS etc) - Overall status continuesto be Amber till the positive validation of defect remediations and workarounds; ETA 5/30\n",
            "Began scale testing for data free pilot on a 10k node grid\n",
            "Executive Summary:\n",
            "The key priority of this project is to provide Bank of America v.17h a delivery team focused on the build out of the Azure infrastructure components required :c hos: Quartz and to help scale the Azure infrastructure to meet Quartz's scale requirements.\n",
            "Initial scope areas are:\n",
            "Assist with finalizing the overall Architecture of Quartz Framework in Azure and identify all the subsystems necessary to build out a complete environment.\n",
            "Conduct a series of Proof of Concepts (PoCs)to build, evaluate and finalize the design options for each subsystem.\n",
            "Assist with creation of a Minimal Viable Product (MVP) of Quartz manually, before any automation is done to prove and validate the concept.\n",
            "Assist with base configuration for VM's and other Azure resources\n",
            "Assist with subscription design, VLAN Design, Subnet Design\n",
            "5. Assist with networking and establish network paths for egress/ingress and connectivity to other BoA data centers (using Fast path)\n",
            "Assist with baseline security control identification and implementation for a Secure by Default) posture\n",
            "Assist with implementing mutually agreed Observability Controls, Backup, DR and Resiliency features\n",
            "Identify the minimal set of Compliance Controls that need to be implemented for Quartz\n",
            "Assist with compliance as code on minimal set of controls we need to implement for MVP\n",
            "Design and develop automation code for Quartz Provisioning/Deprovisioning and Management using Terraform and RestAPIs (where necessary).\n",
            "Assist with integrating the automation with BoA's CLOUD BRIDGE implementation.\n",
            "Assist with testing Quartz for functional requirement and non-functional requirements at scale.\n",
            "Work completed last period:\n",
            "1. Define and deploy N5G's on new corp subscriptions - 1343 & 1439 - completed.\n",
            "2. Load balancer template changes on quartz for subnets other than compute 1400- awaiting testing confirmation on corp2 (corp2 handover ETA 6115)\n",
            "3. Serial console is not supported when storage a cc has firewall enabled - CRPE-2507 - still not resolved\n",
            "4. Scaleset automation and testing -\n",
            "Updated script to verify vmss is SSHable.\n",
            "Adding functionality in test script to create summary report\n",
            "Ongoing testing of Flex SS and coordination with CB\n",
            "5. Repave approach and config script-work sessions with Gops+ Robert to formalize implementation and inventory of resources 1. Plan to create a 'backup' VMSS in alternate A2 to combat failures and scale up\n",
            "6. Complete janitor process for mow log cleanup and container images\n",
            "Post D1\n",
            "1. KV (Secrets to Certs) - Begun looking at Post Dayl code impact analysis for using certs instead of secrets Work planned for upcoming period:\n",
            "1. Continue to validate corp setup/validations\n",
            "2. Update confluence for D1 design elements  0.ZPlatiorm-395 - Ongoing\n",
            "3. Continue progress on repave approach and scripting\n",
            "4. Review Post Dl backlog\n",
            "Key Risks/Issues/Watch Items:\n",
            "[I-2875] AZ Copy failures (503 error)-Triage in progress. Compared python sdk vs azcopy sync vs azure functions. Recommended az copy sync with deletes written in python for 01.\n",
            "[R-2875] Serial console access- 'VMAccessForLinuf has been added to approved list; tested reset password is working for sample resource but not for \"rg-eus2-d-gis-test-001'; waitinf for the release to retest and remediate.\n",
            "[1-2877] VMSS concerns (deletion, resizing, registration with CM DB, WA agent)\n",
            "[W-2741] NSG rules aligned at VM level instead at subnet level. Not D1 critical - converted to D2 watch item.\n",
            "[W-2911] DNS concerns for quartz on Azure - ECP clips team created playbook to manually update DNS registration as workaround. Plant to leverage blue ct cloud resolver for real time DNS discovery across any CSP.\n",
            "\n",
            "Consolidated Project Financial Summary\t\n",
            "\n",
            "\n",
            "\n",
            "Status Timefra me:\n",
            "10-Jul-2023 to 16-Jul-2023\n",
            "Status Submitted on:\n",
            "11-Jul-2023\n",
            "Submitted Ev\n",
            "Sareun Maur\n",
            "Executive Status Summary\n",
            "Status AMBER as on 10th July 2023.\n",
            "\n",
            "\n",
            "\n",
            "\n",
            "\n",
            "\n",
            "Contract Amounts\n",
            "Actual Amounts\n",
            "Est. To Complete\n",
            "Labor Revenue (USD)\n",
            "3,755,700.00\n",
            "3,006,345.95\n",
            "785,595.00\n",
            "Expense Revenue  (USD)\n",
            "200,100.00\n",
            "51,144.60\n",
            "150,491.52\n",
            "Hours\n",
            "10,759.00\n",
            "8,624.77\n",
            "2,285.50\n",
            "\n",
            "\n",
            "All dates are as per the preferred tuliezone (TJTC-05-100)\n",
            "Project name\n",
            "SRN': BofA GBAM - Quartz Migration_C .6908326161\n",
            "\n",
            "Total Quartz release progress is at 91%\n",
            "Milestones re-baselined to Mid Aug - dueto platform carp incidents (Azcopy, DNS etc) - Overall status continuesto be Amber till the positive validation of defect remediations and workarounds; ETA 5/30\n",
            "Began scale testing for data free pilot on a 10k node grid\n",
            "Executive Summary:\n",
            "The key priority of this project is to provide Bank of America v.17h a delivery team focused on the build out of the Azure infrastructure components required :c hos: Quartz and to help scale the Azure infrastructure to meet Quartz's scale requirements.\n",
            "Initial scope areas are:\n",
            "Assist with finalizing the overall Architecture of Quartz Framework in Azure and identify all the subsystems necessary to build out a complete environment.\n",
            "Conduct a series of Proof of Concepts (PoCs)to build, evaluate and finalize the design options for each subsystem.\n",
            "Assist with creation of a Minimal Viable Product (MVP) of Quartz manually, before any automation is done to prove and validate the concept.\n",
            "Assist with base configuration for VM's and other Azure resources\n",
            "Assist with subscription design, VLAN Design, Subnet Design\n",
            "5. Assist with networking and establish network paths for egress/ingress and connectivity to other BoA data centers (using Fast path)\n",
            "Assist with baseline security control identification and implementation for a Secure by Default) posture\n",
            "Assist with implementing mutually agreed Observability Controls, Backup, DR and Resiliency features\n",
            "Identify the minimal set of Compliance Controls that need to be implemented for Quartz\n",
            "Assist with compliance as code on minimal set of controls we need to implement for MVP\n",
            "Design and develop automation code for Quartz Provisioning/Deprovisioning and Management using Terraform and RestAPIs (where necessary).\n",
            "Assist with integrating the automation with BoA's CLOUD BRIDGE implementation.\n",
            "Assist with testing Quartz for functional requirement and non-functional requirements at scale.\n",
            "Work completed last period:\n",
            "1. Define and deploy N5G's on new corp subscriptions - 1343 & 1439 - completed.\n",
            "2. Load balancer template changes on quartz for subnets other than compute 1400- testing confirmation on corp2 completed (corp2 handover ETA 6115)\n",
            "3. Serial console is not supported when storage a cc has firewall enabled - CRPE-2507 - is now resolved\n",
            "4. Scaleset automation and testing -\n",
            "Updated script to verify vmss is SSHable.\n",
            "Adding functionality in test script to create summary report\n",
            "Ongoing testing of Flex SS and coordination with CB\n",
            "5. Repave approach and config script-work sessions with Gops+ Robert to formalize implementation and inventory of resources 1. Plan to create a 'backup' VMSS in alternate A2 to combat failures and scale up\n",
            "6. Complete janitor process for mow log cleanup and container images\n",
            "7. Work completed on corp setup/validations\n",
            "8. Updated confluence for D1 design elements  0.ZPlatiorm-395\n",
            "Post D1\n",
            "1. KV (Secrets to Certs) - Begun looking at Post Dayl code impact analysis for using certs instead of secrets Work planned for upcoming period:\n",
            "1. Continue progress on repave approach and scripting\n",
            "2. Review Post Dl backlog\n",
            "Key Risks/Issues/Watch Items:\n",
            "[I-2875] AZ Copy failures (503 error)-Triage in progress. Compared python sdk vs azcopy sync vs azure functions. Recommended az copy sync with deletes written in python for 01.\n",
            "[R-2875] Serial console access- 'VMAccessForLinuf has been added to approved list; tested reset password is working for sample resource but not for \"rg-eus2-d-gis-test-001'; waitinf for the release to retest and remediate.\n",
            "[1-2877] VMSS concerns (deletion, resizing, registration with CM DB, WA agent)\n",
            "[W-2741] NSG rules aligned at VM level instead at subnet level. Not D1 critical - converted to D2 watch item.\n",
            "[W-2911] DNS concerns for quartz on Azure - ECP clips team created playbook to manually update DNS registration as workaround. Plant to leverage blue ct cloud resolver for real time DNS discovery across any CSP.\n",
            "\n",
            "\n",
            "Consolidated Project Financial Summary\n",
            "\n",
            "\n",
            "Status Timefra me:\n",
            "17-Jul-2023 to 23-Jul-2023\n",
            "Status Submitted on:\n",
            "18-Jul-2023\n",
            "Submitted Ev\n",
            "Sareun Maur\n",
            "Executive Status Summary\n",
            "Status AMBER as on 18th July 2023.\n",
            "\n",
            "\n",
            "\n",
            "\n",
            "\n",
            "\n",
            "Contract Amounts\n",
            "Actual Amounts\n",
            "Est. To Complete\n",
            "Labor Revenue (USD)\n",
            "3,755,700.00\n",
            "3,026,345.95\n",
            "783,595.00\n",
            "Expense Revenue  (USD)\n",
            "200,100.00\n",
            "61,144.60\n",
            "140,491.52\n",
            "Hours\n",
            "10,759.00\n",
            "8,724.77\n",
            "2,185.50\n",
            "\n",
            "\n",
            "All dates are as per the preferred tuliezone (TJTC-05-100)\n",
            "Project name\n",
            "SRN': BofA GBAM - Quartz Migration_C .6908326161\n",
            "\n",
            "Total Quartz release progress is at 94%\n",
            "Milestones re-baselined to Mid Aug - dueto platform carp incidents (Azcopy, DNS etc) - Overall status continues to be Amber till the positive validation of defect remediations and workarounds; ETA 5/30\n",
            "Began scale testing for data free pilot on a 10k node grid\n",
            "Executive Summary:\n",
            "The key priority of this project is to provide Bank of America v.17h a delivery team focused on the build out of the Azure infrastructure components required :c hos: Quartz and to help scale the Azure infrastructure to meet Quartz's scale requirements.\n",
            "Initial scope areas are:\n",
            "Assist with finalizing the overall Architecture of Quartz Framework in Azure and identify all the subsystems necessary to build out a complete environment.\n",
            "Conduct a series of Proof of Concepts (PoCs)to build, evaluate and finalize the design options for each subsystem.\n",
            "Assist with creation of a Minimal Viable Product (MVP) of Quartz manually, before any automation is done to prove and validate the concept.\n",
            "Assist with base configuration for VM's and other Azure resources\n",
            "Assist with subscription design, VLAN Design, Subnet Design\n",
            "5. Assist with networking and establish network paths for egress/ingress and connectivity to other BoA data centers (using Fast path)\n",
            "Assist with baseline security control identification and implementation for a Secure by Default) posture\n",
            "Assist with implementing mutually agreed Observability Controls, Backup, DR and Resiliency features\n",
            "Identify the minimal set of Compliance Controls that need to be implemented for Quartz\n",
            "Assist with compliance as code on minimal set of controls we need to implement for MVP\n",
            "Design and develop automation code for Quartz Provisioning/Deprovisioning and Management using Terraform and RestAPIs (where necessary).\n",
            "Assist with integrating the automation with BoA's CLOUD BRIDGE implementation.\n",
            "Assist with testing Quartz for functional requirement and non-functional requirements at scale.\n",
            "Work completed last period:\n",
            "1. Define and deploy N5G's on new corp subscriptions - 1343 & 1439 - completed.\n",
            "2. Load balancer template changes on quartz for subnets other than compute 1400- awaiting testing confirmation on corp2 (corp2 handover ETA 6115)\n",
            "3. Serial console is not supported when storage a cc has firewall enabled - CRPE-2507 - still not resolved\n",
            "4. Scaleset automation and testing -\n",
            "Updated script to verify vmss is SSHable.\n",
            "Adding functionality in test script to create summary report\n",
            "Ongoing testing of Flex SS and coordination with CB\n",
            "5. Repave approach and config script-work sessions with Gops+ Robert to formalize implementation and inventory of resources 1. Plan to create a 'backup' VMSS in alternate A2 to combat failures and scale up\n",
            "6. Complete janitor process for mow log cleanup and container images\n",
            "7. Work completed on corp setup/validations\n",
            "8. Updated confluence for D1 design elements  0.ZPlatiorm-395\n",
            "9. Progress on repave approach and scripting\n",
            "10. AZ Copy failures resolved\n",
            "\n",
            "Post D1\n",
            "1. KV (Secrets to Certs) - Begun looking at Post Dayl code impact analysis for using certs instead of secrets Work planned for upcoming period:\n",
            "1. Review Post Dl backlog\n",
            "Key Risks/Issues/Watch Items:\n",
            "[R-2875] Serial console access- 'VMAccessForLinuf has been added to approved list; tested reset password is working for sample resource but not for \"rg-eus2-d-gis-test-001'; waitinf for the release to retest and remediate.\n",
            "[1-2877] VMSS concerns (deletion, resizing, registration with CM DB, WA agent)\n",
            "[W-2741] NSG rules aligned at VM level instead at subnet level. Not D1 critical - converted to D2 watch item.\n",
            "[W-2911] DNS concerns for quartz on Azure - ECP clips team created playbook to manually update DNS registration as workaround. Plant to leverage blue ct cloud resolver for real time DNS discovery across any CSP.\n",
            "\n",
            "Consolidated Project Financial Summary\t\n",
            "\n",
            "\n",
            "\n",
            "Status Timefra me:\n",
            "24-Jul-2023 to 30-Jul-2023\n",
            "Status Submitted on:\n",
            "25-Jul-2023\n",
            "Submitted Ev\n",
            "Sareun Maur\n",
            "Executive Status Summary\n",
            "Status AMBER as on 10th July 2023.\n",
            "\n",
            "\n",
            "\n",
            "\n",
            "\n",
            "\n",
            "Contract Amounts\n",
            "Actual Amounts\n",
            "Est. To Complete\n",
            "Labor Revenue (USD)\n",
            "3,755,700.00\n",
            "3,036,345.95\n",
            "782,595.00\n",
            "Expense Revenue  (USD)\n",
            "200,100.00\n",
            "71,144.60\n",
            "130,491.52\n",
            "Hours\n",
            "10,759.00\n",
            "8,824.77\n",
            "2,085.50\n",
            "\n"
          ]
        }
      ],
      "source": [
        "from docx import Document\n",
        "import os\n",
        "from azure.storage.blob import BlobServiceClient\n",
        "\n",
        "# Azure Blob Storage credentials\n",
        "conn_str = \"DefaultEndpointsProtocol=https;AccountName=openaiblob1;\"\n",
        "container_name = \"statusreport\"\n",
        "\n",
        "# Local directory to download documents\n",
        "download_dir = \"/tmp/downloaded_docs\"\n",
        "\n",
        "# Create the download directory if it doesn't exist\n",
        "os.makedirs(download_dir, exist_ok=True)\n",
        "\n",
        "# Create BlobServiceClient\n",
        "blob_service_client = BlobServiceClient.from_connection_string(conn_str)\n",
        "\n",
        "# Get the container client\n",
        "container_client = blob_service_client.get_container_client(container_name)\n",
        "\n",
        "# Download the documents to the local directory\n",
        "documents = []\n",
        "for blob in container_client.list_blobs():\n",
        "    file_path = os.path.join(download_dir, blob.name)\n",
        "    os.makedirs(os.path.dirname(file_path), exist_ok=True)\n",
        "    with open(file_path, \"wb\") as file:\n",
        "        blob_client = blob_service_client.get_blob_client(container=container_name, blob=blob.name)\n",
        "        data = blob_client.download_blob()\n",
        "        file.write(data.readall())\n",
        "    documents.append(file_path)\n",
        "\n",
        "print(f\"You have {len(documents)} documents in your data\")\n",
        "\n",
        "text_to_summarize2 = \"\"\n",
        "\n",
        "for doc_path in documents:\n",
        "    file_name = os.path.basename(doc_path)\n",
        "    print(file_name)\n",
        "    # Extract text and tabular data from .docx file\n",
        "    if file_name.endswith(\".docx\"):\n",
        "        document = Document(doc_path)\n",
        "        for paragraph in document.paragraphs:\n",
        "            text_to_summarize2 += paragraph.text + \"\\n\"\n",
        "        for table in document.tables:\n",
        "            for row in table.rows:\n",
        "                for cell in row.cells:\n",
        "                    text_to_summarize2 += cell.text + \"\\n\"\n",
        "\n",
        "# Clean up the downloaded documents\n",
        "for doc_path in documents:\n",
        "    os.remove(doc_path)\n",
        "\n",
        "print(text_to_summarize2)\n"
      ]
    },
    {
      "cell_type": "code",
      "execution_count": null,
      "metadata": {
        "colab": {
          "base_uri": "https://localhost:8080/"
        },
        "id": "vqv08FDd_dUB",
        "outputId": "08b08c10-1f2c-4912-ed65-d09a2291efe5"
      },
      "outputs": [
        {
          "name": "stdout",
          "output_type": "stream",
          "text": [
            "['cricket summary.docx', 'football summary.docx', 'hockey summary.docx', 'tennis summary.docx']\n"
          ]
        }
      ],
      "source": [
        "file_names = [os.path.basename(doc.metadata['source']) for doc in documents]\n",
        "print(file_names)"
      ]
    },
    {
      "cell_type": "code",
      "execution_count": null,
      "metadata": {
        "colab": {
          "base_uri": "https://localhost:8080/"
        },
        "id": "riIg-bS65y_p",
        "outputId": "2ef24455-e9d3-472b-9617-2419c379731e"
      },
      "outputs": [
        {
          "name": "stdout",
          "output_type": "stream",
          "text": [
            "1954\n",
            "1 1954\n"
          ]
        }
      ],
      "source": [
        "import math\n",
        "\n",
        "words = text_to_summarize2.split(\" \")\n",
        "print(len(words))\n",
        "split_len = len(words)//2500 + 1\n",
        "chunks = np.array_split(words, split_len)\n",
        "print(len(chunks), len(chunks[0]))"
      ]
    },
    {
      "cell_type": "code",
      "execution_count": null,
      "metadata": {
        "colab": {
          "base_uri": "https://localhost:8080/",
          "height": 1000
        },
        "id": "sdcN_8g9davL",
        "outputId": "a565d54d-86fa-40d2-9252-735510799c82"
      },
      "outputs": [
        {
          "data": {
            "application/vnd.google.colaboratory.intrinsic+json": {
              "type": "string"
            },
            "text/plain": [
              "'\\n\\nAll dates are as per the preferred tuliezone (TJTC-05-100)\\nProject name\\nSRN\\': BofA GBAM - Quartz Migration_C .6908326161\\n\\nTotal Quartz release progress is at 89%\\nMilestones re-baselined to Mid Aug - dueto platform carp incidents (Azcopy, DNS etc) - Overall status continuesto be Amber till the positive validation of defect remediations and workarounds; ETA 5/30\\nBegan scale testing for data free pilot on a 10k node grid\\nExecutive Summary:\\nThe key priority of this project is to provide Bank of America v.17h a delivery team focused on the build out of the Azure infrastructure components required :c hos: Quartz and to help scale the Azure infrastructure to meet Quartz\\'s scale requirements.\\nInitial scope areas are:\\nAssist with finalizing the overall Architecture of Quartz Framework in Azure and identify all the subsystems necessary to build out a complete environment.\\nConduct a series of Proof of Concepts (PoCs)to build, evaluate and finalize the design options for each subsystem.\\nAssist with creation of a Minimal Viable Product (MVP) of Quartz manually, before any automation is done to prove and validate the concept.\\nAssist with base configuration for VM\\'s and other Azure resources\\nAssist with subscription design, VLAN Design, Subnet Design\\n5. Assist with networking and establish network paths for egress/ingress and connectivity to other BoA data centers (using Fast path)\\nAssist with baseline security control identification and implementation for a Secure by Default) posture\\nAssist with implementing mutually agreed Observability Controls, Backup, DR and Resiliency features\\nIdentify the minimal set of Compliance Controls that need to be implemented for Quartz\\nAssist with compliance as code on minimal set of controls we need to implement for MVP\\nDesign and develop automation code for Quartz Provisioning/Deprovisioning and Management using Terraform and RestAPIs (where necessary).\\nAssist with integrating the automation with BoA\\'s CLOUD BRIDGE implementation.\\nAssist with testing Quartz for functional requirement and non-functional requirements at scale.\\nWork completed last period:\\n1. Define and deploy N5G\\'s on new corp subscriptions - 1343 & 1439 - completed.\\n2. Load balancer template changes on quartz for subnets other than compute 1400- awaiting testing confirmation on corp2 (corp2 handover ETA 6115)\\n3. Serial console is not supported when storage a cc has firewall enabled - CRPE-2507 - still not resolved\\n4. Scaleset automation and testing -\\nUpdated script to verify vmss is SSHable.\\nAdding functionality in test script to create summary report\\nOngoing testing of Flex SS and coordination with CB\\n5. Repave approach and config script-work sessions with Gops+ Robert to formalize implementation and inventory of resources 1. Plan to create a \\'backup\\' VMSS in alternate A2 to combat failures and scale up\\n6. Complete janitor process for mow log cleanup and container images\\nPost D1\\n1. KV (Secrets to Certs) - Begun looking at Post Dayl code impact analysis for using certs instead of secrets Work planned for upcoming period:\\n1. Continue to validate corp setup/validations\\n2. Update confluence for D1 design elements  0.ZPlatiorm-395 - Ongoing\\n3. Continue progress on repave approach and scripting\\n4. Review Post Dl backlog\\nKey Risks/Issues/Watch Items:\\n[I-2875] AZ Copy failures (503 error)-Triage in progress. Compared python sdk vs azcopy sync vs azure functions. Recommended az copy sync with deletes written in python for 01.\\n[R-2875] Serial console access- \\'VMAccessForLinuf has been added to approved list; tested reset password is working for sample resource but not for \"rg-eus2-d-gis-test-001\\'; waitinf for the release to retest and remediate.\\n[1-2877] VMSS concerns (deletion, resizing, registration with CM DB, WA agent)\\n[W-2741] NSG rules aligned at VM level instead at subnet level. Not D1 critical - converted to D2 watch item.\\n[W-2911] DNS concerns for quartz on Azure - ECP clips team created playbook to manually update DNS registration as workaround. Plant to leverage blue ct cloud resolver for real time DNS discovery across any CSP.\\n\\nConsolidated Project Financial Summary\\t\\n\\n\\n\\nStatus Timefra me:\\n10-Jul-2023 to 16-Jul-2023\\nStatus Submitted on:\\n11-Jul-2023\\nSubmitted Ev\\nSareun Maur\\nExecutive Status Summary\\nStatus AMBER as on 10th July 2023.\\n\\n\\n\\n\\n\\n\\nContract Amounts\\nActual Amounts\\nEst. To Complete\\nLabor Revenue (USD)\\n3,755,700.00\\n3,006,345.95\\n785,595.00\\nExpense Revenue  (USD)\\n200,100.00\\n51,144.60\\n150,491.52\\nHours\\n10,759.00\\n8,624.77\\n2,285.50\\n\\n\\nAll dates are as per the preferred tuliezone (TJTC-05-100)\\nProject name\\nSRN\\': BofA GBAM - Quartz Migration_C .6908326161\\n\\nTotal Quartz release progress is at 91%\\nMilestones re-baselined to Mid Aug - dueto platform carp incidents (Azcopy, DNS etc) - Overall status continuesto be Amber till the positive validation of defect remediations and workarounds; ETA 5/30\\nBegan scale testing for data free pilot on a 10k node grid\\nExecutive Summary:\\nThe key priority of this project is to provide Bank of America v.17h a delivery team focused on the build out of the Azure infrastructure components required :c hos: Quartz and to help scale the Azure infrastructure to meet Quartz\\'s scale requirements.\\nInitial scope areas are:\\nAssist with finalizing the overall Architecture of Quartz Framework in Azure and identify all the subsystems necessary to build out a complete environment.\\nConduct a series of Proof of Concepts (PoCs)to build, evaluate and finalize the design options for each subsystem.\\nAssist with creation of a Minimal Viable Product (MVP) of Quartz manually, before any automation is done to prove and validate the concept.\\nAssist with base configuration for VM\\'s and other Azure resources\\nAssist with subscription design, VLAN Design, Subnet Design\\n5. Assist with networking and establish network paths for egress/ingress and connectivity to other BoA data centers (using Fast path)\\nAssist with baseline security control identification and implementation for a Secure by Default) posture\\nAssist with implementing mutually agreed Observability Controls, Backup, DR and Resiliency features\\nIdentify the minimal set of Compliance Controls that need to be implemented for Quartz\\nAssist with compliance as code on minimal set of controls we need to implement for MVP\\nDesign and develop automation code for Quartz Provisioning/Deprovisioning and Management using Terraform and RestAPIs (where necessary).\\nAssist with integrating the automation with BoA\\'s CLOUD BRIDGE implementation.\\nAssist with testing Quartz for functional requirement and non-functional requirements at scale.\\nWork completed last period:\\n1. Define and deploy N5G\\'s on new corp subscriptions - 1343 & 1439 - completed.\\n2. Load balancer template changes on quartz for subnets other than compute 1400- testing confirmation on corp2 completed (corp2 handover ETA 6115)\\n3. Serial console is not supported when storage a cc has firewall enabled - CRPE-2507 - is now resolved\\n4. Scaleset automation and testing -\\nUpdated script to verify vmss is SSHable.\\nAdding functionality in test script to create summary report\\nOngoing testing of Flex SS and coordination with CB\\n5. Repave approach and config script-work sessions with Gops+ Robert to formalize implementation and inventory of resources 1. Plan to create a \\'backup\\' VMSS in alternate A2 to combat failures and scale up\\n6. Complete janitor process for mow log cleanup and container images\\n7. Work completed on corp setup/validations\\n8. Updated confluence for D1 design elements  0.ZPlatiorm-395\\nPost D1\\n1. KV (Secrets to Certs) - Begun looking at Post Dayl code impact analysis for using certs instead of secrets Work planned for upcoming period:\\n1. Continue progress on repave approach and scripting\\n2. Review Post Dl backlog\\nKey Risks/Issues/Watch Items:\\n[I-2875] AZ Copy failures (503 error)-Triage in progress. Compared python sdk vs azcopy sync vs azure functions. Recommended az copy sync with deletes written in python for 01.\\n[R-2875] Serial console access- \\'VMAccessForLinuf has been added to approved list; tested reset password is working for sample resource but not for \"rg-eus2-d-gis-test-001\\'; waitinf for the release to retest and remediate.\\n[1-2877] VMSS concerns (deletion, resizing, registration with CM DB, WA agent)\\n[W-2741] NSG rules aligned at VM level instead at subnet level. Not D1 critical - converted to D2 watch item.\\n[W-2911] DNS concerns for quartz on Azure - ECP clips team created playbook to manually update DNS registration as workaround. Plant to leverage blue ct cloud resolver for real time DNS discovery across any CSP.\\n\\n\\nConsolidated Project Financial Summary\\n\\n\\nStatus Timefra me:\\n17-Jul-2023 to 23-Jul-2023\\nStatus Submitted on:\\n18-Jul-2023\\nSubmitted Ev\\nSareun Maur\\nExecutive Status Summary\\nStatus AMBER as on 18th July 2023.\\n\\n\\n\\n\\n\\n\\nContract Amounts\\nActual Amounts\\nEst. To Complete\\nLabor Revenue (USD)\\n3,755,700.00\\n3,026,345.95\\n783,595.00\\nExpense Revenue  (USD)\\n200,100.00\\n61,144.60\\n140,491.52\\nHours\\n10,759.00\\n8,724.77\\n2,185.50\\n\\n\\nAll dates are as per the preferred tuliezone (TJTC-05-100)\\nProject name\\nSRN\\': BofA GBAM - Quartz Migration_C .6908326161\\n\\nTotal Quartz release progress is at 94%\\nMilestones re-baselined to Mid Aug - dueto platform carp incidents (Azcopy, DNS etc) - Overall status continues to be Amber till the positive validation of defect remediations and workarounds; ETA 5/30\\nBegan scale testing for data free pilot on a 10k node grid\\nExecutive Summary:\\nThe key priority of this project is to provide Bank of America v.17h a delivery team focused on the build out of the Azure infrastructure components required :c hos: Quartz and to help scale the Azure infrastructure to meet Quartz\\'s scale requirements.\\nInitial scope areas are:\\nAssist with finalizing the overall Architecture of Quartz Framework in Azure and identify all the subsystems necessary to build out a complete environment.\\nConduct a series of Proof of Concepts (PoCs)to build, evaluate and finalize the design options for each subsystem.\\nAssist with creation of a Minimal Viable Product (MVP) of Quartz manually, before any automation is done to prove and validate the concept.\\nAssist with base configuration for VM\\'s and other Azure resources\\nAssist with subscription design, VLAN Design, Subnet Design\\n5. Assist with networking and establish network paths for egress/ingress and connectivity to other BoA data centers (using Fast path)\\nAssist with baseline security control identification and implementation for a Secure by Default) posture\\nAssist with implementing mutually agreed Observability Controls, Backup, DR and Resiliency features\\nIdentify the minimal set of Compliance Controls that need to be implemented for Quartz\\nAssist with compliance as code on minimal set of controls we need to implement for MVP\\nDesign and develop automation code for Quartz Provisioning/Deprovisioning and Management using Terraform and RestAPIs (where necessary).\\nAssist with integrating the automation with BoA\\'s CLOUD BRIDGE implementation.\\nAssist with testing Quartz for functional requirement and non-functional requirements at scale.\\nWork completed last period:\\n1. Define and deploy N5G\\'s on new corp subscriptions - 1343 & 1439 - completed.\\n2. Load balancer template changes on quartz for subnets other than compute 1400- awaiting testing confirmation on corp2 (corp2 handover ETA 6115)\\n3. Serial console is not supported when storage a cc has firewall enabled - CRPE-2507 - still not resolved\\n4. Scaleset automation and testing -\\nUpdated script to verify vmss is SSHable.\\nAdding functionality in test script to create summary report\\nOngoing testing of Flex SS and coordination with CB\\n5. Repave approach and config script-work sessions with Gops+ Robert to formalize implementation and inventory of resources 1. Plan to create a \\'backup\\' VMSS in alternate A2 to combat failures and scale up\\n6. Complete janitor process for mow log cleanup and container images\\n7. Work completed on corp setup/validations\\n8. Updated confluence for D1 design elements  0.ZPlatiorm-395\\n9. Progress on repave approach and scripting\\n10. AZ Copy failures resolved\\n\\nPost D1\\n1. KV (Secrets to Certs) - Begun looking at Post Dayl code impact analysis for using certs instead of secrets Work planned for upcoming period:\\n1. Review Post Dl backlog\\nKey Risks/Issues/Watch Items:\\n[R-2875] Serial console access- \\'VMAccessForLinuf has been added to approved list; tested reset password is working for sample resource but not for \"rg-eus2-d-gis-test-001\\'; waitinf for the release to retest and remediate.\\n[1-2877] VMSS concerns (deletion, resizing, registration with CM DB, WA agent)\\n[W-2741] NSG rules aligned at VM level instead at subnet level. Not D1 critical - converted to D2 watch item.\\n[W-2911] DNS concerns for quartz on Azure - ECP clips team created playbook to manually update DNS registration as workaround. Plant to leverage blue ct cloud resolver for real time DNS discovery across any CSP.\\n\\nConsolidated Project Financial Summary\\t\\n\\n\\n\\nStatus Timefra me:\\n24-Jul-2023 to 30-Jul-2023\\nStatus Submitted on:\\n25-Jul-2023\\nSubmitted Ev\\nSareun Maur\\nExecutive Status Summary\\nStatus AMBER as on 10th July 2023.\\n\\n\\n\\n\\n\\n\\nContract Amounts\\nActual Amounts\\nEst. To Complete\\nLabor Revenue (USD)\\n3,755,700.00\\n3,036,345.95\\n782,595.00\\nExpense Revenue  (USD)\\n200,100.00\\n71,144.60\\n130,491.52\\nHours\\n10,759.00\\n8,824.77\\n2,085.50\\n'"
            ]
          },
          "execution_count": 28,
          "metadata": {},
          "output_type": "execute_result"
        }
      ],
      "source": [
        "text_to_summarize2"
      ]
    },
    {
      "cell_type": "code",
      "execution_count": null,
      "metadata": {
        "colab": {
          "base_uri": "https://localhost:8080/"
        },
        "id": "Tq1-v1f4cuoA",
        "outputId": "21a40d75-84af-49e4-cb07-eae14307360d"
      },
      "outputs": [
        {
          "name": "stdout",
          "output_type": "stream",
          "text": [
            "81\n"
          ]
        }
      ],
      "source": [
        "count=0\n",
        "def recursive_summarize(text_to_summarize, target_word_count=500):\n",
        "    words = text_to_summarize.split(\" \")\n",
        "    split_len = len(words)//2500 + 1\n",
        "    chunks = np.array_split(words, split_len)\n",
        "    #chunks = np.array_split(words, 1)\n",
        "    summary_responses = []\n",
        "    full_summary = \"\"\n",
        "\n",
        "    for chunk in chunks:\n",
        "        sentences = ' '.join(list(chunk))\n",
        "        prompt = f\"Below are three weekly status reports for Project name. Extract the key project completion trends, key changes between each, Project Financial Summary: #Start of Report{sentences}#End of Report\"\n",
        "        response = openai.Completion.create(\n",
        "            engine=deployment_name,\n",
        "            prompt=prompt,\n",
        "            temperature=0.3,\n",
        "            max_tokens=150,\n",
        "            top_p=1,\n",
        "            frequency_penalty=0,\n",
        "            presence_penalty=1\n",
        "        )\n",
        "\n",
        "        response_text = response[\"choices\"][0][\"text\"]\n",
        "        summary_responses.append(response_text+'\\n\\n')\n",
        "\n",
        "    full_summary = \"\".join(summary_responses)\n",
        "    word_count = len(full_summary.split())\n",
        "    print(word_count)\n",
        "    if word_count > target_word_count:\n",
        "    #     print(++count)\n",
        "        return recursive_summarize(full_summary, target_word_count)\n",
        "\n",
        "    return full_summary\n",
        "\n",
        "#Summary of each doc\n",
        "#no_of_docs = len(text_to_summarize2)\n",
        "#final_summary = []\n",
        "#for i in range(no_of_docs):\n",
        "  # initial_text_to_summarize = text_to_summarize2\n",
        "  # final_summary.append(recursive_summarize(initial_text_to_summarize, target_word_count=50))\n",
        "\n",
        "# Example usage\n",
        "initial_text_to_summarize = text_to_summarize2\n",
        "final_summary = recursive_summarize(initial_text_to_summarize, target_word_count=500)\n"
      ]
    },
    {
      "cell_type": "code",
      "execution_count": null,
      "metadata": {
        "colab": {
          "base_uri": "https://localhost:8080/",
          "height": 87
        },
        "id": "WAec4UzDhOyW",
        "outputId": "45de58b3-3bbc-42d1-dccb-39fc54af1007"
      },
      "outputs": [
        {
          "data": {
            "application/vnd.google.colaboratory.intrinsic+json": {
              "type": "string"
            },
            "text/plain": [
              "'\\n\\nThe key project completion trends are that the total Quartz release progress is increasing from 89% to 91% to 94%, and the estimated time of completion is still Mid August. The key changes between each report are that the labor revenue, expense revenue, and hours have all increased slightly, and the AZ Copy failure issue has been resolved. The Project Financial Summary for each report shows that the contract amounts, actual amounts, and estimated to complete amounts have all increased slightly.\\n\\n'"
            ]
          },
          "execution_count": 30,
          "metadata": {},
          "output_type": "execute_result"
        }
      ],
      "source": [
        "final_summary #Summary of full"
      ]
    },
    {
      "cell_type": "code",
      "execution_count": null,
      "metadata": {
        "colab": {
          "base_uri": "https://localhost:8080/"
        },
        "id": "0TA9qNppiOvD",
        "outputId": "e2bf48a4-4cc1-4a13-85e9-f5688af8471e"
      },
      "outputs": [
        {
          "data": {
            "text/plain": [
              "1"
            ]
          },
          "execution_count": 17,
          "metadata": {},
          "output_type": "execute_result"
        }
      ],
      "source": [
        "len(final_summary[0])"
      ]
    }
  ],
  "metadata": {
    "colab": {
      "provenance": []
    },
    "kernelspec": {
      "display_name": "Python 3",
      "name": "python3"
    },
    "language_info": {
      "name": "python"
    }
  },
  "nbformat": 4,
  "nbformat_minor": 0
}
