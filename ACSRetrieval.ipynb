{
  "cells": [
    {
      "cell_type": "code",
      "execution_count": null,
      "metadata": {
        "id": "IG-xDuqi_3Rx"
      },
      "outputs": [],
      "source": [
        "!pip install langchain\n",
        "!pip install openai\n",
        "!pip install chromadb\n",
        "!pip install azure-storage-blob\n",
        "!pip install tiktoken\n"
      ]
    },
    {
      "cell_type": "code",
      "execution_count": null,
      "metadata": {
        "id": "bYQAMs4-AjL_"
      },
      "outputs": [],
      "source": [
        "# !pip install --index-url=https://pkgs.dev.azure.com/azure-sdk/public/_packaging/azure-sdk-for-python/pypi/simple/ azure-search-documents==11.4.0a20230509004\n",
        "# !pip install azure-identity"
      ]
    },
    {
      "cell_type": "code",
      "execution_count": null,
      "metadata": {
        "id": "4O6nfwfvAtbf"
      },
      "outputs": [],
      "source": [
        "import os\n",
        "from langchain.retrievers import AzureCognitiveSearchRetriever\n",
        "from langchain.embeddings import OpenAIEmbeddings\n",
        "from langchain.vectorstores import Chroma\n",
        "from langchain.llms import AzureOpenAI\n",
        "from langchain.chains import RetrievalQA"
      ]
    },
    {
      "cell_type": "code",
      "execution_count": null,
      "metadata": {
        "id": "AS33z6QuWwEU"
      },
      "outputs": [],
      "source": [
        "os.environ[\"AZURE_COGNITIVE_SEARCH_SERVICE_NAME\"] = \"openai-service1\"\n",
        "os.environ[\"AZURE_COGNITIVE_SEARCH_INDEX_NAME\"] = \"azureblob-index\"\n",
        "os.environ[\"AZURE_COGNITIVE_SEARCH_API_KEY\"] = \"\""
      ]
    },
    {
      "cell_type": "code",
      "execution_count": null,
      "metadata": {
        "id": "b74TNmbCWxQ_"
      },
      "outputs": [],
      "source": [
        "retriever = AzureCognitiveSearchRetriever(content_key=\"content\")"
      ]
    },
    {
      "cell_type": "code",
      "execution_count": null,
      "metadata": {
        "id": "J8FsG9K_ZHBE"
      },
      "outputs": [],
      "source": [
        "# docs = retriever.get_relevant_documents(\"cause of homelessness\")\n",
        "# docs[0]"
      ]
    },
    {
      "cell_type": "code",
      "execution_count": null,
      "metadata": {
        "colab": {
          "base_uri": "https://localhost:8080/"
        },
        "id": "XK5WoAomaDr5",
        "outputId": "3b07cc1c-eeab-4e0d-a949-b466383f27f5"
      },
      "outputs": [
        {
          "data": {
            "text/plain": [
              "Document(page_content='EEID,Full Name,Job Title,Department,Business Unit,Gender,Ethnicity,Age,Hire Date,Annual Salary,Bonus %,Country,City,Exit Date\\r\\nE02387,Emily Davis,Sr. Manger,IT,Research & Development,Female,Black,55,4/8/2016,\"$141,604 \",15%,United States,Seattle,10/16/2021\\r\\nE04105,Theodore Dinh,Technical Architect,IT,Manufacturing,Male,Asian,59,11/29/1997,\"$99,975 \",0%,China,Chongqing,\\r\\nE02572,Luna Sanders,Director,Finance,Speciality Products,Female,Caucasian,50,10/26/2006,\"$163,099 \",20%,United States,Chicago,\\r\\nE02832,Penelope Jordan,Computer Systems Manager,IT,Manufacturing,Female,Caucasian,26,9/27/2019,\"$84,913 \",7%,United States,Chicago,\\r\\nE01639,Austin Vo,Sr. Analyst,Finance,Manufacturing,Male,Asian,55,11/20/1995,\"$95,409 \",0%,United States,Phoenix,\\r\\nE00644,Joshua Gupta,Account Representative,Sales,Corporate,Male,Asian,57,1/24/2017,\"$50,994 \",0%,China,Chongqing,\\r\\nE01550,Ruby Barnes,Manager,IT,Corporate,Female,Caucasian,27,7/1/2020,\"$119,746 \",10%,United States,Phoenix,\\r\\nE04332,Luke Martin,Analyst,Finance,Manufacturing,Male,Black,25,5/16/2020,\"$41,336 \",0%,United States,Miami,5/20/2021\\r\\nE04533,Easton Bailey,Manager,Accounting,Manufacturing,Male,Caucasian,29,1/25/2019,\"$113,527 \",6%,United States,Austin,\\r\\nE03838,Madeline Walker,Sr. Analyst,Finance,Speciality Products,Female,Caucasian,34,6/13/2018,\"$77,203 \",0%,United States,Chicago,\\r\\nE00591,Savannah Ali,Sr. Manger,Human Resources,Manufacturing,Female,Asian,36,2/11/2009,\"$157,333 \",15%,United States,Miami,\\r\\nE03344,Camila Rogers,Controls Engineer,Engineering,Speciality Products,Female,Caucasian,27,10/21/2021,\"$109,851 \",0%,United States,Seattle,\\r\\nE00530,Eli Jones,Manager,Human Resources,Manufacturing,Male,Caucasian,59,3/14/1999,\"$105,086 \",9%,United States,Austin,\\r\\nE04239,Everleigh Ng,Sr. Manger,Finance,Research & Development,Female,Asian,51,6/10/2021,\"$146,742 \",10%,China,Shanghai,\\r\\nE03496,Robert Yang,Sr. Analyst,Accounting,Speciality Products,Male,Asian,31,11/4/2017,\"$97,078 \",0%,United States,Austin,3/9/2020\\r\\nE00549,Isabella Xi,Vice President,Marketing,Research & Development,Female,Asian,41,3/13/2013,\"$249,270 \",30%,United States,Seattle,\\r\\nE00163,Bella Powell,Director,Finance,Research & Development,Female,Black,65,3/4/2002,\"$175,837 \",20%,United States,Phoenix,\\r\\nE00884,Camila Silva,Sr. Manger,Marketing,Speciality Products,Female,Latino,64,12/1/2003,\"$154,828 \",13%,United States,Seattle,\\r\\nE04116,David Barnes,Director,IT,Corporate,Male,Caucasian,64,11/3/2013,\"$186,503 \",24%,United States,Columbus,\\r\\nE04625,Adam Dang,Director,Sales,Research & Development,Male,Asian,45,7/9/2002,\"$166,331 \",18%,China,Chongqing,\\r\\nE03680,Elias Alvarado,Sr. Manger,IT,Manufacturing,Male,Latino,56,1/9/2012,\"$146,140 \",10%,Brazil,Manaus,\\r\\nE04732,Eva Rivera,Director,Sales,Manufacturing,Female,Latino,36,4/2/2021,\"$151,703 \",21%,United States,Miami,\\r\\nE03484,Logan Rivera,Director,IT,Research & Development,Male,Latino,59,5/24/2002,\"$172,787 \",28%,Brazil,Rio de Janerio,\\r\\nE00671,Leonardo Dixon,Analyst,Sales,Speciality Products,Male,Caucasian,37,9/5/2019,\"$49,998 \",0%,United States,Seattle,\\r\\nE02071,Mateo Her,Vice President,Sales,Speciality Products,Male,Asian,44,3/2/2014,\"$207,172 \",31%,China,Chongqing,\\r\\nE02206,Jose Henderson,Director,Human Resources,Speciality Products,Male,Black,41,4/17/2015,\"$152,239 \",23%,United States,Columbus,\\r\\nE04545,Abigail Mejia,Quality Engineer,Engineering,Corporate,Female,Latino,56,2/5/2005,\"$98,581 \",0%,Brazil,Rio de Janerio,\\r\\nE00154,Wyatt Chin,Vice President,Engineering,Speciality Products,Male,Asian,43,6/7/2004,\"$246,231 \",31%,United States,Seattle,\\r\\nE03343,Carson Lu,Engineering Manager,Engineering,Speciality Products,Male,Asian,64,12/4/1996,\"$99,354 \",12%,China,Beijing,\\r\\nE00304,Dylan Choi,Vice President,IT,Corporate,Male,Asian,63,5/11/2012,\"$231,141 \",34%,China,Beijing,\\r\\nE02594,Ezekiel Kumar,IT Coordinator,IT,Research & Development,Male,Asian,28,6/25/2017,\"$54,775 \",0%,United States,Columbus,\\r\\nE00402,Dominic Guzman,Analyst,Finance,Manufacturing,Male,Latino,65,5/16/2004,\"$55,499 \",0%,Brazil,Manaus,\\r\\nE01994,Angel Powell,Analyst II,Sales,Research & Development,Male,Caucasian,61,7/11/2008,\"$66,521 \",0%,United States,Seattle,\\r\\nE03549,Mateo Vu,Account Representative,Sales,Speciality Products,Male,Asian,30,9/29/2016,\"$59,100 \",0%,China,Chongqing,\\r\\nE03247,Caroline Jenkins,Analyst,Finance,Research & Development,Female,Caucasian,27,5/6/2018,\"$49,011 \",0%,United States,Chicago,\\r\\nE02074,Nora Brown,Enterprise Architect,IT,Manufacturing,Female,Caucasian,32,2/11/2014,\"$99,575 \",0%,United States,Austin,\\r\\nE04152,Adeline Huang,Controls Engineer,Engineering,Manufacturing,Female,Asian,34,12/16/2019,\"$99,989 \",0%,China,Chengdu,\\r\\nE01628,Jackson Perry,Vice President,Marketing,Research & Development,Male,Caucasian,27,10/20/2019,\"$256,420 \",30%,United States,Phoenix,\\r\\nE04285,Riley Padilla,Technical Architect,IT,Manufacturing,Female,Latino,35,5/15/2013,\"$78,940 \",0%,United States,Miami,\\r\\n', metadata={'@search.score': 2.0992703, 'metadata_storage_path': 'aHR0cHM6Ly90cmFuc2xhdG9yc3RvcmUuYmxvYi5jb3JlLndpbmRvd3MubmV0L29wZW5haS1jb250MS9FbXBTYW1wbGVkYXRhLmNzdg2'})"
            ]
          },
          "execution_count": 5,
          "metadata": {},
          "output_type": "execute_result"
        }
      ],
      "source": [
        "docs = retriever.get_relevant_documents(\"employee data Dylan\")\n",
        "docs[0]"
      ]
    },
    {
      "cell_type": "code",
      "execution_count": null,
      "metadata": {
        "colab": {
          "base_uri": "https://localhost:8080/"
        },
        "id": "RqrNOzBsZmxV",
        "outputId": "bda620e8-fd0c-46dc-e784-99a5a5a48e3c"
      },
      "outputs": [
        {
          "name": "stdout",
          "output_type": "stream",
          "text": [
            "EEID,Full Name,Job Title,Department,Business Unit,Gender,Ethnicity,Age,Hire Date,Annual Salary,Bonus %,Country,City,Exit Date\r\n",
            "E02387,Emily Davis,Sr. Manger,IT,Research & Development,Female,Black,55,4/8/2016,\"$141,604 \",15%,United States,Seattle,10/16/2021\r\n",
            "E04105,Theodore Dinh,Technical Architect,IT,Manufacturing,Male,Asian,59,11/29/1997,\"$99,975 \",0%,China,Chongqing,\r\n",
            "E02572,Luna Sanders,Director,Finance,Speciality Products,Female,Caucasian,50,10/26/2006,\"$163,099 \",20%,United States,Chicago,\r\n",
            "E02832,Penelope Jordan,Computer Systems Manager,IT,Manufacturing,Female,Caucasian,26,9/27/2019,\"$84,913 \",7%,United States,Chicago,\r\n",
            "E01639,Austin Vo,Sr. Analyst,Finance,Manufacturing,Male,Asian,55,11/20/1995,\"$95,409 \",0%,United States,Phoenix,\r\n",
            "E00644,Joshua Gupta,Account Representative,Sales,Corporate,Male,Asian,57,1/24/2017,\"$50,994 \",0%,China,Chongqing,\r\n",
            "E01550,Ruby Barnes,Manager,IT,Corporate,Female,Caucasian,27,7/1/2020,\"$119,746 \",10%,United States,Phoenix,\r\n",
            "E04332,Luke Martin,Analyst,Finance,Manufacturing,Male,Black,25,5/16/2020,\"$41,336 \",0%,United States,Miami,5/20/2021\r\n",
            "E04533,Easton Bailey,Manager,Accounting,Manufacturing,Male,Caucasian,29,1/25/2019,\"$113,527 \",6%,United States,Austin,\r\n",
            "E03838,Madeline Walker,Sr. Analyst,Finance,Speciality Products,Female,Caucasian,34,6/13/2018,\"$77,203 \",0%,United States,Chicago,\r\n",
            "E00591,Savannah Ali,Sr. Manger,Human Resources,Manufacturing,Female,Asian,36,2/11/2009,\"$157,333 \",15%,United States,Miami,\r\n",
            "E03344,Camila Rogers,Controls Engineer,Engineering,Speciality Products,Female,Caucasian,27,10/21/2021,\"$109,851 \",0%,United States,Seattle,\r\n",
            "E00530,Eli Jones,Manager,Human Resources,Manufacturing,Male,Caucasian,59,3/14/1999,\"$105,086 \",9%,United States,Austin,\r\n",
            "E04239,Everleigh Ng,Sr. Manger,Finance,Research & Development,Female,Asian,51,6/10/2021,\"$146,742 \",10%,China,Shanghai,\r\n",
            "E03496,Robert Yang,Sr. Analyst,Accounting,Speciality Products,Male,Asian,31,11/4/2017,\"$97,078 \",0%,United States,Austin,3/9/2020\r\n",
            "E00549,Isabella Xi,Vice President,Marketing,Research & Development,Female,Asian,41,3/13/2013,\"$249,270 \",30%,United States,Seattle,\r\n",
            "E00163,Bella Powell,Director,Finance,Research & Development,Female,Black,65,3/4/2002,\"$175,837 \",20%,United States,Phoenix,\r\n",
            "E00884,Camila Silva,Sr. Manger,Marketing,Speciality Products,Female,Latino,64,12/1/2003,\"$154,828 \",13%,United States,Seattle,\r\n",
            "E04116,David Barnes,Director,IT,Corporate,Male,Caucasian,64,11/3/2013,\"$186,503 \",24%,United States,Columbus,\r\n",
            "E04625,Adam Dang,Director,Sales,Research & Development,Male,Asian,45,7/9/2002,\"$166,331 \",18%,China,Chongqing,\r\n",
            "E03680,Elias Alvarado,Sr. Manger,IT,Manufacturing,Male,Latino,56,1/9/2012,\"$146,140 \",10%,Brazil,Manaus,\r\n",
            "E04732,Eva Rivera,Director,Sales,Manufacturing,Female,Latino,36,4/2/2021,\"$151,703 \",21%,United States,Miami,\r\n",
            "E03484,Logan Rivera,Director,IT,Research & Development,Male,Latino,59,5/24/2002,\"$172,787 \",28%,Brazil,Rio de Janerio,\r\n",
            "E00671,Leonardo Dixon,Analyst,Sales,Speciality Products,Male,Caucasian,37,9/5/2019,\"$49,998 \",0%,United States,Seattle,\r\n",
            "E02071,Mateo Her,Vice President,Sales,Speciality Products,Male,Asian,44,3/2/2014,\"$207,172 \",31%,China,Chongqing,\r\n",
            "E02206,Jose Henderson,Director,Human Resources,Speciality Products,Male,Black,41,4/17/2015,\"$152,239 \",23%,United States,Columbus,\r\n",
            "E04545,Abigail Mejia,Quality Engineer,Engineering,Corporate,Female,Latino,56,2/5/2005,\"$98,581 \",0%,Brazil,Rio de Janerio,\r\n",
            "E00154,Wyatt Chin,Vice President,Engineering,Speciality Products,Male,Asian,43,6/7/2004,\"$246,231 \",31%,United States,Seattle,\r\n",
            "E03343,Carson Lu,Engineering Manager,Engineering,Speciality Products,Male,Asian,64,12/4/1996,\"$99,354 \",12%,China,Beijing,\r\n",
            "E00304,Dylan Choi,Vice President,IT,Corporate,Male,Asian,63,5/11/2012,\"$231,141 \",34%,China,Beijing,\r\n",
            "E02594,Ezekiel Kumar,IT Coordinator,IT,Research & Development,Male,Asian,28,6/25/2017,\"$54,775 \",0%,United States,Columbus,\r\n",
            "E00402,Dominic Guzman,Analyst,Finance,Manufacturing,Male,Latino,65,5/16/2004,\"$55,499 \",0%,Brazil,Manaus,\r\n",
            "E01994,Angel Powell,Analyst II,Sales,Research & Development,Male,Caucasian,61,7/11/2008,\"$66,521 \",0%,United States,Seattle,\r\n",
            "E03549,Mateo Vu,Account Representative,Sales,Speciality Products,Male,Asian,30,9/29/2016,\"$59,100 \",0%,China,Chongqing,\r\n",
            "E03247,Caroline Jenkins,Analyst,Finance,Research & Development,Female,Caucasian,27,5/6/2018,\"$49,011 \",0%,United States,Chicago,\r\n",
            "E02074,Nora Brown,Enterprise Architect,IT,Manufacturing,Female,Caucasian,32,2/11/2014,\"$99,575 \",0%,United States,Austin,\r\n",
            "E04152,Adeline Huang,Controls Engineer,Engineering,Manufacturing,Female,Asian,34,12/16/2019,\"$99,989 \",0%,China,Chengdu,\r\n",
            "E01628,Jackson Perry,Vice President,Marketing,Research & Development,Male,Caucasian,27,10/20/2019,\"$256,420 \",30%,United States,Phoenix,\r\n",
            "E04285,Riley Padilla,Technical Architect,IT,Manufacturing,Female,Latino,35,5/15/2013,\"$78,940 \",0%,United States,Miami,\r\n",
            "\n",
            "aHR0cHM6Ly90cmFuc2xhdG9yc3RvcmUuYmxvYi5jb3JlLndpbmRvd3MubmV0L29wZW5haS1jb250MS9FbXBTYW1wbGVkYXRhLmNzdg2\n"
          ]
        }
      ],
      "source": [
        "#document= Document(page_content)\n",
        "\n",
        "page_content = docs[0].page_content\n",
        "\n",
        "file_path = docs[0].metadata['metadata_storage_path']\n",
        "print(page_content)\n",
        "print(file_path)"
      ]
    },
    {
      "cell_type": "code",
      "execution_count": null,
      "metadata": {
        "id": "BAZv_vps74Bn"
      },
      "outputs": [],
      "source": [
        "from langchain.llms import AzureOpenAI\n",
        "from langchain.embeddings import OpenAIEmbeddings\n",
        "from langchain.llms import OpenAI"
      ]
    },
    {
      "cell_type": "code",
      "execution_count": null,
      "metadata": {
        "id": "4pAbXksw7t-O"
      },
      "outputs": [],
      "source": [
        "import openai\n",
        "# Load environment variables\n",
        "\n",
        "# Configure OpenAI API\n",
        "openai.api_type = \"azure\"\n",
        "openai.api_version = \"2022-12-01\"\n",
        "openai.api_base = os.getenv(\"https://fileretrieval.openai.azure.com/\")\n",
        "OPENAI_API_KEY = openai.api_key = os.getenv(\"\")\n",
        "\n",
        "# Create a completion\n",
        "llm = AzureOpenAI(deployment_name=\"text-embedding-ada-002\",  openai_api_version=\"2023-03-15-preview\",openai_api_key=\"\")\n",
        "joke = llm(\"Tell me a dad joke\")\n",
        "print(joke)"
      ]
    },
    {
      "cell_type": "code",
      "execution_count": null,
      "metadata": {
        "id": "44WXEJiRHJwg"
      },
      "outputs": [],
      "source": [
        "os.environ[\"OPENAI_API_KEY\"] = \"\""
      ]
    },
    {
      "cell_type": "code",
      "execution_count": null,
      "metadata": {
        "colab": {
          "base_uri": "https://localhost:8080/",
          "height": 70
        },
        "id": "MT7zxth06qsx",
        "outputId": "01c924a4-1927-4de2-e595-d0b0750299ee"
      },
      "outputs": [
        {
          "data": {
            "application/vnd.google.colaboratory.intrinsic+json": {
              "type": "string"
            },
            "text/plain": [
              "'Dominic Guzman is an Analyst in the Finance department of the Manufacturing business unit. He is a male of Latino ethnicity and is currently 65 years old. He was hired on May 16, 2004, and his annual salary is $55,499 with no bonus percentage specified. He is located in Manaus, Brazil.'"
            ]
          },
          "execution_count": 9,
          "metadata": {},
          "output_type": "execute_result"
        }
      ],
      "source": [
        "from langchain.llms.openai import OpenAIChat\n",
        "from langchain.llms import OpenAI\n",
        "from langchain.chat_models import ChatOpenAI\n",
        "qa = RetrievalQA.from_chain_type(llm=ChatOpenAI(model=\"gpt-3.5-turbo-16k\", temperature=0, max_tokens=3000), chain_type=\"stuff\", retriever=retriever)\n",
        "query = \"Dominic Guzman\"\n",
        "qa.run(query)"
      ]
    }
  ],
  "metadata": {
    "colab": {
      "provenance": []
    },
    "kernelspec": {
      "display_name": "Python 3",
      "name": "python3"
    },
    "language_info": {
      "name": "python"
    }
  },
  "nbformat": 4,
  "nbformat_minor": 0
}
